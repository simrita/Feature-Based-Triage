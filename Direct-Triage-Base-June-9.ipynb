{
 "cells": [
  {
   "cell_type": "code",
   "execution_count": 1,
   "metadata": {},
   "outputs": [
    {
     "name": "stdout",
     "output_type": "stream",
     "text": [
      "3.7.10\n"
     ]
    }
   ],
   "source": [
    "from platform import python_version\n",
    "print(python_version())"
   ]
  },
  {
   "cell_type": "markdown",
   "metadata": {},
   "source": [
    "A: The usage of the data set is unrestricted. But you should provide the link to our original download site, acknowledge the NIH Clinical Center and provide a citation to our CVPR 2017 paper"
   ]
  },
  {
   "cell_type": "markdown",
   "metadata": {},
   "source": [
    "A: ‘No finding’ means the 14 listed disease patterns are not found in the image. "
   ]
  },
  {
   "cell_type": "markdown",
   "metadata": {},
   "source": [
    "https://www.kaggle.com/nih-chest-xrays/data\n",
    "\n",
    "Citations\n",
    "Wang X, Peng Y, Lu L, Lu Z, Bagheri M, Summers RM. ChestX-ray8: Hospital-scale Chest X-ray Database and Benchmarks on Weakly-Supervised Classification and Localization of Common Thorax Diseases. IEEE CVPR 2017, ChestX-ray8_Hospital-Scale_Chest_CVPR_2017_paper.pdf\n",
    "\n",
    "NIH News release: NIH Clinical Center provides one of the largest publicly available chest x-ray datasets to scientific community\n",
    "\n",
    "Original source files and documents: https://nihcc.app.box.com/v/ChestXray-NIHCC/folder/36938765345"
   ]
  },
  {
   "cell_type": "markdown",
   "metadata": {},
   "source": [
    "### Context Behind Dataset for Final Writeup:"
   ]
  },
  {
   "cell_type": "markdown",
   "metadata": {},
   "source": [
    "Dataset was gathered by the NIH and contains over 100,000 anonymized chest x-ray images from more than 30,000 patients.  "
   ]
  },
  {
   "cell_type": "markdown",
   "metadata": {
    "_cell_guid": "19ff9d0b-d32d-4325-a19f-2ccbfa7d2dff",
    "_uuid": "9206c5863724e1af01281071e0f0ee5109ef431b"
   },
   "source": [
    "# Goal\n",
    "The goal is to use a simple model to classify x-ray images in Keras"
   ]
  },
  {
   "cell_type": "code",
   "execution_count": 2,
   "metadata": {
    "_cell_guid": "f42f6560-edf0-4efb-85a6-6e945e50895b",
    "_uuid": "3300a1edbf2e8122d88093998eb503a6fab8a719"
   },
   "outputs": [
    {
     "name": "stderr",
     "output_type": "stream",
     "text": [
      "\n",
      "Bad key \"text.kerning_factor\" on line 4 in\n",
      "/home/ubuntu/anaconda3/lib/python3.7/site-packages/matplotlib/mpl-data/stylelib/_classic_test_patch.mplstyle.\n",
      "You probably need to get an updated matplotlibrc file from\n",
      "http://github.com/matplotlib/matplotlib/blob/master/matplotlibrc.template\n",
      "or from the matplotlib source distribution\n"
     ]
    }
   ],
   "source": [
    "import numpy as np # linear algebra\n",
    "import pandas as pd # data processing, CSV file I/O (e.g. pd.read_csv)\n",
    "import os\n",
    "from glob import glob\n",
    "%matplotlib inline\n",
    "import matplotlib.pyplot as plt"
   ]
  },
  {
   "cell_type": "code",
   "execution_count": 3,
   "metadata": {},
   "outputs": [],
   "source": [
    "import tensorflow"
   ]
  },
  {
   "cell_type": "code",
   "execution_count": 4,
   "metadata": {},
   "outputs": [
    {
     "data": {
      "text/plain": [
       "[('00018942_001.png', '../data/images_009/images/00018942_001.png'),\n",
       " ('00020323_001.png', '../data/images_009/images/00020323_001.png'),\n",
       " ('00018730_001.png', '../data/images_009/images/00018730_001.png'),\n",
       " ('00019551_000.png', '../data/images_009/images/00019551_000.png')]"
      ]
     },
     "execution_count": 4,
     "metadata": {},
     "output_type": "execute_result"
    }
   ],
   "source": [
    "all_xray_df = pd.read_csv('../data/Data_Entry_2017.csv')\n",
    "folderlist = glob(os.path.join('../data', 'images*'))\n",
    "imglist = []\n",
    "for folder in folderlist:\n",
    "    tmp = glob(os.path.join(folder, \"images\", \"*.png\"))\n",
    "    imglist += tmp\n",
    "all_image_paths = {os.path.basename(x): x for x in imglist}\n",
    "#{k:all_image_paths[k] for k in all_image_paths.keys()[:5]}\n",
    "list(all_image_paths.items())[:4]\n",
    "# all_image_paths = {os.path.basename(x): x for x in \n",
    "#                    glob(os.path.join('.', 'data', 'images*', '*.png'))}\n",
    "\n"
   ]
  },
  {
   "cell_type": "code",
   "execution_count": 5,
   "metadata": {},
   "outputs": [
    {
     "name": "stdout",
     "output_type": "stream",
     "text": [
      "Scans found: 112120 , Total Headers 112120\n",
      "[('00002587_005.png', '../data/images_002/images/00002587_005.png'), ('00002588_000.png', '../data/images_002/images/00002588_000.png'), ('00002589_000.png', '../data/images_002/images/00002589_000.png'), ('00002589_001.png', '../data/images_002/images/00002589_001.png')]\n"
     ]
    },
    {
     "data": {
      "text/html": [
       "<div>\n",
       "<style scoped>\n",
       "    .dataframe tbody tr th:only-of-type {\n",
       "        vertical-align: middle;\n",
       "    }\n",
       "\n",
       "    .dataframe tbody tr th {\n",
       "        vertical-align: top;\n",
       "    }\n",
       "\n",
       "    .dataframe thead th {\n",
       "        text-align: right;\n",
       "    }\n",
       "</style>\n",
       "<table border=\"1\" class=\"dataframe\">\n",
       "  <thead>\n",
       "    <tr style=\"text-align: right;\">\n",
       "      <th></th>\n",
       "      <th>Image Index</th>\n",
       "      <th>Finding Labels</th>\n",
       "      <th>Follow-up #</th>\n",
       "      <th>Patient ID</th>\n",
       "      <th>Patient Age</th>\n",
       "      <th>Patient Gender</th>\n",
       "      <th>View Position</th>\n",
       "      <th>OriginalImage[Width</th>\n",
       "      <th>Height]</th>\n",
       "      <th>OriginalImagePixelSpacing[x</th>\n",
       "      <th>y]</th>\n",
       "      <th>Unnamed: 11</th>\n",
       "      <th>path</th>\n",
       "    </tr>\n",
       "  </thead>\n",
       "  <tbody>\n",
       "    <tr>\n",
       "      <th>104552</th>\n",
       "      <td>00027969_003.png</td>\n",
       "      <td>No Finding</td>\n",
       "      <td>3</td>\n",
       "      <td>27969</td>\n",
       "      <td>56</td>\n",
       "      <td>M</td>\n",
       "      <td>PA</td>\n",
       "      <td>2021</td>\n",
       "      <td>2021</td>\n",
       "      <td>0.194311</td>\n",
       "      <td>0.194311</td>\n",
       "      <td>NaN</td>\n",
       "      <td>../data/images_011/images/00027969_003.png</td>\n",
       "    </tr>\n",
       "    <tr>\n",
       "      <th>39970</th>\n",
       "      <td>00010447_000.png</td>\n",
       "      <td>Mass</td>\n",
       "      <td>0</td>\n",
       "      <td>10447</td>\n",
       "      <td>62</td>\n",
       "      <td>F</td>\n",
       "      <td>AP</td>\n",
       "      <td>2500</td>\n",
       "      <td>2048</td>\n",
       "      <td>0.168000</td>\n",
       "      <td>0.168000</td>\n",
       "      <td>NaN</td>\n",
       "      <td>../data/images_005/images/00010447_000.png</td>\n",
       "    </tr>\n",
       "    <tr>\n",
       "      <th>74088</th>\n",
       "      <td>00018218_000.png</td>\n",
       "      <td>Atelectasis</td>\n",
       "      <td>0</td>\n",
       "      <td>18218</td>\n",
       "      <td>63</td>\n",
       "      <td>M</td>\n",
       "      <td>PA</td>\n",
       "      <td>2992</td>\n",
       "      <td>2991</td>\n",
       "      <td>0.143000</td>\n",
       "      <td>0.143000</td>\n",
       "      <td>NaN</td>\n",
       "      <td>../data/images_008/images/00018218_000.png</td>\n",
       "    </tr>\n",
       "  </tbody>\n",
       "</table>\n",
       "</div>"
      ],
      "text/plain": [
       "             Image Index Finding Labels  Follow-up #  Patient ID  Patient Age  \\\n",
       "104552  00027969_003.png     No Finding            3       27969           56   \n",
       "39970   00010447_000.png           Mass            0       10447           62   \n",
       "74088   00018218_000.png    Atelectasis            0       18218           63   \n",
       "\n",
       "       Patient Gender View Position  OriginalImage[Width  Height]  \\\n",
       "104552              M            PA                 2021     2021   \n",
       "39970               F            AP                 2500     2048   \n",
       "74088               M            PA                 2992     2991   \n",
       "\n",
       "        OriginalImagePixelSpacing[x        y]  Unnamed: 11  \\\n",
       "104552                     0.194311  0.194311          NaN   \n",
       "39970                      0.168000  0.168000          NaN   \n",
       "74088                      0.143000  0.143000          NaN   \n",
       "\n",
       "                                              path  \n",
       "104552  ../data/images_011/images/00027969_003.png  \n",
       "39970   ../data/images_005/images/00010447_000.png  \n",
       "74088   ../data/images_008/images/00018218_000.png  "
      ]
     },
     "execution_count": 5,
     "metadata": {},
     "output_type": "execute_result"
    }
   ],
   "source": [
    "print('Scans found:', len(all_image_paths), ', Total Headers', all_xray_df.shape[0])\n",
    "num_selected = 10000\n",
    "tmp = {key: all_image_paths[key] for key in sorted(list(all_image_paths.keys()))[num_selected:]}\n",
    "print(list(tmp.items())[:4])\n",
    "all_xray_df['path'] = all_xray_df['Image Index'][num_selected:].map(tmp.get)\n",
    "all_xray_df = all_xray_df[num_selected:]\n",
    "all_xray_df.sample(3)"
   ]
  },
  {
   "cell_type": "code",
   "execution_count": 6,
   "metadata": {
    "scrolled": true
   },
   "outputs": [
    {
     "data": {
      "text/plain": [
       "No Finding                                                                          54652\n",
       "Infiltration                                                                         8734\n",
       "Atelectasis                                                                          3848\n",
       "Effusion                                                                             3659\n",
       "Nodule                                                                               2495\n",
       "Mass                                                                                 2015\n",
       "Pneumothorax                                                                         1972\n",
       "Effusion|Infiltration                                                                1511\n",
       "Atelectasis|Infiltration                                                             1237\n",
       "Consolidation                                                                        1199\n",
       "Atelectasis|Effusion                                                                 1091\n",
       "Pleural_Thickening                                                                   1004\n",
       "Cardiomegaly                                                                          981\n",
       "Emphysema                                                                             795\n",
       "Infiltration|Nodule                                                                   764\n",
       "Atelectasis|Effusion|Infiltration                                                     696\n",
       "Edema                                                                                 590\n",
       "Fibrosis                                                                              580\n",
       "Cardiomegaly|Effusion                                                                 431\n",
       "Effusion|Mass                                                                         390\n",
       "Infiltration|Mass                                                                     390\n",
       "Consolidation|Infiltration                                                            389\n",
       "Effusion|Pneumothorax                                                                 384\n",
       "Mass|Nodule                                                                           380\n",
       "Edema|Infiltration                                                                    371\n",
       "Atelectasis|Consolidation                                                             363\n",
       "Emphysema|Pneumothorax                                                                313\n",
       "Infiltration|Pneumothorax                                                             312\n",
       "Consolidation|Effusion                                                                306\n",
       "Pneumonia                                                                             283\n",
       "                                                                                    ...  \n",
       "Atelectasis|Consolidation|Emphysema|Mass|Pleural_Thickening                             1\n",
       "Atelectasis|Edema|Emphysema|Pneumothorax                                                1\n",
       "Atelectasis|Emphysema|Fibrosis                                                          1\n",
       "Atelectasis|Nodule|Mass                                                                 1\n",
       "Effusion|Infiltration|Mass|Nodule|Pneumonia                                             1\n",
       "Effusion|Nodule|Pneumonia                                                               1\n",
       "Emphysema|Nodule|Pleural_Thickening|Pneumothorax                                        1\n",
       "Atelectasis|Consolidation|Mass|Pleural_Thickening|Pneumothorax                          1\n",
       "Atelectasis|Hernia|Mass                                                                 1\n",
       "Effusion|Emphysema|Fibrosis|Nodule|Pneumothorax                                         1\n",
       "Edema|Effusion|Mass|Pneumothorax                                                        1\n",
       "Atelectasis|Emphysema|Fibrosis|Nodule                                                   1\n",
       "Consolidation|Effusion|Emphysema|Mass                                                   1\n",
       "Cardiomegaly|Consolidation|Effusion|Infiltration|Pleural_Thickening                     1\n",
       "Cardiomegaly|Edema|Effusion|Pneumonia                                                   1\n",
       "Consolidation|Effusion|Mass|Nodule|Pneumothorax                                         1\n",
       "Edema|Fibrosis|Infiltration                                                             1\n",
       "Atelectasis|Edema|Pneumonia                                                             1\n",
       "Atelectasis|Consolidation|Effusion|Fibrosis|Infiltration|Mass|Pleural_Thickening        1\n",
       "Hernia|Infiltration|Nodule                                                              1\n",
       "Atelectasis|Consolidation|Pleural_Thickening|Pneumothorax                               1\n",
       "Edema|Effusion|Pleural_Thickening|Pneumonia|Pneumothorax                                1\n",
       "Atelectasis|Cardiomegaly|Consolidation|Effusion|Infiltration|Pneumonia                  1\n",
       "Effusion|Hernia|Pneumonia                                                               1\n",
       "Edema|Effusion|Infiltration|Mass|Pneumonia                                              1\n",
       "Consolidation|Emphysema|Infiltration|Nodule|Pleural_Thickening|Pneumothorax             1\n",
       "Emphysema|Fibrosis|Infiltration|Pneumothorax                                            1\n",
       "Cardiomegaly|Edema|Effusion|Infiltration|Mass|Pleural_Thickening|Pneumonia              1\n",
       "Effusion|Fibrosis|Nodule                                                                1\n",
       "Edema|Effusion|Nodule|Mass                                                              1\n",
       "Name: Finding Labels, Length: 807, dtype: int64"
      ]
     },
     "execution_count": 6,
     "metadata": {},
     "output_type": "execute_result"
    }
   ],
   "source": [
    "label_counts = all_xray_df['Finding Labels'].value_counts()\n",
    "label_counts"
   ]
  },
  {
   "cell_type": "markdown",
   "metadata": {
    "_cell_guid": "0d674a43-170f-4ca6-a9b4-edc64ab89c35",
    "_uuid": "9a1669750b7cffcae1b7a2eb4307b85472dff192"
   },
   "source": [
    "# Preprocessing Labels\n",
    "Here we take the labels and make them into a more clear format. The primary step is to see the distribution of findings and then to convert them to simple binary labels"
   ]
  },
  {
   "cell_type": "code",
   "execution_count": 7,
   "metadata": {
    "_cell_guid": "d75ed03e-986d-4f3f-81af-c910d194f390",
    "_uuid": "0c5123f65edf349f8ad2e5c5f55ac484d974f5c7"
   },
   "outputs": [
    {
     "data": {
      "image/png": "[encoded data removed]",
      "text/plain": [
       "<Figure size 864x576 with 1 Axes>"
      ]
     },
     "metadata": {
      "needs_background": "light"
     },
     "output_type": "display_data"
    }
   ],
   "source": [
    "label_counts = all_xray_df['Finding Labels'].value_counts()[:15]\n",
    "fig, ax1 = plt.subplots(1,1,figsize = (12, 8))\n",
    "ax1.bar(np.arange(len(label_counts))+0.5, label_counts)\n",
    "ax1.set_xticks(np.arange(len(label_counts))+0.5)\n",
    "_ = ax1.set_xticklabels(label_counts.index, rotation = 90)"
   ]
  },
  {
   "cell_type": "code",
   "execution_count": 8,
   "metadata": {},
   "outputs": [],
   "source": [
    "n_priorities = 4\n",
    "priority1=['Pneumothorax']\n",
    "priority2=['Pneumonia','Edema']\n",
    "priority3=['Atelectasis','Cardiomegaly','Consolidation','Effusion','Emphysema','Fibrosis','Infiltration','Mass','Nodule','Pleural_Thickening']\n",
    "priority4=['No Finding']"
   ]
  },
  {
   "cell_type": "code",
   "execution_count": 9,
   "metadata": {},
   "outputs": [],
   "source": [
    "def priority_val(x):\n",
    "    if any(item in priority1 for item in x):\n",
    "        return 'priority1'\n",
    "    elif any(item in priority2 for item in x):\n",
    "        return 'priority2'\n",
    "    elif any(item in priority3 for item in x):\n",
    "        return 'priority3'\n",
    "    elif any(item in priority4 for item in x):\n",
    "        return 'priority4'\n",
    "    \n",
    "    "
   ]
  },
  {
   "cell_type": "code",
   "execution_count": 10,
   "metadata": {},
   "outputs": [
    {
     "data": {
      "text/plain": [
       "12561    priority3\n",
       "70088    priority4\n",
       "11705    priority4\n",
       "Name: Priority Label, dtype: object"
      ]
     },
     "execution_count": 10,
     "metadata": {},
     "output_type": "execute_result"
    }
   ],
   "source": [
    "from itertools import chain\n",
    "all_xray_df['Priority Label']=all_xray_df['Finding Labels'].map(lambda x: priority_val(x.split('|')))\n",
    "all_xray_df['Priority Label'].sample(3)"
   ]
  },
  {
   "cell_type": "code",
   "execution_count": 11,
   "metadata": {
    "_cell_guid": "a9ff3a04-254d-4667-b0a3-869bbd92b08b",
    "_uuid": "78b4425b0a8932bb33864b5a3712611004687a48"
   },
   "outputs": [
    {
     "name": "stdout",
     "output_type": "stream",
     "text": [
      "All Labels (15): ['Atelectasis', 'Cardiomegaly', 'Consolidation', 'Edema', 'Effusion', 'Emphysema', 'Fibrosis', 'Hernia', 'Infiltration', 'Mass', 'No Finding', 'Nodule', 'Pleural_Thickening', 'Pneumonia', 'Pneumothorax']\n"
     ]
    },
    {
     "data": {
      "text/html": [
       "<div>\n",
       "<style scoped>\n",
       "    .dataframe tbody tr th:only-of-type {\n",
       "        vertical-align: middle;\n",
       "    }\n",
       "\n",
       "    .dataframe tbody tr th {\n",
       "        vertical-align: top;\n",
       "    }\n",
       "\n",
       "    .dataframe thead th {\n",
       "        text-align: right;\n",
       "    }\n",
       "</style>\n",
       "<table border=\"1\" class=\"dataframe\">\n",
       "  <thead>\n",
       "    <tr style=\"text-align: right;\">\n",
       "      <th></th>\n",
       "      <th>Image Index</th>\n",
       "      <th>Finding Labels</th>\n",
       "      <th>Follow-up #</th>\n",
       "      <th>Patient ID</th>\n",
       "      <th>Patient Age</th>\n",
       "      <th>Patient Gender</th>\n",
       "      <th>View Position</th>\n",
       "      <th>OriginalImage[Width</th>\n",
       "      <th>Height]</th>\n",
       "      <th>OriginalImagePixelSpacing[x</th>\n",
       "      <th>...</th>\n",
       "      <th>Emphysema</th>\n",
       "      <th>Fibrosis</th>\n",
       "      <th>Hernia</th>\n",
       "      <th>Infiltration</th>\n",
       "      <th>Mass</th>\n",
       "      <th>No Finding</th>\n",
       "      <th>Nodule</th>\n",
       "      <th>Pleural_Thickening</th>\n",
       "      <th>Pneumonia</th>\n",
       "      <th>Pneumothorax</th>\n",
       "    </tr>\n",
       "  </thead>\n",
       "  <tbody>\n",
       "    <tr>\n",
       "      <th>23641</th>\n",
       "      <td>00006260_002.png</td>\n",
       "      <td>No Finding</td>\n",
       "      <td>2</td>\n",
       "      <td>6260</td>\n",
       "      <td>63</td>\n",
       "      <td>M</td>\n",
       "      <td>PA</td>\n",
       "      <td>2992</td>\n",
       "      <td>2991</td>\n",
       "      <td>0.143</td>\n",
       "      <td>...</td>\n",
       "      <td>0.0</td>\n",
       "      <td>0.0</td>\n",
       "      <td>0.0</td>\n",
       "      <td>0.0</td>\n",
       "      <td>0.0</td>\n",
       "      <td>1.0</td>\n",
       "      <td>0.0</td>\n",
       "      <td>0.0</td>\n",
       "      <td>0.0</td>\n",
       "      <td>0.0</td>\n",
       "    </tr>\n",
       "    <tr>\n",
       "      <th>71429</th>\n",
       "      <td>00017606_032.png</td>\n",
       "      <td>No Finding</td>\n",
       "      <td>32</td>\n",
       "      <td>17606</td>\n",
       "      <td>56</td>\n",
       "      <td>M</td>\n",
       "      <td>AP</td>\n",
       "      <td>2500</td>\n",
       "      <td>2048</td>\n",
       "      <td>0.168</td>\n",
       "      <td>...</td>\n",
       "      <td>0.0</td>\n",
       "      <td>0.0</td>\n",
       "      <td>0.0</td>\n",
       "      <td>0.0</td>\n",
       "      <td>0.0</td>\n",
       "      <td>1.0</td>\n",
       "      <td>0.0</td>\n",
       "      <td>0.0</td>\n",
       "      <td>0.0</td>\n",
       "      <td>0.0</td>\n",
       "    </tr>\n",
       "    <tr>\n",
       "      <th>91780</th>\n",
       "      <td>00022883_009.png</td>\n",
       "      <td>No Finding</td>\n",
       "      <td>9</td>\n",
       "      <td>22883</td>\n",
       "      <td>67</td>\n",
       "      <td>M</td>\n",
       "      <td>AP</td>\n",
       "      <td>3056</td>\n",
       "      <td>2544</td>\n",
       "      <td>0.139</td>\n",
       "      <td>...</td>\n",
       "      <td>0.0</td>\n",
       "      <td>0.0</td>\n",
       "      <td>0.0</td>\n",
       "      <td>0.0</td>\n",
       "      <td>0.0</td>\n",
       "      <td>1.0</td>\n",
       "      <td>0.0</td>\n",
       "      <td>0.0</td>\n",
       "      <td>0.0</td>\n",
       "      <td>0.0</td>\n",
       "    </tr>\n",
       "  </tbody>\n",
       "</table>\n",
       "<p>3 rows × 29 columns</p>\n",
       "</div>"
      ],
      "text/plain": [
       "            Image Index Finding Labels  Follow-up #  Patient ID  Patient Age  \\\n",
       "23641  00006260_002.png     No Finding            2        6260           63   \n",
       "71429  00017606_032.png     No Finding           32       17606           56   \n",
       "91780  00022883_009.png     No Finding            9       22883           67   \n",
       "\n",
       "      Patient Gender View Position  OriginalImage[Width  Height]  \\\n",
       "23641              M            PA                 2992     2991   \n",
       "71429              M            AP                 2500     2048   \n",
       "91780              M            AP                 3056     2544   \n",
       "\n",
       "       OriginalImagePixelSpacing[x  ...  Emphysema  Fibrosis Hernia  \\\n",
       "23641                        0.143  ...        0.0       0.0    0.0   \n",
       "71429                        0.168  ...        0.0       0.0    0.0   \n",
       "91780                        0.139  ...        0.0       0.0    0.0   \n",
       "\n",
       "      Infiltration  Mass  No Finding  Nodule  Pleural_Thickening  Pneumonia  \\\n",
       "23641          0.0   0.0         1.0     0.0                 0.0        0.0   \n",
       "71429          0.0   0.0         1.0     0.0                 0.0        0.0   \n",
       "91780          0.0   0.0         1.0     0.0                 0.0        0.0   \n",
       "\n",
       "       Pneumothorax  \n",
       "23641           0.0  \n",
       "71429           0.0  \n",
       "91780           0.0  \n",
       "\n",
       "[3 rows x 29 columns]"
      ]
     },
     "execution_count": 11,
     "metadata": {},
     "output_type": "execute_result"
    }
   ],
   "source": [
    "#all_xray_df['Finding Labels'] = all_xray_df['Finding Labels'].map(lambda x: x.replace('No Finding', ''))\n",
    "from itertools import chain\n",
    "all_labels = np.unique(list(chain(*all_xray_df['Finding Labels'].map(lambda x: x.split('|')).tolist())))\n",
    "all_labels = [x for x in all_labels if len(x)>0]\n",
    "print('All Labels ({}): {}'.format(len(all_labels), all_labels))\n",
    "for c_label in all_labels:\n",
    "    if len(c_label)>1: # leave out empty labels\n",
    "        all_xray_df[c_label] = all_xray_df['Finding Labels'].map(lambda finding: 1.0 if c_label in finding else 0)\n",
    "all_xray_df.sample(3)"
   ]
  },
  {
   "cell_type": "code",
   "execution_count": 12,
   "metadata": {},
   "outputs": [
    {
     "data": {
      "text/plain": [
       "['Atelectasis',\n",
       " 'Cardiomegaly',\n",
       " 'Consolidation',\n",
       " 'Edema',\n",
       " 'Effusion',\n",
       " 'Emphysema',\n",
       " 'Fibrosis',\n",
       " 'Hernia',\n",
       " 'Infiltration',\n",
       " 'Mass',\n",
       " 'No Finding',\n",
       " 'Nodule',\n",
       " 'Pleural_Thickening',\n",
       " 'Pneumonia',\n",
       " 'Pneumothorax']"
      ]
     },
     "execution_count": 12,
     "metadata": {},
     "output_type": "execute_result"
    }
   ],
   "source": [
    "all_labels"
   ]
  },
  {
   "cell_type": "markdown",
   "metadata": {
    "_cell_guid": "05b6c7d9-4869-40b5-a70b-53957c69f021",
    "_uuid": "64653f9f57d3a5b952f1f1a709eb70ca38761a0d"
   },
   "source": [
    "### Clean categories\n",
    "Since we have too many categories, we can prune a few out by taking the ones with only a few examples"
   ]
  },
  {
   "cell_type": "code",
   "execution_count": 13,
   "metadata": {
    "_cell_guid": "dd273e26-63ab-4d76-925d-9c1c2c1ba69c",
    "_uuid": "9f368f9ea8947d8fc1dacf3988c58b6a2bf5fffc"
   },
   "outputs": [
    {
     "name": "stdout",
     "output_type": "stream",
     "text": [
      "Clean Labels (14) [('Atelectasis', 10670), ('Cardiomegaly', 2476), ('Consolidation', 4271), ('Edema', 2150), ('Effusion', 12410), ('Emphysema', 2295), ('Fibrosis', 1407), ('Infiltration', 18291), ('Mass', 5454), ('No Finding', 54652), ('Nodule', 5887), ('Pleural_Thickening', 3060), ('Pneumonia', 1296), ('Pneumothorax', 4862)]\n"
     ]
    }
   ],
   "source": [
    "# keep at least 1000 cases\n",
    "MIN_CASES = 1000\n",
    "all_labels = [c_label for c_label in all_labels if all_xray_df[c_label].sum()>MIN_CASES]\n",
    "print('Clean Labels ({})'.format(len(all_labels)), \n",
    "      [(c_label,int(all_xray_df[c_label].sum())) for c_label in all_labels])"
   ]
  },
  {
   "cell_type": "code",
   "execution_count": 14,
   "metadata": {},
   "outputs": [],
   "source": [
    "\n",
    "res = [i for i, val in enumerate(list(all_xray_df['Priority Label'])) if val == None]\n"
   ]
  },
  {
   "cell_type": "code",
   "execution_count": 15,
   "metadata": {},
   "outputs": [
    {
     "name": "stdout",
     "output_type": "stream",
     "text": [
      "[1589, 1590, 1591, 1592, 2428, 2525, 5023, 5024, 5579, 6034, 9541, 9590, 11551, 12815, 13240, 14244, 14781, 15532, 15536, 16160, 18209, 19618, 20263, 20280, 20754, 22253, 22528, 23133, 23135, 23137, 24265, 27971, 28351, 36105, 36669, 37468, 39653, 40594, 40972, 42639, 43035, 43038, 43043, 43048, 44689, 44822, 44823, 44824, 46170, 46797, 48269, 59434, 59781, 62160, 63688, 64700, 67454, 67543, 67544, 70765, 73006, 74376, 74874, 74875, 74876, 74877, 76994, 77002, 77003, 78462, 78588, 78821, 81356, 84724, 84734, 84878, 87051, 90738, 90847, 92747, 93654, 95367, 97271, 97273, 97276, 97927, 98497, 99616]\n"
     ]
    }
   ],
   "source": [
    "all_xray_df['Priority Label']\n",
    "res = [i for i, val in enumerate(list(all_xray_df['Priority Label'])) if val == None]\n",
    "print(res)"
   ]
  },
  {
   "cell_type": "code",
   "execution_count": 16,
   "metadata": {},
   "outputs": [],
   "source": [
    "res = [i for i, val in enumerate(list(all_xray_df['Priority Label'])) if val == None]\n",
    "res\n",
    "rows=all_xray_df.index[res]\n",
    "all_xray_df=all_xray_df.drop(rows)"
   ]
  },
  {
   "cell_type": "code",
   "execution_count": 17,
   "metadata": {},
   "outputs": [
    {
     "data": {
      "text/html": [
       "<div>\n",
       "<style scoped>\n",
       "    .dataframe tbody tr th:only-of-type {\n",
       "        vertical-align: middle;\n",
       "    }\n",
       "\n",
       "    .dataframe tbody tr th {\n",
       "        vertical-align: top;\n",
       "    }\n",
       "\n",
       "    .dataframe thead th {\n",
       "        text-align: right;\n",
       "    }\n",
       "</style>\n",
       "<table border=\"1\" class=\"dataframe\">\n",
       "  <thead>\n",
       "    <tr style=\"text-align: right;\">\n",
       "      <th></th>\n",
       "      <th>Image Index</th>\n",
       "      <th>Finding Labels</th>\n",
       "      <th>Follow-up #</th>\n",
       "      <th>Patient ID</th>\n",
       "      <th>Patient Age</th>\n",
       "      <th>Patient Gender</th>\n",
       "      <th>View Position</th>\n",
       "      <th>OriginalImage[Width</th>\n",
       "      <th>Height]</th>\n",
       "      <th>OriginalImagePixelSpacing[x</th>\n",
       "      <th>...</th>\n",
       "      <th>Emphysema</th>\n",
       "      <th>Fibrosis</th>\n",
       "      <th>Hernia</th>\n",
       "      <th>Infiltration</th>\n",
       "      <th>Mass</th>\n",
       "      <th>No Finding</th>\n",
       "      <th>Nodule</th>\n",
       "      <th>Pleural_Thickening</th>\n",
       "      <th>Pneumonia</th>\n",
       "      <th>Pneumothorax</th>\n",
       "    </tr>\n",
       "  </thead>\n",
       "  <tbody>\n",
       "    <tr>\n",
       "      <th>18406</th>\n",
       "      <td>00004893_060.png</td>\n",
       "      <td>No Finding</td>\n",
       "      <td>60</td>\n",
       "      <td>4893</td>\n",
       "      <td>32</td>\n",
       "      <td>M</td>\n",
       "      <td>AP</td>\n",
       "      <td>2500</td>\n",
       "      <td>2048</td>\n",
       "      <td>0.168</td>\n",
       "      <td>...</td>\n",
       "      <td>0.0</td>\n",
       "      <td>0.0</td>\n",
       "      <td>0.0</td>\n",
       "      <td>0.0</td>\n",
       "      <td>0.0</td>\n",
       "      <td>1.0</td>\n",
       "      <td>0.0</td>\n",
       "      <td>0.0</td>\n",
       "      <td>0.0</td>\n",
       "      <td>0.0</td>\n",
       "    </tr>\n",
       "    <tr>\n",
       "      <th>92035</th>\n",
       "      <td>00022971_004.png</td>\n",
       "      <td>Infiltration</td>\n",
       "      <td>4</td>\n",
       "      <td>22971</td>\n",
       "      <td>62</td>\n",
       "      <td>M</td>\n",
       "      <td>PA</td>\n",
       "      <td>2992</td>\n",
       "      <td>2991</td>\n",
       "      <td>0.143</td>\n",
       "      <td>...</td>\n",
       "      <td>0.0</td>\n",
       "      <td>0.0</td>\n",
       "      <td>0.0</td>\n",
       "      <td>1.0</td>\n",
       "      <td>0.0</td>\n",
       "      <td>0.0</td>\n",
       "      <td>0.0</td>\n",
       "      <td>0.0</td>\n",
       "      <td>0.0</td>\n",
       "      <td>0.0</td>\n",
       "    </tr>\n",
       "    <tr>\n",
       "      <th>91930</th>\n",
       "      <td>00022931_000.png</td>\n",
       "      <td>Cardiomegaly</td>\n",
       "      <td>0</td>\n",
       "      <td>22931</td>\n",
       "      <td>25</td>\n",
       "      <td>M</td>\n",
       "      <td>PA</td>\n",
       "      <td>2992</td>\n",
       "      <td>2991</td>\n",
       "      <td>0.143</td>\n",
       "      <td>...</td>\n",
       "      <td>0.0</td>\n",
       "      <td>0.0</td>\n",
       "      <td>0.0</td>\n",
       "      <td>0.0</td>\n",
       "      <td>0.0</td>\n",
       "      <td>0.0</td>\n",
       "      <td>0.0</td>\n",
       "      <td>0.0</td>\n",
       "      <td>0.0</td>\n",
       "      <td>0.0</td>\n",
       "    </tr>\n",
       "  </tbody>\n",
       "</table>\n",
       "<p>3 rows × 29 columns</p>\n",
       "</div>"
      ],
      "text/plain": [
       "            Image Index Finding Labels  Follow-up #  Patient ID  Patient Age  \\\n",
       "18406  00004893_060.png     No Finding           60        4893           32   \n",
       "92035  00022971_004.png   Infiltration            4       22971           62   \n",
       "91930  00022931_000.png   Cardiomegaly            0       22931           25   \n",
       "\n",
       "      Patient Gender View Position  OriginalImage[Width  Height]  \\\n",
       "18406              M            AP                 2500     2048   \n",
       "92035              M            PA                 2992     2991   \n",
       "91930              M            PA                 2992     2991   \n",
       "\n",
       "       OriginalImagePixelSpacing[x  ...  Emphysema  Fibrosis Hernia  \\\n",
       "18406                        0.168  ...        0.0       0.0    0.0   \n",
       "92035                        0.143  ...        0.0       0.0    0.0   \n",
       "91930                        0.143  ...        0.0       0.0    0.0   \n",
       "\n",
       "      Infiltration  Mass  No Finding  Nodule  Pleural_Thickening  Pneumonia  \\\n",
       "18406          0.0   0.0         1.0     0.0                 0.0        0.0   \n",
       "92035          1.0   0.0         0.0     0.0                 0.0        0.0   \n",
       "91930          0.0   0.0         0.0     0.0                 0.0        0.0   \n",
       "\n",
       "       Pneumothorax  \n",
       "18406           0.0  \n",
       "92035           0.0  \n",
       "91930           0.0  \n",
       "\n",
       "[3 rows x 29 columns]"
      ]
     },
     "execution_count": 17,
     "metadata": {},
     "output_type": "execute_result"
    }
   ],
   "source": [
    "all_xray_df.sample(3)"
   ]
  },
  {
   "cell_type": "code",
   "execution_count": 18,
   "metadata": {},
   "outputs": [
    {
     "data": {
      "text/plain": [
       "array(['priority1', 'priority2', 'priority3', 'priority4'], dtype='<U9')"
      ]
     },
     "execution_count": 18,
     "metadata": {},
     "output_type": "execute_result"
    }
   ],
   "source": [
    "np.unique(list(all_xray_df['Priority Label']))"
   ]
  },
  {
   "cell_type": "code",
   "execution_count": 19,
   "metadata": {},
   "outputs": [
    {
     "data": {
      "text/plain": [
       "array(['priority1', 'priority2', 'priority3', 'priority4'], dtype=object)"
      ]
     },
     "execution_count": 19,
     "metadata": {},
     "output_type": "execute_result"
    }
   ],
   "source": [
    "all_priorities = np.unique(all_xray_df['Priority Label'])\n",
    "#all_priorities = [x for x in all_priorities if len(x)>0]\n",
    "all_priorities"
   ]
  },
  {
   "cell_type": "code",
   "execution_count": 20,
   "metadata": {},
   "outputs": [
    {
     "name": "stdout",
     "output_type": "stream",
     "text": [
      "All Priorities (4): ['priority1' 'priority2' 'priority3' 'priority4']\n"
     ]
    },
    {
     "data": {
      "text/html": [
       "<div>\n",
       "<style scoped>\n",
       "    .dataframe tbody tr th:only-of-type {\n",
       "        vertical-align: middle;\n",
       "    }\n",
       "\n",
       "    .dataframe tbody tr th {\n",
       "        vertical-align: top;\n",
       "    }\n",
       "\n",
       "    .dataframe thead th {\n",
       "        text-align: right;\n",
       "    }\n",
       "</style>\n",
       "<table border=\"1\" class=\"dataframe\">\n",
       "  <thead>\n",
       "    <tr style=\"text-align: right;\">\n",
       "      <th></th>\n",
       "      <th>Image Index</th>\n",
       "      <th>Finding Labels</th>\n",
       "      <th>Follow-up #</th>\n",
       "      <th>Patient ID</th>\n",
       "      <th>Patient Age</th>\n",
       "      <th>Patient Gender</th>\n",
       "      <th>View Position</th>\n",
       "      <th>OriginalImage[Width</th>\n",
       "      <th>Height]</th>\n",
       "      <th>OriginalImagePixelSpacing[x</th>\n",
       "      <th>...</th>\n",
       "      <th>Mass</th>\n",
       "      <th>No Finding</th>\n",
       "      <th>Nodule</th>\n",
       "      <th>Pleural_Thickening</th>\n",
       "      <th>Pneumonia</th>\n",
       "      <th>Pneumothorax</th>\n",
       "      <th>priority1</th>\n",
       "      <th>priority2</th>\n",
       "      <th>priority3</th>\n",
       "      <th>priority4</th>\n",
       "    </tr>\n",
       "  </thead>\n",
       "  <tbody>\n",
       "    <tr>\n",
       "      <th>40894</th>\n",
       "      <td>00010594_000.png</td>\n",
       "      <td>No Finding</td>\n",
       "      <td>0</td>\n",
       "      <td>10594</td>\n",
       "      <td>22</td>\n",
       "      <td>F</td>\n",
       "      <td>PA</td>\n",
       "      <td>2992</td>\n",
       "      <td>2991</td>\n",
       "      <td>0.143</td>\n",
       "      <td>...</td>\n",
       "      <td>0.0</td>\n",
       "      <td>1.0</td>\n",
       "      <td>0.0</td>\n",
       "      <td>0.0</td>\n",
       "      <td>0.0</td>\n",
       "      <td>0.0</td>\n",
       "      <td>0.0</td>\n",
       "      <td>0.0</td>\n",
       "      <td>0.0</td>\n",
       "      <td>1.0</td>\n",
       "    </tr>\n",
       "    <tr>\n",
       "      <th>77633</th>\n",
       "      <td>00019087_019.png</td>\n",
       "      <td>Infiltration</td>\n",
       "      <td>19</td>\n",
       "      <td>19087</td>\n",
       "      <td>33</td>\n",
       "      <td>M</td>\n",
       "      <td>AP</td>\n",
       "      <td>3056</td>\n",
       "      <td>2544</td>\n",
       "      <td>0.139</td>\n",
       "      <td>...</td>\n",
       "      <td>0.0</td>\n",
       "      <td>0.0</td>\n",
       "      <td>0.0</td>\n",
       "      <td>0.0</td>\n",
       "      <td>0.0</td>\n",
       "      <td>0.0</td>\n",
       "      <td>0.0</td>\n",
       "      <td>0.0</td>\n",
       "      <td>1.0</td>\n",
       "      <td>0.0</td>\n",
       "    </tr>\n",
       "    <tr>\n",
       "      <th>61434</th>\n",
       "      <td>00015163_000.png</td>\n",
       "      <td>Mass</td>\n",
       "      <td>0</td>\n",
       "      <td>15163</td>\n",
       "      <td>76</td>\n",
       "      <td>M</td>\n",
       "      <td>PA</td>\n",
       "      <td>2992</td>\n",
       "      <td>2991</td>\n",
       "      <td>0.143</td>\n",
       "      <td>...</td>\n",
       "      <td>1.0</td>\n",
       "      <td>0.0</td>\n",
       "      <td>0.0</td>\n",
       "      <td>0.0</td>\n",
       "      <td>0.0</td>\n",
       "      <td>0.0</td>\n",
       "      <td>0.0</td>\n",
       "      <td>0.0</td>\n",
       "      <td>1.0</td>\n",
       "      <td>0.0</td>\n",
       "    </tr>\n",
       "  </tbody>\n",
       "</table>\n",
       "<p>3 rows × 33 columns</p>\n",
       "</div>"
      ],
      "text/plain": [
       "            Image Index Finding Labels  Follow-up #  Patient ID  Patient Age  \\\n",
       "40894  00010594_000.png     No Finding            0       10594           22   \n",
       "77633  00019087_019.png   Infiltration           19       19087           33   \n",
       "61434  00015163_000.png           Mass            0       15163           76   \n",
       "\n",
       "      Patient Gender View Position  OriginalImage[Width  Height]  \\\n",
       "40894              F            PA                 2992     2991   \n",
       "77633              M            AP                 3056     2544   \n",
       "61434              M            PA                 2992     2991   \n",
       "\n",
       "       OriginalImagePixelSpacing[x  ...  Mass  No Finding Nodule  \\\n",
       "40894                        0.143  ...   0.0         1.0    0.0   \n",
       "77633                        0.139  ...   0.0         0.0    0.0   \n",
       "61434                        0.143  ...   1.0         0.0    0.0   \n",
       "\n",
       "      Pleural_Thickening  Pneumonia  Pneumothorax  priority1  priority2  \\\n",
       "40894                0.0        0.0           0.0        0.0        0.0   \n",
       "77633                0.0        0.0           0.0        0.0        0.0   \n",
       "61434                0.0        0.0           0.0        0.0        0.0   \n",
       "\n",
       "       priority3  priority4  \n",
       "40894        0.0        1.0  \n",
       "77633        1.0        0.0  \n",
       "61434        1.0        0.0  \n",
       "\n",
       "[3 rows x 33 columns]"
      ]
     },
     "execution_count": 20,
     "metadata": {},
     "output_type": "execute_result"
    }
   ],
   "source": [
    "print('All Priorities ({}): {}'.format(len(all_priorities), all_priorities))\n",
    "for p_label in all_priorities:\n",
    "    if len(p_label)>1: # leave out empty labels\n",
    "        all_xray_df[p_label] = all_xray_df['Priority Label'].map(lambda finding: 1.0 if p_label in finding else 0)\n",
    "all_xray_df.sample(3)"
   ]
  },
  {
   "cell_type": "code",
   "execution_count": 21,
   "metadata": {},
   "outputs": [
    {
     "name": "stdout",
     "output_type": "stream",
     "text": [
      "Atelectasis: 0.104575\n",
      "Cardiomegaly: 0.024267\n",
      "Consolidation: 0.041859\n",
      "Edema: 0.021072\n",
      "Effusion: 0.121629\n",
      "Emphysema: 0.022493\n",
      "Fibrosis: 0.013790\n",
      "Infiltration: 0.179267\n",
      "Mass: 0.053454\n",
      "No Finding: 0.535636\n",
      "Nodule: 0.057698\n",
      "Pleural_Thickening: 0.029991\n",
      "Pneumonia: 0.012702\n",
      "Pneumothorax: 0.047652\n",
      "[0.08259729 0.01916691 0.03306214 0.01664331 0.09606676 0.01776577\n",
      " 0.01089169 0.14159203 0.04221983 0.42306531 0.04557172 0.02368769\n",
      " 0.01003244 0.03763711]\n",
      "[0.04765172 0.0300886  0.3866238  0.53563588]\n"
     ]
    }
   ],
   "source": [
    "for c_label, s_count in zip(all_labels, np.mean(all_xray_df[all_labels].values,0)):\n",
    "    print('%s: %f' % (c_label, s_count))\n",
    "arrivals=np.array(np.mean(all_xray_df[all_labels].values,0))\n",
    "arrivals=arrivals/arrivals.sum(axis=0,keepdims=True)\n",
    "disease_priority=np.array([[0,0,1,0],[0,0,1,0],[0,0,1,0],[0,1,0,0],[0,0,1,0],\n",
    "                  [0,0,1,0],[0,0,1,0],[0,0,1,0],[0,0,1,0],[0,0,0,1],\n",
    "                  [0,0,1,0],[0,0,1,0],[0,1,0,0],[1,0,0,0]])\n",
    "print(arrivals)\n",
    "priority_arrivals=np.array(np.mean(all_xray_df[all_priorities].values,0))\n",
    "print(priority_arrivals)"
   ]
  },
  {
   "cell_type": "code",
   "execution_count": 22,
   "metadata": {},
   "outputs": [
    {
     "name": "stdout",
     "output_type": "stream",
     "text": [
      "Atelectasis           10670.0\n",
      "Cardiomegaly           2476.0\n",
      "Consolidation          4271.0\n",
      "Edema                  2150.0\n",
      "Effusion              12410.0\n",
      "Emphysema              2295.0\n",
      "Fibrosis               1407.0\n",
      "Infiltration          18291.0\n",
      "Mass                   5454.0\n",
      "No Finding            54652.0\n",
      "Nodule                 5887.0\n",
      "Pleural_Thickening     3060.0\n",
      "Pneumonia              1296.0\n",
      "Pneumothorax           4862.0\n",
      "dtype: float64\n",
      "priority1     4862.0\n",
      "priority2     3070.0\n",
      "priority3    39448.0\n",
      "priority4    54652.0\n",
      "dtype: float64\n"
     ]
    }
   ],
   "source": [
    "print(all_xray_df[all_labels].sum())\n",
    "print(all_xray_df[all_priorities].sum())"
   ]
  },
  {
   "cell_type": "code",
   "execution_count": 23,
   "metadata": {},
   "outputs": [],
   "source": [
    "all_xray_df1 = all_xray_df[all_xray_df['Priority Label'] == \"priority1\"].sample(frac=5,replace=True)\n"
   ]
  },
  {
   "cell_type": "code",
   "execution_count": 24,
   "metadata": {},
   "outputs": [],
   "source": [
    "all_xray_df2 = all_xray_df[all_xray_df['Priority Label'] == \"priority2\"].sample(frac=10,replace=True)"
   ]
  },
  {
   "cell_type": "code",
   "execution_count": 25,
   "metadata": {},
   "outputs": [],
   "source": [
    "all_xray_df3 = all_xray_df[all_xray_df['Priority Label'] == \"priority3\"].sample(frac=5,replace=True)"
   ]
  },
  {
   "cell_type": "code",
   "execution_count": 26,
   "metadata": {},
   "outputs": [],
   "source": [
    "all_xray_df_bal = pd.concat([all_xray_df,all_xray_df1,all_xray_df2,all_xray_df3],ignore_index=True)"
   ]
  },
  {
   "cell_type": "code",
   "execution_count": 27,
   "metadata": {},
   "outputs": [],
   "source": [
    "all_xray_df_bal=all_xray_df_bal.sample(frac=0.5)"
   ]
  },
  {
   "cell_type": "code",
   "execution_count": 28,
   "metadata": {},
   "outputs": [
    {
     "name": "stdout",
     "output_type": "stream",
     "text": [
      "priority1     14356.0\n",
      "priority2     16798.0\n",
      "priority3    118595.0\n",
      "priority4     27392.0\n",
      "dtype: float64\n"
     ]
    }
   ],
   "source": [
    "print(all_xray_df_bal[all_priorities].sum())"
   ]
  },
  {
   "cell_type": "code",
   "execution_count": 29,
   "metadata": {
    "scrolled": true
   },
   "outputs": [
    {
     "data": {
      "image/png": "[encoded data removed]",
      "text/plain": [
       "<Figure size 864x576 with 1 Axes>"
      ]
     },
     "metadata": {
      "needs_background": "light"
     },
     "output_type": "display_data"
    }
   ],
   "source": [
    "label_counts = all_xray_df_bal[all_priorities].sum()\n",
    "fig, ax1 = plt.subplots(1,1,figsize = (12, 8))\n",
    "ax1.bar(np.arange(len(label_counts))+0.5, label_counts)\n",
    "ax1.set_xticks(np.arange(len(label_counts))+0.5)\n",
    "_ = ax1.set_xticklabels(label_counts.index, rotation = 90)"
   ]
  },
  {
   "cell_type": "code",
   "execution_count": 30,
   "metadata": {
    "_cell_guid": "277caf38-f13d-4939-9eef-55efaf73020e",
    "_uuid": "cb9f18a64740580e1c541b8631d45720be5f36fe"
   },
   "outputs": [
    {
     "data": {
      "image/png": "[encoded data removed]",
      "text/plain": [
       "<Figure size 864x576 with 1 Axes>"
      ]
     },
     "metadata": {
      "needs_background": "light"
     },
     "output_type": "display_data"
    }
   ],
   "source": [
    "label_counts = 100*np.mean(all_xray_df_bal[all_labels].values,0)\n",
    "fig, ax1 = plt.subplots(1,1,figsize = (12, 8))\n",
    "ax1.bar(np.arange(len(label_counts))+0.5, label_counts)\n",
    "ax1.set_xticks(np.arange(len(label_counts))+0.5)\n",
    "ax1.set_xticklabels(all_labels, rotation = 90)\n",
    "ax1.set_title('Adjusted Frequency of Diseases in Patient Group')\n",
    "_ = ax1.set_ylabel('Frequency (%)')"
   ]
  },
  {
   "cell_type": "markdown",
   "metadata": {
    "_cell_guid": "a1367d63-4c7b-4e47-b19f-9a26d1f89476",
    "_uuid": "6ed6489bbd618fb419ceca2bbd8c300694f1d4ed",
    "scrolled": true
   },
   "source": [
    "# Prepare Training Data\n",
    "Here we split the data into training and validation sets and create a single vector (disease_vec) with the 0/1 outputs for the disease status (what the model will try and predict)"
   ]
  },
  {
   "cell_type": "code",
   "execution_count": 31,
   "metadata": {},
   "outputs": [],
   "source": [
    "all_xray_df['disease_vec'] = all_xray_df.apply(lambda x: [x[all_labels].values], 1).map(lambda x: x[0])\n",
    "all_xray_df['priority_vec'] = all_xray_df.apply(lambda x: [x[all_priorities].values], 1).map(lambda x: x[0])"
   ]
  },
  {
   "cell_type": "code",
   "execution_count": 32,
   "metadata": {},
   "outputs": [
    {
     "name": "stdout",
     "output_type": "stream",
     "text": [
      "75480     [0.0, 0.0, 0.0, 0.0, 0.0, 1.0, 0.0, 0.0, 1.0, ...\n",
      "111005    [0.0, 0.0, 0.0, 0.0, 0.0, 0.0, 0.0, 0.0, 0.0, ...\n",
      "79484     [0.0, 0.0, 1.0, 0.0, 0.0, 0.0, 0.0, 0.0, 1.0, ...\n",
      "Name: disease_vec, dtype: object\n",
      "55051    [0.0, 0.0, 1.0, 0.0]\n",
      "17807    [1.0, 0.0, 0.0, 0.0]\n",
      "74904    [0.0, 0.0, 0.0, 1.0]\n",
      "Name: priority_vec, dtype: object\n"
     ]
    }
   ],
   "source": [
    "print(all_xray_df['disease_vec'].sample(3))\n",
    "print(all_xray_df['priority_vec'].sample(3))"
   ]
  },
  {
   "cell_type": "code",
   "execution_count": 33,
   "metadata": {},
   "outputs": [],
   "source": [
    "all_xray_df_bal['disease_vec'] = all_xray_df_bal.apply(lambda x: [x[all_labels].values], 1).map(lambda x: x[0])\n",
    "all_xray_df_bal['priority_vec'] = all_xray_df_bal.apply(lambda x: [x[all_priorities].values], 1).map(lambda x: x[0])"
   ]
  },
  {
   "cell_type": "code",
   "execution_count": 34,
   "metadata": {},
   "outputs": [
    {
     "name": "stdout",
     "output_type": "stream",
     "text": [
      "343692    [0.0, 0.0, 0.0, 0.0, 0.0, 0.0, 0.0, 1.0, 0.0, ...\n",
      "148369    [0.0, 0.0, 0.0, 1.0, 0.0, 0.0, 0.0, 1.0, 0.0, ...\n",
      "296081    [0.0, 0.0, 0.0, 0.0, 1.0, 0.0, 0.0, 1.0, 1.0, ...\n",
      "Name: disease_vec, dtype: object\n",
      "323749    [0.0, 0.0, 1.0, 0.0]\n",
      "307353    [0.0, 0.0, 1.0, 0.0]\n",
      "17142     [0.0, 0.0, 1.0, 0.0]\n",
      "Name: priority_vec, dtype: object\n"
     ]
    }
   ],
   "source": [
    "print(all_xray_df_bal['disease_vec'].sample(3))\n",
    "print(all_xray_df_bal['priority_vec'].sample(3))"
   ]
  },
  {
   "cell_type": "code",
   "execution_count": 35,
   "metadata": {
    "_cell_guid": "5feddc96-7958-4d34-81f1-10eba94ab1b6",
    "_uuid": "8c7dc722de08243cc763d23928708f9c040bbdc6"
   },
   "outputs": [
    {
     "name": "stderr",
     "output_type": "stream",
     "text": [
      "/home/ubuntu/anaconda3/lib/python3.7/site-packages/sklearn/model_selection/_split.py:1462: DeprecationWarning: `np.int` is a deprecated alias for the builtin `int`. To silence this warning, use `int` by itself. Doing this will not modify any behavior and is safe. When replacing `np.int`, you may wish to use e.g. `np.int64` or `np.int32` to specify the precision. If you wish to review your current use, check the release note link for additional information.\n",
      "Deprecated in NumPy 1.20; for more details and guidance: https://numpy.org/devdocs/release/1.20.0-notes.html#deprecations\n",
      "  return floored.astype(np.int)\n",
      "/home/ubuntu/anaconda3/lib/python3.7/site-packages/sklearn/model_selection/_split.py:1462: DeprecationWarning: `np.int` is a deprecated alias for the builtin `int`. To silence this warning, use `int` by itself. Doing this will not modify any behavior and is safe. When replacing `np.int`, you may wish to use e.g. `np.int64` or `np.int32` to specify the precision. If you wish to review your current use, check the release note link for additional information.\n",
      "Deprecated in NumPy 1.20; for more details and guidance: https://numpy.org/devdocs/release/1.20.0-notes.html#deprecations\n",
      "  return floored.astype(np.int)\n"
     ]
    }
   ],
   "source": [
    "df=all_xray_df.sample(40000)\n",
    "from sklearn.model_selection import train_test_split\n",
    "valid_df, test_df = train_test_split(df, \n",
    "                                   test_size = 0.5, \n",
    "                                   random_state = 2018,\n",
    "                                   stratify = df['Priority Label'])"
   ]
  },
  {
   "cell_type": "code",
   "execution_count": 36,
   "metadata": {},
   "outputs": [],
   "source": [
    "train_df = all_xray_df_bal"
   ]
  },
  {
   "cell_type": "code",
   "execution_count": 37,
   "metadata": {},
   "outputs": [
    {
     "name": "stdout",
     "output_type": "stream",
     "text": [
      "train (177141, 35) validation (20000, 35) test (20000, 35)\n"
     ]
    }
   ],
   "source": [
    "print('train', train_df.shape, 'validation', valid_df.shape,'test', test_df.shape)"
   ]
  },
  {
   "cell_type": "code",
   "execution_count": 38,
   "metadata": {},
   "outputs": [
    {
     "name": "stdout",
     "output_type": "stream",
     "text": [
      "             Image Index Finding Labels  Follow-up #  Patient ID  Patient Age  \\\n",
      "11748   00005773_013.png       Effusion           13        5773           37   \n",
      "346179  00025169_001.png   Infiltration            1       25169           60   \n",
      "127133  00011632_018.png          Edema           18       11632           57   \n",
      "\n",
      "       Patient Gender View Position  OriginalImage[Width  Height]  \\\n",
      "11748               F            AP                 2500     2048   \n",
      "346179              F            PA                 2992     2991   \n",
      "127133              M            AP                 2500     2048   \n",
      "\n",
      "        OriginalImagePixelSpacing[x  ...  Pneumonia  Pneumothorax priority1  \\\n",
      "11748                         0.168  ...        0.0           0.0       0.0   \n",
      "346179                        0.143  ...        0.0           0.0       0.0   \n",
      "127133                        0.168  ...        0.0           0.0       0.0   \n",
      "\n",
      "       priority2  priority3  priority4  \\\n",
      "11748        0.0        1.0        0.0   \n",
      "346179       0.0        1.0        0.0   \n",
      "127133       1.0        0.0        0.0   \n",
      "\n",
      "                                              disease_vec  \\\n",
      "11748   [0.0, 0.0, 0.0, 0.0, 1.0, 0.0, 0.0, 0.0, 0.0, ...   \n",
      "346179  [0.0, 0.0, 0.0, 0.0, 0.0, 0.0, 0.0, 1.0, 0.0, ...   \n",
      "127133  [0.0, 0.0, 0.0, 1.0, 0.0, 0.0, 0.0, 0.0, 0.0, ...   \n",
      "\n",
      "                priority_vec        newLabel  newLabelP  \n",
      "11748   [0.0, 0.0, 1.0, 0.0]      [Effusion]  priority3  \n",
      "346179  [0.0, 0.0, 1.0, 0.0]  [Infiltration]  priority3  \n",
      "127133  [0.0, 1.0, 0.0, 0.0]         [Edema]  priority2  \n",
      "\n",
      "[3 rows x 37 columns]\n"
     ]
    }
   ],
   "source": [
    "train_df['newLabel'] = train_df.apply(lambda x: x['Finding Labels'].split('|'), axis=1)\n",
    "train_df['newLabelP'] = train_df['Priority Label']\n",
    "print(train_df.sample(3))"
   ]
  },
  {
   "cell_type": "code",
   "execution_count": 39,
   "metadata": {},
   "outputs": [
    {
     "name": "stdout",
     "output_type": "stream",
     "text": [
      "             Image Index Finding Labels  Follow-up #  Patient ID  Patient Age  \\\n",
      "39209   00010289_000.png     No Finding            0       10289           48   \n",
      "25515   00006712_000.png           Mass            0        6712           44   \n",
      "106085  00028549_005.png   Cardiomegaly            5       28549           33   \n",
      "\n",
      "       Patient Gender View Position  OriginalImage[Width  Height]  \\\n",
      "39209               M            PA                 2992     2991   \n",
      "25515               M            PA                 2500     2048   \n",
      "106085              F            AP                 3056     2544   \n",
      "\n",
      "        OriginalImagePixelSpacing[x  ...  Pneumonia  Pneumothorax priority1  \\\n",
      "39209                         0.143  ...        0.0           0.0       0.0   \n",
      "25515                         0.171  ...        0.0           0.0       0.0   \n",
      "106085                        0.139  ...        0.0           0.0       0.0   \n",
      "\n",
      "       priority2  priority3  priority4  \\\n",
      "39209        0.0        0.0        1.0   \n",
      "25515        0.0        1.0        0.0   \n",
      "106085       0.0        1.0        0.0   \n",
      "\n",
      "                                              disease_vec  \\\n",
      "39209   [0.0, 0.0, 0.0, 0.0, 0.0, 0.0, 0.0, 0.0, 0.0, ...   \n",
      "25515   [0.0, 0.0, 0.0, 0.0, 0.0, 0.0, 0.0, 0.0, 1.0, ...   \n",
      "106085  [0.0, 1.0, 0.0, 0.0, 0.0, 0.0, 0.0, 0.0, 0.0, ...   \n",
      "\n",
      "                priority_vec        newLabel  newLabelP  \n",
      "39209   [0.0, 0.0, 0.0, 1.0]    [No Finding]  priority4  \n",
      "25515   [0.0, 0.0, 1.0, 0.0]          [Mass]  priority3  \n",
      "106085  [0.0, 0.0, 1.0, 0.0]  [Cardiomegaly]  priority3  \n",
      "\n",
      "[3 rows x 37 columns]\n"
     ]
    },
    {
     "name": "stderr",
     "output_type": "stream",
     "text": [
      "/home/ubuntu/anaconda3/lib/python3.7/site-packages/ipykernel_launcher.py:1: SettingWithCopyWarning: \n",
      "A value is trying to be set on a copy of a slice from a DataFrame.\n",
      "Try using .loc[row_indexer,col_indexer] = value instead\n",
      "\n",
      "See the caveats in the documentation: http://pandas.pydata.org/pandas-docs/stable/indexing.html#indexing-view-versus-copy\n",
      "  \"\"\"Entry point for launching an IPython kernel.\n",
      "/home/ubuntu/anaconda3/lib/python3.7/site-packages/ipykernel_launcher.py:2: SettingWithCopyWarning: \n",
      "A value is trying to be set on a copy of a slice from a DataFrame.\n",
      "Try using .loc[row_indexer,col_indexer] = value instead\n",
      "\n",
      "See the caveats in the documentation: http://pandas.pydata.org/pandas-docs/stable/indexing.html#indexing-view-versus-copy\n",
      "  \n"
     ]
    }
   ],
   "source": [
    "valid_df['newLabel'] = valid_df.apply(lambda x: x['Finding Labels'].split('|'), axis=1)\n",
    "valid_df['newLabelP'] = valid_df['Priority Label']\n",
    "print(valid_df.sample(3))"
   ]
  },
  {
   "cell_type": "code",
   "execution_count": 40,
   "metadata": {},
   "outputs": [
    {
     "name": "stdout",
     "output_type": "stream",
     "text": [
      "             Image Index             Finding Labels  Follow-up #  Patient ID  \\\n",
      "105975  00028523_006.png  Atelectasis|Consolidation            6       28523   \n",
      "83768   00020580_000.png                 No Finding            0       20580   \n",
      "85482   00021072_003.png                 No Finding            3       21072   \n",
      "\n",
      "        Patient Age Patient Gender View Position  OriginalImage[Width  \\\n",
      "105975           58              M            AP                 3056   \n",
      "83768            55              F            PA                 2388   \n",
      "85482            62              M            AP                 3056   \n",
      "\n",
      "        Height]  OriginalImagePixelSpacing[x  ...  Pneumonia  Pneumothorax  \\\n",
      "105975     2544                        0.139  ...        0.0           0.0   \n",
      "83768      2961                        0.139  ...        0.0           0.0   \n",
      "85482      2544                        0.139  ...        0.0           0.0   \n",
      "\n",
      "       priority1 priority2  priority3  priority4  \\\n",
      "105975       0.0       0.0        1.0        0.0   \n",
      "83768        0.0       0.0        0.0        1.0   \n",
      "85482        0.0       0.0        0.0        1.0   \n",
      "\n",
      "                                              disease_vec  \\\n",
      "105975  [1.0, 0.0, 1.0, 0.0, 0.0, 0.0, 0.0, 0.0, 0.0, ...   \n",
      "83768   [0.0, 0.0, 0.0, 0.0, 0.0, 0.0, 0.0, 0.0, 0.0, ...   \n",
      "85482   [0.0, 0.0, 0.0, 0.0, 0.0, 0.0, 0.0, 0.0, 0.0, ...   \n",
      "\n",
      "                priority_vec                      newLabel  newLabelP  \n",
      "105975  [0.0, 0.0, 1.0, 0.0]  [Atelectasis, Consolidation]  priority3  \n",
      "83768   [0.0, 0.0, 0.0, 1.0]                  [No Finding]  priority4  \n",
      "85482   [0.0, 0.0, 0.0, 1.0]                  [No Finding]  priority4  \n",
      "\n",
      "[3 rows x 37 columns]\n"
     ]
    },
    {
     "name": "stderr",
     "output_type": "stream",
     "text": [
      "/home/ubuntu/anaconda3/lib/python3.7/site-packages/ipykernel_launcher.py:1: SettingWithCopyWarning: \n",
      "A value is trying to be set on a copy of a slice from a DataFrame.\n",
      "Try using .loc[row_indexer,col_indexer] = value instead\n",
      "\n",
      "See the caveats in the documentation: http://pandas.pydata.org/pandas-docs/stable/indexing.html#indexing-view-versus-copy\n",
      "  \"\"\"Entry point for launching an IPython kernel.\n",
      "/home/ubuntu/anaconda3/lib/python3.7/site-packages/ipykernel_launcher.py:2: SettingWithCopyWarning: \n",
      "A value is trying to be set on a copy of a slice from a DataFrame.\n",
      "Try using .loc[row_indexer,col_indexer] = value instead\n",
      "\n",
      "See the caveats in the documentation: http://pandas.pydata.org/pandas-docs/stable/indexing.html#indexing-view-versus-copy\n",
      "  \n"
     ]
    }
   ],
   "source": [
    "test_df['newLabel'] = test_df.apply(lambda x: x['Finding Labels'].split('|'), axis=1)\n",
    "test_df['newLabelP'] = test_df['Priority Label']\n",
    "print(test_df.sample(3))"
   ]
  },
  {
   "cell_type": "code",
   "execution_count": 41,
   "metadata": {},
   "outputs": [],
   "source": [
    "import tensorflow as tf\n",
    "def queue_wait_cost(pmat,costs,arrivals,service):\n",
    "    clambda = costs*arrivals\n",
    "    rho = arrivals/service\n",
    "    clambda_pmat = np.matmul(clambda,pmat)\n",
    "    rho_pmat = np.matmul(rho,pmat)\n",
    "    vec1=1-np.cumsum(rho_pmat)\n",
    "    vec2=np.roll(1-np.cumsum(rho_pmat),1)\n",
    "    vec2[0]=1\n",
    "    denom = (1/vec1)*(1/vec2)\n",
    "    return sum(clambda_pmat*denom)\n",
    "def queue_wait_cost_priority(pmat,priority_costs,priority_arrivals,priority_service):\n",
    "    clambda = priority_costs*priority_arrivals\n",
    "    rho = priority_arrivals/priority_service\n",
    "    clambda_pmat = np.matmul(clambda,pmat)\n",
    "    rho_pmat = np.matmul(rho,pmat)\n",
    "    vec1=1-np.cumsum(rho_pmat)\n",
    "    vec2=np.roll(1-np.cumsum(rho_pmat),1)\n",
    "    vec2[0]=1\n",
    "    denom = (1/vec1)*(1/vec2)\n",
    "    return sum(clambda_pmat*denom)\n",
    "def queue_loss(y_true,y_pred):\n",
    "    y_pred = y_pred/y_pred.sum(axis=1,keepdims=True)\n",
    "    pmat = np.matmul(np.transpose(y_true),y_pred)\n",
    "    pmat = pmat/pmat.sum(axis=1,keepdims=True)\n",
    "    clambda = costs*arrivals\n",
    "    rho = arrivals/service\n",
    "    clambda_pmat = np.matmul(clambda,pmat)\n",
    "    rho_pmat = np.matmul(rho,pmat)\n",
    "    vec1=1-np.cumsum(rho_pmat)\n",
    "    vec2=np.roll(1-np.cumsum(rho_pmat),1)\n",
    "    vec2[0]=1\n",
    "    denom = (1/vec1)*(1/vec2)\n",
    "    return sum(clambda_pmat*denom)\n",
    "\n",
    "def queue_loss_tensor(y_true,y_pred):\n",
    "    y_true = tf.cast(y_true, tf.float32)\n",
    "    y_pred = tf.cast(y_pred, tf.float32)\n",
    "    #y_pred = tf.divide(y_pred,tf.reduce_sum(y_pred,axis=1,keepdims=True)+0.000000000001)\n",
    "    pmat = tf.matmul(tf.transpose(y_true),y_pred)\n",
    "    pmat = tf.divide(pmat,tf.reduce_sum(pmat,axis=1,keepdims=True)+0.000000000001)\n",
    "    clambda = tf.reshape(tf.cast(tf.Variable(costs*arrivals),tf.float32),[1,14])\n",
    "    rho = tf.reshape(tf.cast(tf.Variable(arrivals/service),tf.float32),[1,14])\n",
    "    #print(rho.shape)\n",
    "    clambda_pmat = tf.matmul(clambda,pmat)\n",
    "    rho_pmat = tf.matmul(rho,pmat)\n",
    "    vec1=1-tf.cumsum(rho_pmat,axis=1)\n",
    "    #print(vec1)\n",
    "    vec2=tf.roll(1-tf.cumsum(rho_pmat,axis=1),shift=1,axis=1)\n",
    "    #print(vec2)\n",
    "    vec2=tf.tensor_scatter_nd_update(vec2,indices=[[0,0]],updates=[1])\n",
    "    #print(vec2)\n",
    "    #print (tf.math.reciprocal(vec2))\n",
    "    denom = tf.multiply(tf.math.reciprocal(vec1+0.00000000000001),tf.math.reciprocal(vec2+0.00000000000001))\n",
    "    return tf.reshape(tf.reduce_sum(tf.multiply(clambda_pmat,denom)),[])\n",
    "def queue_loss_tensor_priority(y_true,y_pred):\n",
    "    y_true = tf.cast(y_true, tf.float32)\n",
    "    y_pred = tf.cast(y_pred, tf.float32)\n",
    "    #y_pred = tf.divide(y_pred,tf.reduce_sum(y_pred,axis=1,keepdims=True)+0.000000000001)\n",
    "    pmat = tf.matmul(tf.transpose(y_true),y_pred)\n",
    "    pmat = tf.divide(pmat,tf.reduce_sum(pmat,axis=1,keepdims=True)+0.000000000001)\n",
    "    clambda = tf.reshape(tf.cast(tf.Variable(priority_costs*priority_arrivals),tf.float32),[1,n_priorities])\n",
    "    rho = tf.reshape(tf.cast(tf.Variable(priority_arrivals/priority_service),tf.float32),[1,n_priorities])\n",
    "    #print(rho.shape)\n",
    "    clambda_pmat = tf.matmul(clambda,pmat)\n",
    "    rho_pmat = tf.matmul(rho,pmat)\n",
    "    vec1=1-tf.cumsum(rho_pmat,axis=1)\n",
    "    #print(vec1)\n",
    "    vec2=tf.roll(1-tf.cumsum(rho_pmat,axis=1),shift=1,axis=1)\n",
    "    #print(vec2)\n",
    "    vec2=tf.tensor_scatter_nd_update(vec2,indices=[[0,0]],updates=[1])\n",
    "    #print(vec2)\n",
    "    #print (tf.math.reciprocal(vec2))\n",
    "    denom = tf.multiply(tf.math.reciprocal(vec1+0.00000000000001),tf.math.reciprocal(vec2+0.00000000000001))\n",
    "    return tf.reshape(tf.reduce_sum(tf.multiply(clambda_pmat,denom)),[])\n",
    "    "
   ]
  },
  {
   "cell_type": "markdown",
   "metadata": {},
   "source": [
    "# Training the Model"
   ]
  },
  {
   "cell_type": "code",
   "execution_count": 42,
   "metadata": {},
   "outputs": [],
   "source": [
    "n_priorities=4"
   ]
  },
  {
   "cell_type": "code",
   "execution_count": 43,
   "metadata": {},
   "outputs": [
    {
     "name": "stderr",
     "output_type": "stream",
     "text": [
      "Using TensorFlow backend.\n"
     ]
    }
   ],
   "source": [
    "from tensorflow.keras.applications.mobilenet import MobileNet\n",
    "from tensorflow.keras.layers import GlobalAveragePooling2D, Dense, Dropout, Flatten\n",
    "from tensorflow.keras.models import Sequential\n",
    "from keras import optimizers, callbacks, regularizers"
   ]
  },
  {
   "cell_type": "code",
   "execution_count": 44,
   "metadata": {},
   "outputs": [],
   "source": [
    "def MakeModel1(IMG_SIZE, bs, channels=1):\n",
    "    model = Sequential()\n",
    "    base_mobilenet_model = MobileNet(input_shape =  (*IMG_SIZE, channels), #Need to define the shape here from IMG_SIZE\n",
    "                                 include_top = False, weights = None)\n",
    "    model.add(base_mobilenet_model)\n",
    "    model.add(GlobalAveragePooling2D())\n",
    "    model.add(Dropout(0.5))\n",
    "    model.add(Dense(512))\n",
    "    model.add(Dropout(0.5))\n",
    "    model.add(Dense(len(all_labels), activation = 'sigmoid'))\n",
    "    return model\n",
    "def MakeModel2(n_priorities,IMG_SIZE, bs, channels=1):\n",
    "    model = Sequential()\n",
    "    base_mobilenet_model = MobileNet(input_shape =  (*IMG_SIZE, channels), #Need to define the shape here from IMG_SIZE\n",
    "                                 include_top = False, weights = None)\n",
    "    model.add(base_mobilenet_model)\n",
    "    model.add(GlobalAveragePooling2D())\n",
    "    model.add(Dropout(0.5))\n",
    "    model.add(Dense(512))\n",
    "    model.add(Dropout(0.5))\n",
    "    model.add(Dense(len(all_labels),activation = 'sigmoid'))\n",
    "    model.add(Dense(n_priorities, activation = 'softmax'))\n",
    "    return model\n",
    "def MakeModel3(n_priorities,IMG_SIZE, bs, channels=1):\n",
    "    model = Sequential()\n",
    "    base_mobilenet_model = MobileNet(input_shape =  (*IMG_SIZE, channels), #Need to define the shape here from IMG_SIZE\n",
    "                                 include_top = False, weights = None)\n",
    "    model.add(base_mobilenet_model)\n",
    "    model.add(GlobalAveragePooling2D())\n",
    "    model.add(Dropout(0.5))\n",
    "    model.add(Dense(512))\n",
    "    model.add(Dropout(0.5))\n",
    "    model.add(Dense(n_priorities, activation = 'softmax'))\n",
    "    return model"
   ]
  },
  {
   "cell_type": "code",
   "execution_count": 45,
   "metadata": {},
   "outputs": [],
   "source": [
    "from keras.preprocessing.image import ImageDataGenerator\n",
    "core_idg = ImageDataGenerator(samplewise_center=True, \n",
    "                              samplewise_std_normalization=True, \n",
    "                              horizontal_flip = True, \n",
    "                              vertical_flip = False, \n",
    "                              height_shift_range= 0.05, \n",
    "                              width_shift_range=0.1, \n",
    "                              rotation_range=5, \n",
    "                              shear_range = 0.1,\n",
    "                              fill_mode = 'reflect',\n",
    "                              zoom_range=0.15)"
   ]
  },
  {
   "cell_type": "code",
   "execution_count": 46,
   "metadata": {},
   "outputs": [],
   "source": [
    "n_priorities=4"
   ]
  },
  {
   "cell_type": "code",
   "execution_count": 47,
   "metadata": {},
   "outputs": [
    {
     "name": "stdout",
     "output_type": "stream",
     "text": [
      "Found 177141 validated image filenames belonging to 4 classes.\n",
      "Found 20000 validated image filenames belonging to 4 classes.\n"
     ]
    }
   ],
   "source": [
    "lr = 0.0005\n",
    "syntheticBatch = 256\n",
    "imageSize = (512, 512)\n",
    "colorMode = 'rgb'\n",
    "channels = 3\n",
    "batchSize = 32\n",
    "batch = int(256 / batchSize)\n",
    "STEPS_PER_EPOCH = 1000\n",
    "EPOCHS = 100\n",
    "from tensorflow.keras.callbacks import ModelCheckpoint, LearningRateScheduler, EarlyStopping, ReduceLROnPlateau\n",
    "weight_path=\"{}_weights.best.direct.june9.hdf5\".format('xray_class')\n",
    "checkpoint = ModelCheckpoint(weight_path, monitor='val_loss', verbose=1, \n",
    "                             save_best_only=True, mode='min', save_weights_only = True)\n",
    "\n",
    "early = EarlyStopping(monitor=\"val_loss\", \n",
    "                      mode=\"min\", \n",
    "                      patience=5)\n",
    "callbacks_list = [checkpoint, early]\n",
    "\n",
    "\n",
    "train_gen = core_idg.flow_from_dataframe(dataframe=train_df, \n",
    "                         directory=None,\n",
    "                         x_col = 'path',\n",
    "                        y_col = 'newLabelP', \n",
    "                         class_mode = 'categorical',\n",
    "                        target_size = imageSize,\n",
    "                         color_mode = colorMode,\n",
    "                        batch_size = batchSize)\n",
    "\n",
    "valid_gen = core_idg.flow_from_dataframe(dataframe=valid_df, \n",
    "                         directory=None,\n",
    "                         x_col = 'path',\n",
    "                        y_col = 'newLabelP', \n",
    "                        class_mode = 'categorical',\n",
    "                        target_size = imageSize,\n",
    "                         color_mode = colorMode,\n",
    "                        batch_size = batchSize) # we can use much larger batches for evaluation\n",
    "\n",
    "\n",
    "opt = tensorflow.keras.optimizers.Adam(\n",
    "    learning_rate=lr,\n",
    "    beta_1=0.9,\n",
    "    beta_2=0.999,\n",
    "    epsilon=1e-07,\n",
    "    amsgrad=False,\n",
    "    name=\"Adam\"\n",
    ")\n"
   ]
  },
  {
   "cell_type": "code",
   "execution_count": 48,
   "metadata": {},
   "outputs": [
    {
     "data": {
      "text/plain": [
       "108"
      ]
     },
     "execution_count": 48,
     "metadata": {},
     "output_type": "execute_result"
    }
   ],
   "source": [
    "import gc\n",
    "gc.collect()"
   ]
  },
  {
   "cell_type": "code",
   "execution_count": null,
   "metadata": {},
   "outputs": [],
   "source": []
  },
  {
   "cell_type": "code",
   "execution_count": 49,
   "metadata": {},
   "outputs": [],
   "source": [
    "import gc\n",
    "gc.collect()\n",
    "multi_disease_model = MakeModel3(n_priorities,imageSize, batchSize, channels)\n",
    "#multi_disease_model.load_weights(\"xray_class_weights.best.direct.june9.hdf5\")\n"
   ]
  },
  {
   "cell_type": "code",
   "execution_count": null,
   "metadata": {},
   "outputs": [],
   "source": [
    "multi_disease_model = MakeModel3(n_priorities,imageSize, batchSize, channels)\n",
    "multi_disease_model.load_weights('xray_class_weights.best.queue_r_10.june1.hdf5')"
   ]
  },
  {
   "cell_type": "code",
   "execution_count": null,
   "metadata": {},
   "outputs": [],
   "source": [
    "multi_disease_model.compile(optimizer = opt, loss = 'categorical_crossentropy',\n",
    "       run_eagerly=True,metrics = ['accuracy'])"
   ]
  },
  {
   "cell_type": "code",
   "execution_count": null,
   "metadata": {},
   "outputs": [
    {
     "name": "stderr",
     "output_type": "stream",
     "text": [
      "/home/ubuntu/anaconda3/lib/python3.7/site-packages/tensorflow/python/keras/engine/training.py:1844: UserWarning: `Model.fit_generator` is deprecated and will be removed in a future version. Please use `Model.fit`, which supports generators.\n",
      "  warnings.warn('`Model.fit_generator` is deprecated and '\n"
     ]
    },
    {
     "name": "stdout",
     "output_type": "stream",
     "text": [
      "Epoch 1/20\n",
      " 149/1000 [===>..........................] - ETA: 38:06 - loss: 0.9053 - accuracy: 0.6476"
     ]
    }
   ],
   "source": [
    "history = multi_disease_model.fit_generator(train_gen,                           \n",
    "              validation_data = valid_gen, \n",
    "              steps_per_epoch=1000,                              \n",
    "              epochs = 20, \n",
    "              callbacks = callbacks_list)"
   ]
  },
  {
   "cell_type": "code",
   "execution_count": null,
   "metadata": {},
   "outputs": [],
   "source": [
    "history.history"
   ]
  },
  {
   "cell_type": "code",
   "execution_count": 68,
   "metadata": {},
   "outputs": [
    {
     "name": "stdout",
     "output_type": "stream",
     "text": [
      "Found 20000 validated image filenames belonging to 4 classes.\n"
     ]
    }
   ],
   "source": [
    "test_X, test_Y = next(core_idg.flow_from_dataframe(dataframe=valid_df, \n",
    "                         directory=None,\n",
    "                         x_col = 'path',\n",
    "                        y_col = 'newLabelP', \n",
    "                         class_mode = 'categorical',\n",
    "                        target_size = imageSize,\n",
    "                         color_mode = 'rgb',\n",
    "                        batch_size = 2000))"
   ]
  },
  {
   "cell_type": "code",
   "execution_count": 69,
   "metadata": {},
   "outputs": [
    {
     "name": "stdout",
     "output_type": "stream",
     "text": [
      "63/63 [==============================] - 19s 303ms/step\n"
     ]
    }
   ],
   "source": [
    "pred_Y = multi_disease_model.predict(test_X, batch_size = 32, verbose = True)"
   ]
  },
  {
   "cell_type": "code",
   "execution_count": 70,
   "metadata": {},
   "outputs": [
    {
     "data": {
      "image/png": "[encoded data removed]",
      "text/plain": [
       "<Figure size 648x648 with 1 Axes>"
      ]
     },
     "metadata": {
      "needs_background": "light"
     },
     "output_type": "display_data"
    }
   ],
   "source": [
    "from sklearn.metrics import roc_curve, auc\n",
    "fig, c_ax = plt.subplots(1,1, figsize = (9, 9))\n",
    "for (idx, c_label) in enumerate(all_priorities):\n",
    "    fpr, tpr, thresholds = roc_curve(test_Y[:,idx].astype(int), pred_Y[:,idx])\n",
    "    c_ax.plot(fpr, tpr, label = '%s (AUC:%0.2f)'  % (c_label, auc(fpr, tpr)))\n",
    "c_ax.legend()\n",
    "c_ax.set_xlabel('False Positive Rate')\n",
    "c_ax.set_ylabel('True Positive Rate')\n",
    "fig.savefig('trained_net.pdf')"
   ]
  },
  {
   "cell_type": "code",
   "execution_count": 71,
   "metadata": {},
   "outputs": [
    {
     "data": {
      "text/plain": [
       "array([[0.07579165, 0.22063324, 0.5730394 , 0.13053568],\n",
       "       [0.06843232, 0.18068889, 0.654654  , 0.09622476],\n",
       "       [0.22334816, 0.05271852, 0.57024556, 0.15368776],\n",
       "       ...,\n",
       "       [0.03466288, 0.09116952, 0.63026255, 0.24390508],\n",
       "       [0.7630999 , 0.00819605, 0.17793757, 0.05076637],\n",
       "       [0.04219628, 0.19220462, 0.5975918 , 0.16800733]], dtype=float32)"
      ]
     },
     "execution_count": 71,
     "metadata": {},
     "output_type": "execute_result"
    }
   ],
   "source": [
    "pred_Y"
   ]
  },
  {
   "cell_type": "code",
   "execution_count": 72,
   "metadata": {},
   "outputs": [],
   "source": [
    "fpr = dict()\n",
    "tpr = dict()\n",
    "roc_auc = dict()\n",
    "for i in range(n_priorities):\n",
    "    fpr[i], tpr[i], _ = roc_curve(test_Y[:, i], pred_Y[:, i])\n",
    "    roc_auc[i] = auc(fpr[i], tpr[i])\n",
    "\n",
    "# Compute micro-average ROC curve and ROC area\n",
    "fpr[\"micro\"], tpr[\"micro\"], _ = roc_curve(test_Y.ravel(), pred_Y.ravel())\n",
    "roc_auc[\"micro\"] = auc(fpr[\"micro\"], tpr[\"micro\"])"
   ]
  },
  {
   "cell_type": "code",
   "execution_count": 73,
   "metadata": {},
   "outputs": [],
   "source": [
    "all_fpr = np.unique(np.concatenate([fpr[i] for i in range(n_priorities)]))"
   ]
  },
  {
   "cell_type": "code",
   "execution_count": 74,
   "metadata": {},
   "outputs": [],
   "source": [
    "from sklearn import svm, datasets\n",
    "from sklearn.metrics import roc_curve, auc\n",
    "from sklearn.model_selection import train_test_split\n",
    "from sklearn.preprocessing import label_binarize\n",
    "from sklearn.multiclass import OneVsRestClassifier\n",
    "from scipy import interp\n",
    "from sklearn.metrics import roc_auc_score"
   ]
  },
  {
   "cell_type": "code",
   "execution_count": 75,
   "metadata": {},
   "outputs": [],
   "source": [
    "import numpy as np\n",
    "import matplotlib.pyplot as plt\n",
    "from itertools import cycle"
   ]
  },
  {
   "cell_type": "code",
   "execution_count": 81,
   "metadata": {},
   "outputs": [
    {
     "name": "stderr",
     "output_type": "stream",
     "text": [
      "/home/ubuntu/anaconda3/lib/python3.7/site-packages/ipykernel_launcher.py:5: DeprecationWarning: scipy.interp is deprecated and will be removed in SciPy 2.0.0, use numpy.interp instead\n",
      "  \"\"\"\n"
     ]
    },
    {
     "data": {
      "image/png": "[encoded data removed]",
      "text/plain": [
       "<Figure size 432x288 with 1 Axes>"
      ]
     },
     "metadata": {
      "needs_background": "light"
     },
     "output_type": "display_data"
    }
   ],
   "source": [
    "# Then interpolate all ROC curves at this points\n",
    "lw=2\n",
    "mean_tpr = np.zeros_like(all_fpr)\n",
    "for i in range(n_priorities):\n",
    "    mean_tpr += interp(all_fpr, fpr[i], tpr[i])\n",
    "\n",
    "# Finally average it and compute AUC\n",
    "mean_tpr /= n_priorities\n",
    "\n",
    "fpr[\"macro\"] = all_fpr\n",
    "tpr[\"macro\"] = mean_tpr\n",
    "roc_auc[\"macro\"] = auc(fpr[\"macro\"], tpr[\"macro\"])\n",
    "\n",
    "# Plot all ROC curves\n",
    "plt.figure()\n",
    "#plt.plot(fpr[\"micro\"], tpr[\"micro\"],\n",
    " #        label='micro-average ROC curve (area = {0:0.2f})'\n",
    " #              ''.format(roc_auc[\"micro\"]),\n",
    " #        color='deeppink', linestyle=':', linewidth=4)\n",
    "\n",
    "#plt.plot(fpr[\"macro\"], tpr[\"macro\"],\n",
    "        # label='macro-average ROC curve (area = {0:0.2f})'\n",
    "        #       ''.format(roc_auc[\"macro\"]),\n",
    "        # color='navy', linestyle=':', linewidth=4)\n",
    "\n",
    "colors = cycle(['aqua', 'darkorange', 'cornflowerblue'])\n",
    "for i, color in zip(range(0,n_priorities,1), colors):\n",
    "    plt.plot(fpr[i], tpr[i], color=color, lw=lw,\n",
    "             label='ROC curve of priority queue {0} (area = {1:0.2f})'\n",
    "             ''.format(i, roc_auc[i]))\n",
    "\n",
    "plt.plot([0, 1], [0, 1], 'k--', lw=lw)\n",
    "plt.xlim([0.0, 1.0])\n",
    "plt.ylim([0.0, 1.05])\n",
    "plt.xlabel('False Positive Rate')\n",
    "plt.ylabel('True Positive Rate')\n",
    "#plt.title('Some extension of Receiver operating characteristic to multi-class')\n",
    "plt.legend(loc=\"lower right\")\n",
    "plt.show()"
   ]
  },
  {
   "cell_type": "code",
   "execution_count": null,
   "metadata": {},
   "outputs": [],
   "source": []
  }
 ],
 "metadata": {
  "kernelspec": {
   "display_name": "Python 3",
   "language": "python",
   "name": "python3"
  },
  "language_info": {
   "codemirror_mode": {
    "name": "ipython",
    "version": 3
   },
   "file_extension": ".py",
   "mimetype": "text/x-python",
   "name": "python",
   "nbconvert_exporter": "python",
   "pygments_lexer": "ipython3",
   "version": "3.7.10"
  }
 },
 "nbformat": 4,
 "nbformat_minor": 1
}
