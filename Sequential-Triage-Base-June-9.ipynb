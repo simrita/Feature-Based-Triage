{
 "cells": [
  {
   "cell_type": "code",
   "execution_count": 1,
   "metadata": {},
   "outputs": [
    {
     "name": "stdout",
     "output_type": "stream",
     "text": [
      "3.7.10\n"
     ]
    }
   ],
   "source": [
    "from platform import python_version\n",
    "print(python_version())"
   ]
  },
  {
   "cell_type": "markdown",
   "metadata": {},
   "source": [
    "A: The usage of the data set is unrestricted. But you should provide the link to our original download site, acknowledge the NIH Clinical Center and provide a citation to our CVPR 2017 paper"
   ]
  },
  {
   "cell_type": "markdown",
   "metadata": {},
   "source": [
    "A: ‘No finding’ means the 14 listed disease patterns are not found in the image. "
   ]
  },
  {
   "cell_type": "markdown",
   "metadata": {},
   "source": [
    "https://www.kaggle.com/nih-chest-xrays/data\n",
    "\n",
    "Citations\n",
    "Wang X, Peng Y, Lu L, Lu Z, Bagheri M, Summers RM. ChestX-ray8: Hospital-scale Chest X-ray Database and Benchmarks on Weakly-Supervised Classification and Localization of Common Thorax Diseases. IEEE CVPR 2017, ChestX-ray8_Hospital-Scale_Chest_CVPR_2017_paper.pdf\n",
    "\n",
    "NIH News release: NIH Clinical Center provides one of the largest publicly available chest x-ray datasets to scientific community\n",
    "\n",
    "Original source files and documents: https://nihcc.app.box.com/v/ChestXray-NIHCC/folder/36938765345"
   ]
  },
  {
   "cell_type": "markdown",
   "metadata": {},
   "source": [
    "### Context Behind Dataset for Final Writeup:"
   ]
  },
  {
   "cell_type": "markdown",
   "metadata": {},
   "source": [
    "Dataset was gathered by the NIH and contains over 100,000 anonymized chest x-ray images from more than 30,000 patients.  "
   ]
  },
  {
   "cell_type": "markdown",
   "metadata": {
    "_cell_guid": "19ff9d0b-d32d-4325-a19f-2ccbfa7d2dff",
    "_uuid": "9206c5863724e1af01281071e0f0ee5109ef431b"
   },
   "source": [
    "# Goal\n",
    "The goal is to use a simple model to classify x-ray images in Keras"
   ]
  },
  {
   "cell_type": "code",
   "execution_count": 2,
   "metadata": {
    "_cell_guid": "f42f6560-edf0-4efb-85a6-6e945e50895b",
    "_uuid": "3300a1edbf2e8122d88093998eb503a6fab8a719"
   },
   "outputs": [
    {
     "name": "stderr",
     "output_type": "stream",
     "text": [
      "\n",
      "Bad key \"text.kerning_factor\" on line 4 in\n",
      "/home/ubuntu/anaconda3/lib/python3.7/site-packages/matplotlib/mpl-data/stylelib/_classic_test_patch.mplstyle.\n",
      "You probably need to get an updated matplotlibrc file from\n",
      "http://github.com/matplotlib/matplotlib/blob/master/matplotlibrc.template\n",
      "or from the matplotlib source distribution\n"
     ]
    }
   ],
   "source": [
    "import numpy as np # linear algebra\n",
    "import pandas as pd # data processing, CSV file I/O (e.g. pd.read_csv)\n",
    "import os\n",
    "from glob import glob\n",
    "%matplotlib inline\n",
    "import matplotlib.pyplot as plt"
   ]
  },
  {
   "cell_type": "code",
   "execution_count": 3,
   "metadata": {},
   "outputs": [],
   "source": [
    "import tensorflow"
   ]
  },
  {
   "cell_type": "code",
   "execution_count": 4,
   "metadata": {},
   "outputs": [
    {
     "data": {
      "text/plain": [
       "[('00018942_001.png', '../data/images_009/images/00018942_001.png'),\n",
       " ('00020323_001.png', '../data/images_009/images/00020323_001.png'),\n",
       " ('00018730_001.png', '../data/images_009/images/00018730_001.png'),\n",
       " ('00019551_000.png', '../data/images_009/images/00019551_000.png')]"
      ]
     },
     "execution_count": 4,
     "metadata": {},
     "output_type": "execute_result"
    }
   ],
   "source": [
    "all_xray_df = pd.read_csv('../data/Data_Entry_2017.csv')\n",
    "folderlist = glob(os.path.join('../data', 'images*'))\n",
    "imglist = []\n",
    "for folder in folderlist:\n",
    "    tmp = glob(os.path.join(folder, \"images\", \"*.png\"))\n",
    "    imglist += tmp\n",
    "all_image_paths = {os.path.basename(x): x for x in imglist}\n",
    "#{k:all_image_paths[k] for k in all_image_paths.keys()[:5]}\n",
    "list(all_image_paths.items())[:4]\n",
    "# all_image_paths = {os.path.basename(x): x for x in \n",
    "#                    glob(os.path.join('.', 'data', 'images*', '*.png'))}\n",
    "\n"
   ]
  },
  {
   "cell_type": "code",
   "execution_count": 5,
   "metadata": {},
   "outputs": [
    {
     "name": "stdout",
     "output_type": "stream",
     "text": [
      "Scans found: 112120 , Total Headers 112120\n",
      "[('00002587_005.png', '../data/images_002/images/00002587_005.png'), ('00002588_000.png', '../data/images_002/images/00002588_000.png'), ('00002589_000.png', '../data/images_002/images/00002589_000.png'), ('00002589_001.png', '../data/images_002/images/00002589_001.png')]\n"
     ]
    },
    {
     "data": {
      "text/html": [
       "<div>\n",
       "<style scoped>\n",
       "    .dataframe tbody tr th:only-of-type {\n",
       "        vertical-align: middle;\n",
       "    }\n",
       "\n",
       "    .dataframe tbody tr th {\n",
       "        vertical-align: top;\n",
       "    }\n",
       "\n",
       "    .dataframe thead th {\n",
       "        text-align: right;\n",
       "    }\n",
       "</style>\n",
       "<table border=\"1\" class=\"dataframe\">\n",
       "  <thead>\n",
       "    <tr style=\"text-align: right;\">\n",
       "      <th></th>\n",
       "      <th>Image Index</th>\n",
       "      <th>Finding Labels</th>\n",
       "      <th>Follow-up #</th>\n",
       "      <th>Patient ID</th>\n",
       "      <th>Patient Age</th>\n",
       "      <th>Patient Gender</th>\n",
       "      <th>View Position</th>\n",
       "      <th>OriginalImage[Width</th>\n",
       "      <th>Height]</th>\n",
       "      <th>OriginalImagePixelSpacing[x</th>\n",
       "      <th>y]</th>\n",
       "      <th>Unnamed: 11</th>\n",
       "      <th>path</th>\n",
       "    </tr>\n",
       "  </thead>\n",
       "  <tbody>\n",
       "    <tr>\n",
       "      <th>69681</th>\n",
       "      <td>00017166_000.png</td>\n",
       "      <td>Fibrosis</td>\n",
       "      <td>0</td>\n",
       "      <td>17166</td>\n",
       "      <td>78</td>\n",
       "      <td>F</td>\n",
       "      <td>PA</td>\n",
       "      <td>2666</td>\n",
       "      <td>2991</td>\n",
       "      <td>0.143</td>\n",
       "      <td>0.143</td>\n",
       "      <td>NaN</td>\n",
       "      <td>../data/images_008/images/00017166_000.png</td>\n",
       "    </tr>\n",
       "    <tr>\n",
       "      <th>89795</th>\n",
       "      <td>00022295_000.png</td>\n",
       "      <td>No Finding</td>\n",
       "      <td>0</td>\n",
       "      <td>22295</td>\n",
       "      <td>57</td>\n",
       "      <td>F</td>\n",
       "      <td>PA</td>\n",
       "      <td>2504</td>\n",
       "      <td>3040</td>\n",
       "      <td>0.139</td>\n",
       "      <td>0.139</td>\n",
       "      <td>NaN</td>\n",
       "      <td>../data/images_010/images/00022295_000.png</td>\n",
       "    </tr>\n",
       "    <tr>\n",
       "      <th>39119</th>\n",
       "      <td>00010253_000.png</td>\n",
       "      <td>No Finding</td>\n",
       "      <td>0</td>\n",
       "      <td>10253</td>\n",
       "      <td>23</td>\n",
       "      <td>F</td>\n",
       "      <td>PA</td>\n",
       "      <td>2992</td>\n",
       "      <td>2991</td>\n",
       "      <td>0.143</td>\n",
       "      <td>0.143</td>\n",
       "      <td>NaN</td>\n",
       "      <td>../data/images_005/images/00010253_000.png</td>\n",
       "    </tr>\n",
       "  </tbody>\n",
       "</table>\n",
       "</div>"
      ],
      "text/plain": [
       "            Image Index Finding Labels  Follow-up #  Patient ID  Patient Age  \\\n",
       "69681  00017166_000.png       Fibrosis            0       17166           78   \n",
       "89795  00022295_000.png     No Finding            0       22295           57   \n",
       "39119  00010253_000.png     No Finding            0       10253           23   \n",
       "\n",
       "      Patient Gender View Position  OriginalImage[Width  Height]  \\\n",
       "69681              F            PA                 2666     2991   \n",
       "89795              F            PA                 2504     3040   \n",
       "39119              F            PA                 2992     2991   \n",
       "\n",
       "       OriginalImagePixelSpacing[x     y]  Unnamed: 11  \\\n",
       "69681                        0.143  0.143          NaN   \n",
       "89795                        0.139  0.139          NaN   \n",
       "39119                        0.143  0.143          NaN   \n",
       "\n",
       "                                             path  \n",
       "69681  ../data/images_008/images/00017166_000.png  \n",
       "89795  ../data/images_010/images/00022295_000.png  \n",
       "39119  ../data/images_005/images/00010253_000.png  "
      ]
     },
     "execution_count": 5,
     "metadata": {},
     "output_type": "execute_result"
    }
   ],
   "source": [
    "print('Scans found:', len(all_image_paths), ', Total Headers', all_xray_df.shape[0])\n",
    "num_selected = 10000\n",
    "tmp = {key: all_image_paths[key] for key in sorted(list(all_image_paths.keys()))[num_selected:]}\n",
    "print(list(tmp.items())[:4])\n",
    "all_xray_df['path'] = all_xray_df['Image Index'][num_selected:].map(tmp.get)\n",
    "all_xray_df = all_xray_df[num_selected:]\n",
    "all_xray_df.sample(3)"
   ]
  },
  {
   "cell_type": "code",
   "execution_count": 6,
   "metadata": {
    "scrolled": true
   },
   "outputs": [
    {
     "data": {
      "text/plain": [
       "No Finding                                                                 54652\n",
       "Infiltration                                                                8734\n",
       "Atelectasis                                                                 3848\n",
       "Effusion                                                                    3659\n",
       "Nodule                                                                      2495\n",
       "Mass                                                                        2015\n",
       "Pneumothorax                                                                1972\n",
       "Effusion|Infiltration                                                       1511\n",
       "Atelectasis|Infiltration                                                    1237\n",
       "Consolidation                                                               1199\n",
       "Atelectasis|Effusion                                                        1091\n",
       "Pleural_Thickening                                                          1004\n",
       "Cardiomegaly                                                                 981\n",
       "Emphysema                                                                    795\n",
       "Infiltration|Nodule                                                          764\n",
       "Atelectasis|Effusion|Infiltration                                            696\n",
       "Edema                                                                        590\n",
       "Fibrosis                                                                     580\n",
       "Cardiomegaly|Effusion                                                        431\n",
       "Infiltration|Mass                                                            390\n",
       "Effusion|Mass                                                                390\n",
       "Consolidation|Infiltration                                                   389\n",
       "Effusion|Pneumothorax                                                        384\n",
       "Mass|Nodule                                                                  380\n",
       "Edema|Infiltration                                                           371\n",
       "Atelectasis|Consolidation                                                    363\n",
       "Emphysema|Pneumothorax                                                       313\n",
       "Infiltration|Pneumothorax                                                    312\n",
       "Consolidation|Effusion                                                       306\n",
       "Pneumonia                                                                    283\n",
       "                                                                           ...  \n",
       "Atelectasis|Emphysema|Fibrosis                                                 1\n",
       "Atelectasis|Edema|Infiltration|Nodule|Pleural_Thickening                       1\n",
       "Atelectasis|Emphysema|Infiltration|Mass|Pleural_Thickening|Pneumothorax        1\n",
       "Effusion|Hernia|Pleural_Thickening                                             1\n",
       "Effusion|Fibrosis|Mass|Pleural_Thickening                                      1\n",
       "Fibrosis|Infiltration|Mass|Nodule                                              1\n",
       "Atelectasis|Cardiomegaly|Effusion|Infiltration|Mass|Pneumothorax               1\n",
       "Atelectasis|Effusion|Emphysema|Pleural_Thickening|Pneumothorax                 1\n",
       "Atelectasis|Cardiomegaly|Effusion|Mass|Nodule                                  1\n",
       "Consolidation|Effusion|Infiltration|Mass|Pleural_Thickening                    1\n",
       "Effusion|Emphysema|Infiltration|Mass                                           1\n",
       "Edema|Effusion|Emphysema|Infiltration                                          1\n",
       "Cardiomegaly|Consolidation|Effusion|Infiltration|Mass|Nodule                   1\n",
       "Effusion|Nodule|Pneumonia                                                      1\n",
       "Atelectasis|Emphysema|Fibrosis|Mass|Pneumothorax                               1\n",
       "Consolidation|Effusion|Mass|Nodule|Pleural_Thickening|Atelectasis              1\n",
       "Effusion|Fibrosis|Infiltration|Pleural_Thickening                              1\n",
       "Consolidation|Effusion|Emphysema|Pneumothorax                                  1\n",
       "Atelectasis|Cardiomegaly|Edema|Effusion|Infiltration|Pleural_Thickening        1\n",
       "Cardiomegaly|Edema|Effusion|Fibrosis|Hernia                                    1\n",
       "Cardiomegaly|Effusion|Infiltration|Mass|Nodule|Pleural_Thickening              1\n",
       "Atelectasis|Cardiomegaly|Edema|Effusion|Infiltration|Nodule|Pneumonia          1\n",
       "Edema|Effusion|Nodule|Mass                                                     1\n",
       "Atelectasis|Consolidation|Mass|Nodule|Pneumothorax                             1\n",
       "Cardiomegaly|Consolidation|Effusion|Pleural_Thickening                         1\n",
       "Edema|Pneumonia|Pneumothorax                                                   1\n",
       "Consolidation|Pleural_Thickening|Pneumothorax                                  1\n",
       "Atelectasis|Mass|Nodule|Pneumothorax                                           1\n",
       "Atelectasis|Consolidation|Mass|Pleural_Thickening|Pneumothorax                 1\n",
       "Consolidation|Effusion|Mass|Nodule|Pneumothorax                                1\n",
       "Name: Finding Labels, Length: 807, dtype: int64"
      ]
     },
     "execution_count": 6,
     "metadata": {},
     "output_type": "execute_result"
    }
   ],
   "source": [
    "label_counts = all_xray_df['Finding Labels'].value_counts()\n",
    "label_counts"
   ]
  },
  {
   "cell_type": "markdown",
   "metadata": {
    "_cell_guid": "0d674a43-170f-4ca6-a9b4-edc64ab89c35",
    "_uuid": "9a1669750b7cffcae1b7a2eb4307b85472dff192"
   },
   "source": [
    "# Preprocessing Labels\n",
    "Here we take the labels and make them into a more clear format. The primary step is to see the distribution of findings and then to convert them to simple binary labels"
   ]
  },
  {
   "cell_type": "code",
   "execution_count": 7,
   "metadata": {
    "_cell_guid": "d75ed03e-986d-4f3f-81af-c910d194f390",
    "_uuid": "0c5123f65edf349f8ad2e5c5f55ac484d974f5c7"
   },
   "outputs": [
    {
     "data": {
      "image/png": "[encoded data removed]",
      "text/plain": [
       "<Figure size 864x576 with 1 Axes>"
      ]
     },
     "metadata": {
      "needs_background": "light"
     },
     "output_type": "display_data"
    }
   ],
   "source": [
    "label_counts = all_xray_df['Finding Labels'].value_counts()[:15]\n",
    "fig, ax1 = plt.subplots(1,1,figsize = (12, 8))\n",
    "ax1.bar(np.arange(len(label_counts))+0.5, label_counts)\n",
    "ax1.set_xticks(np.arange(len(label_counts))+0.5)\n",
    "_ = ax1.set_xticklabels(label_counts.index, rotation = 90)"
   ]
  },
  {
   "cell_type": "code",
   "execution_count": 8,
   "metadata": {},
   "outputs": [],
   "source": [
    "n_priorities = 4\n",
    "priority1=['Pneumothorax']\n",
    "priority2=['Pneumonia','Edema']\n",
    "priority3=['Atelectasis','Cardiomegaly','Consolidation','Effusion','Emphysema','Fibrosis','Infiltration','Mass','Nodule','Pleural_Thickening']\n",
    "priority4=['No Finding']"
   ]
  },
  {
   "cell_type": "code",
   "execution_count": 9,
   "metadata": {},
   "outputs": [],
   "source": [
    "def priority_val(x):\n",
    "    if any(item in priority1 for item in x):\n",
    "        return 'priority1'\n",
    "    elif any(item in priority2 for item in x):\n",
    "        return 'priority2'\n",
    "    elif any(item in priority3 for item in x):\n",
    "        return 'priority3'\n",
    "    elif any(item in priority4 for item in x):\n",
    "        return 'priority4'\n",
    "    \n",
    "    "
   ]
  },
  {
   "cell_type": "code",
   "execution_count": 10,
   "metadata": {},
   "outputs": [
    {
     "data": {
      "text/plain": [
       "82410    priority3\n",
       "44959    priority2\n",
       "28545    priority4\n",
       "Name: Priority Label, dtype: object"
      ]
     },
     "execution_count": 10,
     "metadata": {},
     "output_type": "execute_result"
    }
   ],
   "source": [
    "from itertools import chain\n",
    "all_xray_df['Priority Label']=all_xray_df['Finding Labels'].map(lambda x: priority_val(x.split('|')))\n",
    "all_xray_df['Priority Label'].sample(3)"
   ]
  },
  {
   "cell_type": "code",
   "execution_count": 11,
   "metadata": {
    "_cell_guid": "a9ff3a04-254d-4667-b0a3-869bbd92b08b",
    "_uuid": "78b4425b0a8932bb33864b5a3712611004687a48"
   },
   "outputs": [
    {
     "name": "stdout",
     "output_type": "stream",
     "text": [
      "All Labels (15): ['Atelectasis', 'Cardiomegaly', 'Consolidation', 'Edema', 'Effusion', 'Emphysema', 'Fibrosis', 'Hernia', 'Infiltration', 'Mass', 'No Finding', 'Nodule', 'Pleural_Thickening', 'Pneumonia', 'Pneumothorax']\n"
     ]
    },
    {
     "data": {
      "text/html": [
       "<div>\n",
       "<style scoped>\n",
       "    .dataframe tbody tr th:only-of-type {\n",
       "        vertical-align: middle;\n",
       "    }\n",
       "\n",
       "    .dataframe tbody tr th {\n",
       "        vertical-align: top;\n",
       "    }\n",
       "\n",
       "    .dataframe thead th {\n",
       "        text-align: right;\n",
       "    }\n",
       "</style>\n",
       "<table border=\"1\" class=\"dataframe\">\n",
       "  <thead>\n",
       "    <tr style=\"text-align: right;\">\n",
       "      <th></th>\n",
       "      <th>Image Index</th>\n",
       "      <th>Finding Labels</th>\n",
       "      <th>Follow-up #</th>\n",
       "      <th>Patient ID</th>\n",
       "      <th>Patient Age</th>\n",
       "      <th>Patient Gender</th>\n",
       "      <th>View Position</th>\n",
       "      <th>OriginalImage[Width</th>\n",
       "      <th>Height]</th>\n",
       "      <th>OriginalImagePixelSpacing[x</th>\n",
       "      <th>...</th>\n",
       "      <th>Emphysema</th>\n",
       "      <th>Fibrosis</th>\n",
       "      <th>Hernia</th>\n",
       "      <th>Infiltration</th>\n",
       "      <th>Mass</th>\n",
       "      <th>No Finding</th>\n",
       "      <th>Nodule</th>\n",
       "      <th>Pleural_Thickening</th>\n",
       "      <th>Pneumonia</th>\n",
       "      <th>Pneumothorax</th>\n",
       "    </tr>\n",
       "  </thead>\n",
       "  <tbody>\n",
       "    <tr>\n",
       "      <th>67724</th>\n",
       "      <td>00016732_026.png</td>\n",
       "      <td>Effusion</td>\n",
       "      <td>26</td>\n",
       "      <td>16732</td>\n",
       "      <td>80</td>\n",
       "      <td>F</td>\n",
       "      <td>AP</td>\n",
       "      <td>2500</td>\n",
       "      <td>2048</td>\n",
       "      <td>0.168</td>\n",
       "      <td>...</td>\n",
       "      <td>0.0</td>\n",
       "      <td>0.0</td>\n",
       "      <td>0.0</td>\n",
       "      <td>0.0</td>\n",
       "      <td>0.0</td>\n",
       "      <td>0.0</td>\n",
       "      <td>0.0</td>\n",
       "      <td>0.0</td>\n",
       "      <td>0.0</td>\n",
       "      <td>0.0</td>\n",
       "    </tr>\n",
       "    <tr>\n",
       "      <th>79750</th>\n",
       "      <td>00019592_010.png</td>\n",
       "      <td>No Finding</td>\n",
       "      <td>10</td>\n",
       "      <td>19592</td>\n",
       "      <td>52</td>\n",
       "      <td>M</td>\n",
       "      <td>AP</td>\n",
       "      <td>2544</td>\n",
       "      <td>3056</td>\n",
       "      <td>0.139</td>\n",
       "      <td>...</td>\n",
       "      <td>0.0</td>\n",
       "      <td>0.0</td>\n",
       "      <td>0.0</td>\n",
       "      <td>0.0</td>\n",
       "      <td>0.0</td>\n",
       "      <td>1.0</td>\n",
       "      <td>0.0</td>\n",
       "      <td>0.0</td>\n",
       "      <td>0.0</td>\n",
       "      <td>0.0</td>\n",
       "    </tr>\n",
       "    <tr>\n",
       "      <th>41818</th>\n",
       "      <td>00010785_003.png</td>\n",
       "      <td>Atelectasis|Infiltration|Nodule</td>\n",
       "      <td>3</td>\n",
       "      <td>10785</td>\n",
       "      <td>70</td>\n",
       "      <td>M</td>\n",
       "      <td>PA</td>\n",
       "      <td>2846</td>\n",
       "      <td>2825</td>\n",
       "      <td>0.143</td>\n",
       "      <td>...</td>\n",
       "      <td>0.0</td>\n",
       "      <td>0.0</td>\n",
       "      <td>0.0</td>\n",
       "      <td>1.0</td>\n",
       "      <td>0.0</td>\n",
       "      <td>0.0</td>\n",
       "      <td>1.0</td>\n",
       "      <td>0.0</td>\n",
       "      <td>0.0</td>\n",
       "      <td>0.0</td>\n",
       "    </tr>\n",
       "  </tbody>\n",
       "</table>\n",
       "<p>3 rows × 29 columns</p>\n",
       "</div>"
      ],
      "text/plain": [
       "            Image Index                   Finding Labels  Follow-up #  \\\n",
       "67724  00016732_026.png                         Effusion           26   \n",
       "79750  00019592_010.png                       No Finding           10   \n",
       "41818  00010785_003.png  Atelectasis|Infiltration|Nodule            3   \n",
       "\n",
       "       Patient ID  Patient Age Patient Gender View Position  \\\n",
       "67724       16732           80              F            AP   \n",
       "79750       19592           52              M            AP   \n",
       "41818       10785           70              M            PA   \n",
       "\n",
       "       OriginalImage[Width  Height]  OriginalImagePixelSpacing[x  ...  \\\n",
       "67724                 2500     2048                        0.168  ...   \n",
       "79750                 2544     3056                        0.139  ...   \n",
       "41818                 2846     2825                        0.143  ...   \n",
       "\n",
       "       Emphysema  Fibrosis Hernia Infiltration  Mass  No Finding  Nodule  \\\n",
       "67724        0.0       0.0    0.0          0.0   0.0         0.0     0.0   \n",
       "79750        0.0       0.0    0.0          0.0   0.0         1.0     0.0   \n",
       "41818        0.0       0.0    0.0          1.0   0.0         0.0     1.0   \n",
       "\n",
       "       Pleural_Thickening  Pneumonia  Pneumothorax  \n",
       "67724                 0.0        0.0           0.0  \n",
       "79750                 0.0        0.0           0.0  \n",
       "41818                 0.0        0.0           0.0  \n",
       "\n",
       "[3 rows x 29 columns]"
      ]
     },
     "execution_count": 11,
     "metadata": {},
     "output_type": "execute_result"
    }
   ],
   "source": [
    "#all_xray_df['Finding Labels'] = all_xray_df['Finding Labels'].map(lambda x: x.replace('No Finding', ''))\n",
    "from itertools import chain\n",
    "all_labels = np.unique(list(chain(*all_xray_df['Finding Labels'].map(lambda x: x.split('|')).tolist())))\n",
    "all_labels = [x for x in all_labels if len(x)>0]\n",
    "print('All Labels ({}): {}'.format(len(all_labels), all_labels))\n",
    "for c_label in all_labels:\n",
    "    if len(c_label)>1: # leave out empty labels\n",
    "        all_xray_df[c_label] = all_xray_df['Finding Labels'].map(lambda finding: 1.0 if c_label in finding else 0)\n",
    "all_xray_df.sample(3)"
   ]
  },
  {
   "cell_type": "code",
   "execution_count": 12,
   "metadata": {},
   "outputs": [
    {
     "data": {
      "text/plain": [
       "['Atelectasis',\n",
       " 'Cardiomegaly',\n",
       " 'Consolidation',\n",
       " 'Edema',\n",
       " 'Effusion',\n",
       " 'Emphysema',\n",
       " 'Fibrosis',\n",
       " 'Hernia',\n",
       " 'Infiltration',\n",
       " 'Mass',\n",
       " 'No Finding',\n",
       " 'Nodule',\n",
       " 'Pleural_Thickening',\n",
       " 'Pneumonia',\n",
       " 'Pneumothorax']"
      ]
     },
     "execution_count": 12,
     "metadata": {},
     "output_type": "execute_result"
    }
   ],
   "source": [
    "all_labels"
   ]
  },
  {
   "cell_type": "markdown",
   "metadata": {
    "_cell_guid": "05b6c7d9-4869-40b5-a70b-53957c69f021",
    "_uuid": "64653f9f57d3a5b952f1f1a709eb70ca38761a0d"
   },
   "source": [
    "### Clean categories\n",
    "Since we have too many categories, we can prune a few out by taking the ones with only a few examples"
   ]
  },
  {
   "cell_type": "code",
   "execution_count": 13,
   "metadata": {
    "_cell_guid": "dd273e26-63ab-4d76-925d-9c1c2c1ba69c",
    "_uuid": "9f368f9ea8947d8fc1dacf3988c58b6a2bf5fffc"
   },
   "outputs": [
    {
     "name": "stdout",
     "output_type": "stream",
     "text": [
      "Clean Labels (14) [('Atelectasis', 10670), ('Cardiomegaly', 2476), ('Consolidation', 4271), ('Edema', 2150), ('Effusion', 12410), ('Emphysema', 2295), ('Fibrosis', 1407), ('Infiltration', 18291), ('Mass', 5454), ('No Finding', 54652), ('Nodule', 5887), ('Pleural_Thickening', 3060), ('Pneumonia', 1296), ('Pneumothorax', 4862)]\n"
     ]
    }
   ],
   "source": [
    "# keep at least 1000 cases\n",
    "MIN_CASES = 1000\n",
    "all_labels = [c_label for c_label in all_labels if all_xray_df[c_label].sum()>MIN_CASES]\n",
    "print('Clean Labels ({})'.format(len(all_labels)), \n",
    "      [(c_label,int(all_xray_df[c_label].sum())) for c_label in all_labels])"
   ]
  },
  {
   "cell_type": "code",
   "execution_count": 14,
   "metadata": {},
   "outputs": [],
   "source": [
    "\n",
    "res = [i for i, val in enumerate(list(all_xray_df['Priority Label'])) if val == None]\n"
   ]
  },
  {
   "cell_type": "code",
   "execution_count": 15,
   "metadata": {},
   "outputs": [
    {
     "name": "stdout",
     "output_type": "stream",
     "text": [
      "[1589, 1590, 1591, 1592, 2428, 2525, 5023, 5024, 5579, 6034, 9541, 9590, 11551, 12815, 13240, 14244, 14781, 15532, 15536, 16160, 18209, 19618, 20263, 20280, 20754, 22253, 22528, 23133, 23135, 23137, 24265, 27971, 28351, 36105, 36669, 37468, 39653, 40594, 40972, 42639, 43035, 43038, 43043, 43048, 44689, 44822, 44823, 44824, 46170, 46797, 48269, 59434, 59781, 62160, 63688, 64700, 67454, 67543, 67544, 70765, 73006, 74376, 74874, 74875, 74876, 74877, 76994, 77002, 77003, 78462, 78588, 78821, 81356, 84724, 84734, 84878, 87051, 90738, 90847, 92747, 93654, 95367, 97271, 97273, 97276, 97927, 98497, 99616]\n"
     ]
    }
   ],
   "source": [
    "all_xray_df['Priority Label']\n",
    "res = [i for i, val in enumerate(list(all_xray_df['Priority Label'])) if val == None]\n",
    "print(res)"
   ]
  },
  {
   "cell_type": "code",
   "execution_count": 16,
   "metadata": {},
   "outputs": [],
   "source": [
    "res = [i for i, val in enumerate(list(all_xray_df['Priority Label'])) if val == None]\n",
    "res\n",
    "rows=all_xray_df.index[res]\n",
    "all_xray_df=all_xray_df.drop(rows)"
   ]
  },
  {
   "cell_type": "code",
   "execution_count": 17,
   "metadata": {},
   "outputs": [
    {
     "data": {
      "text/html": [
       "<div>\n",
       "<style scoped>\n",
       "    .dataframe tbody tr th:only-of-type {\n",
       "        vertical-align: middle;\n",
       "    }\n",
       "\n",
       "    .dataframe tbody tr th {\n",
       "        vertical-align: top;\n",
       "    }\n",
       "\n",
       "    .dataframe thead th {\n",
       "        text-align: right;\n",
       "    }\n",
       "</style>\n",
       "<table border=\"1\" class=\"dataframe\">\n",
       "  <thead>\n",
       "    <tr style=\"text-align: right;\">\n",
       "      <th></th>\n",
       "      <th>Image Index</th>\n",
       "      <th>Finding Labels</th>\n",
       "      <th>Follow-up #</th>\n",
       "      <th>Patient ID</th>\n",
       "      <th>Patient Age</th>\n",
       "      <th>Patient Gender</th>\n",
       "      <th>View Position</th>\n",
       "      <th>OriginalImage[Width</th>\n",
       "      <th>Height]</th>\n",
       "      <th>OriginalImagePixelSpacing[x</th>\n",
       "      <th>...</th>\n",
       "      <th>Emphysema</th>\n",
       "      <th>Fibrosis</th>\n",
       "      <th>Hernia</th>\n",
       "      <th>Infiltration</th>\n",
       "      <th>Mass</th>\n",
       "      <th>No Finding</th>\n",
       "      <th>Nodule</th>\n",
       "      <th>Pleural_Thickening</th>\n",
       "      <th>Pneumonia</th>\n",
       "      <th>Pneumothorax</th>\n",
       "    </tr>\n",
       "  </thead>\n",
       "  <tbody>\n",
       "    <tr>\n",
       "      <th>59969</th>\n",
       "      <td>00014802_000.png</td>\n",
       "      <td>No Finding</td>\n",
       "      <td>0</td>\n",
       "      <td>14802</td>\n",
       "      <td>39</td>\n",
       "      <td>M</td>\n",
       "      <td>PA</td>\n",
       "      <td>2500</td>\n",
       "      <td>2048</td>\n",
       "      <td>0.168000</td>\n",
       "      <td>...</td>\n",
       "      <td>0.0</td>\n",
       "      <td>0.0</td>\n",
       "      <td>0.0</td>\n",
       "      <td>0.0</td>\n",
       "      <td>0.0</td>\n",
       "      <td>1.0</td>\n",
       "      <td>0.0</td>\n",
       "      <td>0.0</td>\n",
       "      <td>0.0</td>\n",
       "      <td>0.0</td>\n",
       "    </tr>\n",
       "    <tr>\n",
       "      <th>99051</th>\n",
       "      <td>00026197_005.png</td>\n",
       "      <td>No Finding</td>\n",
       "      <td>5</td>\n",
       "      <td>26197</td>\n",
       "      <td>41</td>\n",
       "      <td>M</td>\n",
       "      <td>PA</td>\n",
       "      <td>2992</td>\n",
       "      <td>2991</td>\n",
       "      <td>0.143000</td>\n",
       "      <td>...</td>\n",
       "      <td>0.0</td>\n",
       "      <td>0.0</td>\n",
       "      <td>0.0</td>\n",
       "      <td>0.0</td>\n",
       "      <td>0.0</td>\n",
       "      <td>1.0</td>\n",
       "      <td>0.0</td>\n",
       "      <td>0.0</td>\n",
       "      <td>0.0</td>\n",
       "      <td>0.0</td>\n",
       "    </tr>\n",
       "    <tr>\n",
       "      <th>64578</th>\n",
       "      <td>00015940_002.png</td>\n",
       "      <td>No Finding</td>\n",
       "      <td>2</td>\n",
       "      <td>15940</td>\n",
       "      <td>53</td>\n",
       "      <td>F</td>\n",
       "      <td>PA</td>\n",
       "      <td>1853</td>\n",
       "      <td>1834</td>\n",
       "      <td>0.194311</td>\n",
       "      <td>...</td>\n",
       "      <td>0.0</td>\n",
       "      <td>0.0</td>\n",
       "      <td>0.0</td>\n",
       "      <td>0.0</td>\n",
       "      <td>0.0</td>\n",
       "      <td>1.0</td>\n",
       "      <td>0.0</td>\n",
       "      <td>0.0</td>\n",
       "      <td>0.0</td>\n",
       "      <td>0.0</td>\n",
       "    </tr>\n",
       "  </tbody>\n",
       "</table>\n",
       "<p>3 rows × 29 columns</p>\n",
       "</div>"
      ],
      "text/plain": [
       "            Image Index Finding Labels  Follow-up #  Patient ID  Patient Age  \\\n",
       "59969  00014802_000.png     No Finding            0       14802           39   \n",
       "99051  00026197_005.png     No Finding            5       26197           41   \n",
       "64578  00015940_002.png     No Finding            2       15940           53   \n",
       "\n",
       "      Patient Gender View Position  OriginalImage[Width  Height]  \\\n",
       "59969              M            PA                 2500     2048   \n",
       "99051              M            PA                 2992     2991   \n",
       "64578              F            PA                 1853     1834   \n",
       "\n",
       "       OriginalImagePixelSpacing[x  ...  Emphysema  Fibrosis Hernia  \\\n",
       "59969                     0.168000  ...        0.0       0.0    0.0   \n",
       "99051                     0.143000  ...        0.0       0.0    0.0   \n",
       "64578                     0.194311  ...        0.0       0.0    0.0   \n",
       "\n",
       "      Infiltration  Mass  No Finding  Nodule  Pleural_Thickening  Pneumonia  \\\n",
       "59969          0.0   0.0         1.0     0.0                 0.0        0.0   \n",
       "99051          0.0   0.0         1.0     0.0                 0.0        0.0   \n",
       "64578          0.0   0.0         1.0     0.0                 0.0        0.0   \n",
       "\n",
       "       Pneumothorax  \n",
       "59969           0.0  \n",
       "99051           0.0  \n",
       "64578           0.0  \n",
       "\n",
       "[3 rows x 29 columns]"
      ]
     },
     "execution_count": 17,
     "metadata": {},
     "output_type": "execute_result"
    }
   ],
   "source": [
    "all_xray_df.sample(3)"
   ]
  },
  {
   "cell_type": "code",
   "execution_count": 18,
   "metadata": {},
   "outputs": [
    {
     "data": {
      "text/plain": [
       "array(['priority1', 'priority2', 'priority3', 'priority4'], dtype='<U9')"
      ]
     },
     "execution_count": 18,
     "metadata": {},
     "output_type": "execute_result"
    }
   ],
   "source": [
    "np.unique(list(all_xray_df['Priority Label']))"
   ]
  },
  {
   "cell_type": "code",
   "execution_count": 19,
   "metadata": {},
   "outputs": [
    {
     "data": {
      "text/plain": [
       "array(['priority1', 'priority2', 'priority3', 'priority4'], dtype=object)"
      ]
     },
     "execution_count": 19,
     "metadata": {},
     "output_type": "execute_result"
    }
   ],
   "source": [
    "all_priorities = np.unique(all_xray_df['Priority Label'])\n",
    "#all_priorities = [x for x in all_priorities if len(x)>0]\n",
    "all_priorities"
   ]
  },
  {
   "cell_type": "code",
   "execution_count": 20,
   "metadata": {},
   "outputs": [
    {
     "name": "stdout",
     "output_type": "stream",
     "text": [
      "All Priorities (4): ['priority1' 'priority2' 'priority3' 'priority4']\n"
     ]
    },
    {
     "data": {
      "text/html": [
       "<div>\n",
       "<style scoped>\n",
       "    .dataframe tbody tr th:only-of-type {\n",
       "        vertical-align: middle;\n",
       "    }\n",
       "\n",
       "    .dataframe tbody tr th {\n",
       "        vertical-align: top;\n",
       "    }\n",
       "\n",
       "    .dataframe thead th {\n",
       "        text-align: right;\n",
       "    }\n",
       "</style>\n",
       "<table border=\"1\" class=\"dataframe\">\n",
       "  <thead>\n",
       "    <tr style=\"text-align: right;\">\n",
       "      <th></th>\n",
       "      <th>Image Index</th>\n",
       "      <th>Finding Labels</th>\n",
       "      <th>Follow-up #</th>\n",
       "      <th>Patient ID</th>\n",
       "      <th>Patient Age</th>\n",
       "      <th>Patient Gender</th>\n",
       "      <th>View Position</th>\n",
       "      <th>OriginalImage[Width</th>\n",
       "      <th>Height]</th>\n",
       "      <th>OriginalImagePixelSpacing[x</th>\n",
       "      <th>...</th>\n",
       "      <th>Mass</th>\n",
       "      <th>No Finding</th>\n",
       "      <th>Nodule</th>\n",
       "      <th>Pleural_Thickening</th>\n",
       "      <th>Pneumonia</th>\n",
       "      <th>Pneumothorax</th>\n",
       "      <th>priority1</th>\n",
       "      <th>priority2</th>\n",
       "      <th>priority3</th>\n",
       "      <th>priority4</th>\n",
       "    </tr>\n",
       "  </thead>\n",
       "  <tbody>\n",
       "    <tr>\n",
       "      <th>30053</th>\n",
       "      <td>00007831_000.png</td>\n",
       "      <td>No Finding</td>\n",
       "      <td>0</td>\n",
       "      <td>7831</td>\n",
       "      <td>44</td>\n",
       "      <td>F</td>\n",
       "      <td>PA</td>\n",
       "      <td>2048</td>\n",
       "      <td>2500</td>\n",
       "      <td>0.168</td>\n",
       "      <td>...</td>\n",
       "      <td>0.0</td>\n",
       "      <td>1.0</td>\n",
       "      <td>0.0</td>\n",
       "      <td>0.0</td>\n",
       "      <td>0.0</td>\n",
       "      <td>0.0</td>\n",
       "      <td>0.0</td>\n",
       "      <td>0.0</td>\n",
       "      <td>0.0</td>\n",
       "      <td>1.0</td>\n",
       "    </tr>\n",
       "    <tr>\n",
       "      <th>83218</th>\n",
       "      <td>00020437_004.png</td>\n",
       "      <td>Nodule|Pneumothorax</td>\n",
       "      <td>4</td>\n",
       "      <td>20437</td>\n",
       "      <td>56</td>\n",
       "      <td>F</td>\n",
       "      <td>PA</td>\n",
       "      <td>2992</td>\n",
       "      <td>2991</td>\n",
       "      <td>0.143</td>\n",
       "      <td>...</td>\n",
       "      <td>0.0</td>\n",
       "      <td>0.0</td>\n",
       "      <td>1.0</td>\n",
       "      <td>0.0</td>\n",
       "      <td>0.0</td>\n",
       "      <td>1.0</td>\n",
       "      <td>1.0</td>\n",
       "      <td>0.0</td>\n",
       "      <td>0.0</td>\n",
       "      <td>0.0</td>\n",
       "    </tr>\n",
       "    <tr>\n",
       "      <th>15354</th>\n",
       "      <td>00004006_075.png</td>\n",
       "      <td>No Finding</td>\n",
       "      <td>75</td>\n",
       "      <td>4006</td>\n",
       "      <td>38</td>\n",
       "      <td>F</td>\n",
       "      <td>PA</td>\n",
       "      <td>2992</td>\n",
       "      <td>2991</td>\n",
       "      <td>0.143</td>\n",
       "      <td>...</td>\n",
       "      <td>0.0</td>\n",
       "      <td>1.0</td>\n",
       "      <td>0.0</td>\n",
       "      <td>0.0</td>\n",
       "      <td>0.0</td>\n",
       "      <td>0.0</td>\n",
       "      <td>0.0</td>\n",
       "      <td>0.0</td>\n",
       "      <td>0.0</td>\n",
       "      <td>1.0</td>\n",
       "    </tr>\n",
       "  </tbody>\n",
       "</table>\n",
       "<p>3 rows × 33 columns</p>\n",
       "</div>"
      ],
      "text/plain": [
       "            Image Index       Finding Labels  Follow-up #  Patient ID  \\\n",
       "30053  00007831_000.png           No Finding            0        7831   \n",
       "83218  00020437_004.png  Nodule|Pneumothorax            4       20437   \n",
       "15354  00004006_075.png           No Finding           75        4006   \n",
       "\n",
       "       Patient Age Patient Gender View Position  OriginalImage[Width  Height]  \\\n",
       "30053           44              F            PA                 2048     2500   \n",
       "83218           56              F            PA                 2992     2991   \n",
       "15354           38              F            PA                 2992     2991   \n",
       "\n",
       "       OriginalImagePixelSpacing[x  ...  Mass  No Finding Nodule  \\\n",
       "30053                        0.168  ...   0.0         1.0    0.0   \n",
       "83218                        0.143  ...   0.0         0.0    1.0   \n",
       "15354                        0.143  ...   0.0         1.0    0.0   \n",
       "\n",
       "      Pleural_Thickening  Pneumonia  Pneumothorax  priority1  priority2  \\\n",
       "30053                0.0        0.0           0.0        0.0        0.0   \n",
       "83218                0.0        0.0           1.0        1.0        0.0   \n",
       "15354                0.0        0.0           0.0        0.0        0.0   \n",
       "\n",
       "       priority3  priority4  \n",
       "30053        0.0        1.0  \n",
       "83218        0.0        0.0  \n",
       "15354        0.0        1.0  \n",
       "\n",
       "[3 rows x 33 columns]"
      ]
     },
     "execution_count": 20,
     "metadata": {},
     "output_type": "execute_result"
    }
   ],
   "source": [
    "print('All Priorities ({}): {}'.format(len(all_priorities), all_priorities))\n",
    "for p_label in all_priorities:\n",
    "    if len(p_label)>1: # leave out empty labels\n",
    "        all_xray_df[p_label] = all_xray_df['Priority Label'].map(lambda finding: 1.0 if p_label in finding else 0)\n",
    "all_xray_df.sample(3)"
   ]
  },
  {
   "cell_type": "code",
   "execution_count": 21,
   "metadata": {},
   "outputs": [
    {
     "name": "stdout",
     "output_type": "stream",
     "text": [
      "Atelectasis: 0.104575\n",
      "Cardiomegaly: 0.024267\n",
      "Consolidation: 0.041859\n",
      "Edema: 0.021072\n",
      "Effusion: 0.121629\n",
      "Emphysema: 0.022493\n",
      "Fibrosis: 0.013790\n",
      "Infiltration: 0.179267\n",
      "Mass: 0.053454\n",
      "No Finding: 0.535636\n",
      "Nodule: 0.057698\n",
      "Pleural_Thickening: 0.029991\n",
      "Pneumonia: 0.012702\n",
      "Pneumothorax: 0.047652\n",
      "[0.08259729 0.01916691 0.03306214 0.01664331 0.09606676 0.01776577\n",
      " 0.01089169 0.14159203 0.04221983 0.42306531 0.04557172 0.02368769\n",
      " 0.01003244 0.03763711]\n",
      "[0.04765172 0.0300886  0.3866238  0.53563588]\n"
     ]
    }
   ],
   "source": [
    "for c_label, s_count in zip(all_labels, np.mean(all_xray_df[all_labels].values,0)):\n",
    "    print('%s: %f' % (c_label, s_count))\n",
    "arrivals=np.array(np.mean(all_xray_df[all_labels].values,0))\n",
    "arrivals=arrivals/arrivals.sum(axis=0,keepdims=True)\n",
    "disease_priority=np.array([[0,0,1,0],[0,0,1,0],[0,0,1,0],[0,1,0,0],[0,0,1,0],\n",
    "                  [0,0,1,0],[0,0,1,0],[0,0,1,0],[0,0,1,0],[0,0,0,1],\n",
    "                  [0,0,1,0],[0,0,1,0],[0,1,0,0],[1,0,0,0]])\n",
    "print(arrivals)\n",
    "priority_arrivals=np.array(np.mean(all_xray_df[all_priorities].values,0))\n",
    "print(priority_arrivals)"
   ]
  },
  {
   "cell_type": "code",
   "execution_count": 22,
   "metadata": {},
   "outputs": [
    {
     "name": "stdout",
     "output_type": "stream",
     "text": [
      "Atelectasis           10670.0\n",
      "Cardiomegaly           2476.0\n",
      "Consolidation          4271.0\n",
      "Edema                  2150.0\n",
      "Effusion              12410.0\n",
      "Emphysema              2295.0\n",
      "Fibrosis               1407.0\n",
      "Infiltration          18291.0\n",
      "Mass                   5454.0\n",
      "No Finding            54652.0\n",
      "Nodule                 5887.0\n",
      "Pleural_Thickening     3060.0\n",
      "Pneumonia              1296.0\n",
      "Pneumothorax           4862.0\n",
      "dtype: float64\n",
      "priority1     4862.0\n",
      "priority2     3070.0\n",
      "priority3    39448.0\n",
      "priority4    54652.0\n",
      "dtype: float64\n"
     ]
    }
   ],
   "source": [
    "print(all_xray_df[all_labels].sum())\n",
    "print(all_xray_df[all_priorities].sum())"
   ]
  },
  {
   "cell_type": "code",
   "execution_count": 23,
   "metadata": {},
   "outputs": [],
   "source": [
    "all_xray_df1 = all_xray_df[all_xray_df['Priority Label'] == \"priority1\"].sample(frac=5,replace=True)\n"
   ]
  },
  {
   "cell_type": "code",
   "execution_count": 24,
   "metadata": {},
   "outputs": [],
   "source": [
    "all_xray_df2 = all_xray_df[all_xray_df['Priority Label'] == \"priority2\"].sample(frac=10,replace=True)"
   ]
  },
  {
   "cell_type": "code",
   "execution_count": 25,
   "metadata": {},
   "outputs": [],
   "source": [
    "all_xray_df3 = all_xray_df[all_xray_df['Priority Label'] == \"priority3\"].sample(frac=5,replace=True)"
   ]
  },
  {
   "cell_type": "code",
   "execution_count": 26,
   "metadata": {},
   "outputs": [],
   "source": [
    "all_xray_df_bal = pd.concat([all_xray_df,all_xray_df1,all_xray_df2,all_xray_df3],ignore_index=True)"
   ]
  },
  {
   "cell_type": "code",
   "execution_count": 27,
   "metadata": {},
   "outputs": [],
   "source": [
    "all_xray_df_bal=all_xray_df_bal.sample(frac=0.5)"
   ]
  },
  {
   "cell_type": "code",
   "execution_count": 28,
   "metadata": {},
   "outputs": [
    {
     "name": "stdout",
     "output_type": "stream",
     "text": [
      "priority1     14541.0\n",
      "priority2     16758.0\n",
      "priority3    118367.0\n",
      "priority4     27475.0\n",
      "dtype: float64\n"
     ]
    }
   ],
   "source": [
    "print(all_xray_df_bal[all_priorities].sum())"
   ]
  },
  {
   "cell_type": "code",
   "execution_count": 29,
   "metadata": {
    "scrolled": true
   },
   "outputs": [
    {
     "data": {
      "image/png": "[encoded data removed]",
      "text/plain": [
       "<Figure size 864x576 with 1 Axes>"
      ]
     },
     "metadata": {
      "needs_background": "light"
     },
     "output_type": "display_data"
    }
   ],
   "source": [
    "label_counts = all_xray_df_bal[all_priorities].sum()\n",
    "fig, ax1 = plt.subplots(1,1,figsize = (12, 8))\n",
    "ax1.bar(np.arange(len(label_counts))+0.5, label_counts)\n",
    "ax1.set_xticks(np.arange(len(label_counts))+0.5)\n",
    "_ = ax1.set_xticklabels(label_counts.index, rotation = 90)"
   ]
  },
  {
   "cell_type": "code",
   "execution_count": 30,
   "metadata": {
    "_cell_guid": "277caf38-f13d-4939-9eef-55efaf73020e",
    "_uuid": "cb9f18a64740580e1c541b8631d45720be5f36fe"
   },
   "outputs": [
    {
     "data": {
      "image/png": "[encoded data removed]",
      "text/plain": [
       "<Figure size 864x576 with 1 Axes>"
      ]
     },
     "metadata": {
      "needs_background": "light"
     },
     "output_type": "display_data"
    }
   ],
   "source": [
    "label_counts = 100*np.mean(all_xray_df_bal[all_labels].values,0)\n",
    "fig, ax1 = plt.subplots(1,1,figsize = (12, 8))\n",
    "ax1.bar(np.arange(len(label_counts))+0.5, label_counts)\n",
    "ax1.set_xticks(np.arange(len(label_counts))+0.5)\n",
    "ax1.set_xticklabels(all_labels, rotation = 90)\n",
    "ax1.set_title('Adjusted Frequency of Diseases in Patient Group')\n",
    "_ = ax1.set_ylabel('Frequency (%)')"
   ]
  },
  {
   "cell_type": "markdown",
   "metadata": {
    "_cell_guid": "a1367d63-4c7b-4e47-b19f-9a26d1f89476",
    "_uuid": "6ed6489bbd618fb419ceca2bbd8c300694f1d4ed",
    "scrolled": true
   },
   "source": [
    "# Prepare Training Data\n",
    "Here we split the data into training and validation sets and create a single vector (disease_vec) with the 0/1 outputs for the disease status (what the model will try and predict)"
   ]
  },
  {
   "cell_type": "code",
   "execution_count": 31,
   "metadata": {},
   "outputs": [],
   "source": [
    "all_xray_df['disease_vec'] = all_xray_df.apply(lambda x: [x[all_labels].values], 1).map(lambda x: x[0])\n",
    "all_xray_df['priority_vec'] = all_xray_df.apply(lambda x: [x[all_priorities].values], 1).map(lambda x: x[0])"
   ]
  },
  {
   "cell_type": "code",
   "execution_count": 32,
   "metadata": {},
   "outputs": [
    {
     "name": "stdout",
     "output_type": "stream",
     "text": [
      "24310    [0.0, 0.0, 0.0, 0.0, 0.0, 0.0, 0.0, 0.0, 0.0, ...\n",
      "74740    [0.0, 0.0, 0.0, 0.0, 0.0, 0.0, 0.0, 0.0, 0.0, ...\n",
      "31884    [0.0, 0.0, 0.0, 0.0, 0.0, 0.0, 0.0, 0.0, 0.0, ...\n",
      "Name: disease_vec, dtype: object\n",
      "98094    [0.0, 0.0, 0.0, 1.0]\n",
      "20681    [0.0, 0.0, 1.0, 0.0]\n",
      "47778    [0.0, 0.0, 0.0, 1.0]\n",
      "Name: priority_vec, dtype: object\n"
     ]
    }
   ],
   "source": [
    "print(all_xray_df['disease_vec'].sample(3))\n",
    "print(all_xray_df['priority_vec'].sample(3))"
   ]
  },
  {
   "cell_type": "code",
   "execution_count": 33,
   "metadata": {},
   "outputs": [],
   "source": [
    "all_xray_df_bal['disease_vec'] = all_xray_df_bal.apply(lambda x: [x[all_labels].values], 1).map(lambda x: x[0])\n",
    "all_xray_df_bal['priority_vec'] = all_xray_df_bal.apply(lambda x: [x[all_priorities].values], 1).map(lambda x: x[0])"
   ]
  },
  {
   "cell_type": "code",
   "execution_count": 34,
   "metadata": {},
   "outputs": [
    {
     "name": "stdout",
     "output_type": "stream",
     "text": [
      "37424     [0.0, 0.0, 0.0, 0.0, 0.0, 0.0, 0.0, 0.0, 0.0, ...\n",
      "73774     [0.0, 0.0, 0.0, 0.0, 0.0, 0.0, 1.0, 0.0, 0.0, ...\n",
      "109466    [0.0, 0.0, 0.0, 0.0, 0.0, 0.0, 0.0, 0.0, 0.0, ...\n",
      "Name: disease_vec, dtype: object\n",
      "247270    [0.0, 0.0, 1.0, 0.0]\n",
      "47095     [0.0, 0.0, 0.0, 1.0]\n",
      "69164     [0.0, 0.0, 1.0, 0.0]\n",
      "Name: priority_vec, dtype: object\n"
     ]
    }
   ],
   "source": [
    "print(all_xray_df_bal['disease_vec'].sample(3))\n",
    "print(all_xray_df_bal['priority_vec'].sample(3))"
   ]
  },
  {
   "cell_type": "code",
   "execution_count": 35,
   "metadata": {
    "_cell_guid": "5feddc96-7958-4d34-81f1-10eba94ab1b6",
    "_uuid": "8c7dc722de08243cc763d23928708f9c040bbdc6"
   },
   "outputs": [
    {
     "name": "stderr",
     "output_type": "stream",
     "text": [
      "/home/ubuntu/anaconda3/lib/python3.7/site-packages/sklearn/model_selection/_split.py:1462: DeprecationWarning: `np.int` is a deprecated alias for the builtin `int`. To silence this warning, use `int` by itself. Doing this will not modify any behavior and is safe. When replacing `np.int`, you may wish to use e.g. `np.int64` or `np.int32` to specify the precision. If you wish to review your current use, check the release note link for additional information.\n",
      "Deprecated in NumPy 1.20; for more details and guidance: https://numpy.org/devdocs/release/1.20.0-notes.html#deprecations\n",
      "  return floored.astype(np.int)\n",
      "/home/ubuntu/anaconda3/lib/python3.7/site-packages/sklearn/model_selection/_split.py:1462: DeprecationWarning: `np.int` is a deprecated alias for the builtin `int`. To silence this warning, use `int` by itself. Doing this will not modify any behavior and is safe. When replacing `np.int`, you may wish to use e.g. `np.int64` or `np.int32` to specify the precision. If you wish to review your current use, check the release note link for additional information.\n",
      "Deprecated in NumPy 1.20; for more details and guidance: https://numpy.org/devdocs/release/1.20.0-notes.html#deprecations\n",
      "  return floored.astype(np.int)\n"
     ]
    }
   ],
   "source": [
    "df=all_xray_df.sample(40000)\n",
    "from sklearn.model_selection import train_test_split\n",
    "valid_df, test_df = train_test_split(df, \n",
    "                                   test_size = 0.5, \n",
    "                                   random_state = 2018,\n",
    "                                   stratify = df['Priority Label'])"
   ]
  },
  {
   "cell_type": "code",
   "execution_count": 36,
   "metadata": {},
   "outputs": [],
   "source": [
    "train_df = all_xray_df_bal"
   ]
  },
  {
   "cell_type": "code",
   "execution_count": 37,
   "metadata": {},
   "outputs": [
    {
     "name": "stdout",
     "output_type": "stream",
     "text": [
      "train (177141, 35) validation (20000, 35) test (20000, 35)\n"
     ]
    }
   ],
   "source": [
    "print('train', train_df.shape, 'validation', valid_df.shape,'test', test_df.shape)"
   ]
  },
  {
   "cell_type": "code",
   "execution_count": 38,
   "metadata": {},
   "outputs": [
    {
     "name": "stdout",
     "output_type": "stream",
     "text": [
      "             Image Index                               Finding Labels  \\\n",
      "269564  00012509_009.png                                 Infiltration   \n",
      "25608   00009386_001.png                                   No Finding   \n",
      "72983   00020408_017.png  Atelectasis|Consolidation|Infiltration|Mass   \n",
      "\n",
      "        Follow-up #  Patient ID  Patient Age Patient Gender View Position  \\\n",
      "269564            9       12509           60              M            PA   \n",
      "25608             1        9386           30              F            AP   \n",
      "72983            17       20408           45              M            AP   \n",
      "\n",
      "        OriginalImage[Width  Height]  OriginalImagePixelSpacing[x  ...  \\\n",
      "269564                 2992     2991                        0.143  ...   \n",
      "25608                  2048     2500                        0.168  ...   \n",
      "72983                  2752     2544                        0.139  ...   \n",
      "\n",
      "        Pneumonia  Pneumothorax priority1 priority2  priority3  priority4  \\\n",
      "269564        0.0           0.0       0.0       0.0        1.0        0.0   \n",
      "25608         0.0           0.0       0.0       0.0        0.0        1.0   \n",
      "72983         0.0           0.0       0.0       0.0        1.0        0.0   \n",
      "\n",
      "                                              disease_vec  \\\n",
      "269564  [0.0, 0.0, 0.0, 0.0, 0.0, 0.0, 0.0, 1.0, 0.0, ...   \n",
      "25608   [0.0, 0.0, 0.0, 0.0, 0.0, 0.0, 0.0, 0.0, 0.0, ...   \n",
      "72983   [1.0, 0.0, 1.0, 0.0, 0.0, 0.0, 0.0, 1.0, 1.0, ...   \n",
      "\n",
      "                priority_vec  \\\n",
      "269564  [0.0, 0.0, 1.0, 0.0]   \n",
      "25608   [0.0, 0.0, 0.0, 1.0]   \n",
      "72983   [0.0, 0.0, 1.0, 0.0]   \n",
      "\n",
      "                                                newLabel  newLabelP  \n",
      "269564                                    [Infiltration]  priority3  \n",
      "25608                                       [No Finding]  priority4  \n",
      "72983   [Atelectasis, Consolidation, Infiltration, Mass]  priority3  \n",
      "\n",
      "[3 rows x 37 columns]\n"
     ]
    }
   ],
   "source": [
    "train_df['newLabel'] = train_df.apply(lambda x: x['Finding Labels'].split('|'), axis=1)\n",
    "train_df['newLabelP'] = train_df['Priority Label']\n",
    "print(train_df.sample(3))"
   ]
  },
  {
   "cell_type": "code",
   "execution_count": 39,
   "metadata": {},
   "outputs": [
    {
     "name": "stdout",
     "output_type": "stream",
     "text": [
      "            Image Index         Finding Labels  Follow-up #  Patient ID  \\\n",
      "13490  00003510_011.png  Effusion|Infiltration           11        3510   \n",
      "90831  00022615_000.png            Atelectasis            0       22615   \n",
      "23620  00006253_001.png             No Finding            1        6253   \n",
      "\n",
      "       Patient Age Patient Gender View Position  OriginalImage[Width  Height]  \\\n",
      "13490           38              F            PA                 2992     2991   \n",
      "90831           63              F            PA                 2488     3056   \n",
      "23620           48              F            PA                 2048     2500   \n",
      "\n",
      "       OriginalImagePixelSpacing[x  ...  Pneumonia  Pneumothorax priority1  \\\n",
      "13490                        0.143  ...        0.0           0.0       0.0   \n",
      "90831                        0.139  ...        0.0           0.0       0.0   \n",
      "23620                        0.171  ...        0.0           0.0       0.0   \n",
      "\n",
      "      priority2  priority3  priority4  \\\n",
      "13490       0.0        1.0        0.0   \n",
      "90831       0.0        1.0        0.0   \n",
      "23620       0.0        0.0        1.0   \n",
      "\n",
      "                                             disease_vec  \\\n",
      "13490  [0.0, 0.0, 0.0, 0.0, 1.0, 0.0, 0.0, 1.0, 0.0, ...   \n",
      "90831  [1.0, 0.0, 0.0, 0.0, 0.0, 0.0, 0.0, 0.0, 0.0, ...   \n",
      "23620  [0.0, 0.0, 0.0, 0.0, 0.0, 0.0, 0.0, 0.0, 0.0, ...   \n",
      "\n",
      "               priority_vec                  newLabel  newLabelP  \n",
      "13490  [0.0, 0.0, 1.0, 0.0]  [Effusion, Infiltration]  priority3  \n",
      "90831  [0.0, 0.0, 1.0, 0.0]             [Atelectasis]  priority3  \n",
      "23620  [0.0, 0.0, 0.0, 1.0]              [No Finding]  priority4  \n",
      "\n",
      "[3 rows x 37 columns]\n"
     ]
    },
    {
     "name": "stderr",
     "output_type": "stream",
     "text": [
      "/home/ubuntu/anaconda3/lib/python3.7/site-packages/ipykernel_launcher.py:1: SettingWithCopyWarning: \n",
      "A value is trying to be set on a copy of a slice from a DataFrame.\n",
      "Try using .loc[row_indexer,col_indexer] = value instead\n",
      "\n",
      "See the caveats in the documentation: http://pandas.pydata.org/pandas-docs/stable/indexing.html#indexing-view-versus-copy\n",
      "  \"\"\"Entry point for launching an IPython kernel.\n",
      "/home/ubuntu/anaconda3/lib/python3.7/site-packages/ipykernel_launcher.py:2: SettingWithCopyWarning: \n",
      "A value is trying to be set on a copy of a slice from a DataFrame.\n",
      "Try using .loc[row_indexer,col_indexer] = value instead\n",
      "\n",
      "See the caveats in the documentation: http://pandas.pydata.org/pandas-docs/stable/indexing.html#indexing-view-versus-copy\n",
      "  \n"
     ]
    }
   ],
   "source": [
    "valid_df['newLabel'] = valid_df.apply(lambda x: x['Finding Labels'].split('|'), axis=1)\n",
    "valid_df['newLabelP'] = valid_df['Priority Label']\n",
    "print(valid_df.sample(3))"
   ]
  },
  {
   "cell_type": "code",
   "execution_count": 40,
   "metadata": {},
   "outputs": [
    {
     "name": "stdout",
     "output_type": "stream",
     "text": [
      "            Image Index                 Finding Labels  Follow-up #  \\\n",
      "74434  00018259_001.png                     No Finding            1   \n",
      "78918  00019373_005.png  Emphysema|Nodule|Pneumothorax            5   \n",
      "40254  00010484_014.png                     No Finding           14   \n",
      "\n",
      "       Patient ID  Patient Age Patient Gender View Position  \\\n",
      "74434       18259           56              M            AP   \n",
      "78918       19373           39              M            PA   \n",
      "40254       10484           59              F            PA   \n",
      "\n",
      "       OriginalImage[Width  Height]  OriginalImagePixelSpacing[x  ...  \\\n",
      "74434                 2500     2048                        0.168  ...   \n",
      "78918                 3056     2544                        0.139  ...   \n",
      "40254                 2986     2991                        0.143  ...   \n",
      "\n",
      "       Pneumonia  Pneumothorax priority1 priority2  priority3  priority4  \\\n",
      "74434        0.0           0.0       0.0       0.0        0.0        1.0   \n",
      "78918        0.0           1.0       1.0       0.0        0.0        0.0   \n",
      "40254        0.0           0.0       0.0       0.0        0.0        1.0   \n",
      "\n",
      "                                             disease_vec  \\\n",
      "74434  [0.0, 0.0, 0.0, 0.0, 0.0, 0.0, 0.0, 0.0, 0.0, ...   \n",
      "78918  [0.0, 0.0, 0.0, 0.0, 0.0, 1.0, 0.0, 0.0, 0.0, ...   \n",
      "40254  [0.0, 0.0, 0.0, 0.0, 0.0, 0.0, 0.0, 0.0, 0.0, ...   \n",
      "\n",
      "               priority_vec                           newLabel  newLabelP  \n",
      "74434  [0.0, 0.0, 0.0, 1.0]                       [No Finding]  priority4  \n",
      "78918  [1.0, 0.0, 0.0, 0.0]  [Emphysema, Nodule, Pneumothorax]  priority1  \n",
      "40254  [0.0, 0.0, 0.0, 1.0]                       [No Finding]  priority4  \n",
      "\n",
      "[3 rows x 37 columns]\n"
     ]
    },
    {
     "name": "stderr",
     "output_type": "stream",
     "text": [
      "/home/ubuntu/anaconda3/lib/python3.7/site-packages/ipykernel_launcher.py:1: SettingWithCopyWarning: \n",
      "A value is trying to be set on a copy of a slice from a DataFrame.\n",
      "Try using .loc[row_indexer,col_indexer] = value instead\n",
      "\n",
      "See the caveats in the documentation: http://pandas.pydata.org/pandas-docs/stable/indexing.html#indexing-view-versus-copy\n",
      "  \"\"\"Entry point for launching an IPython kernel.\n",
      "/home/ubuntu/anaconda3/lib/python3.7/site-packages/ipykernel_launcher.py:2: SettingWithCopyWarning: \n",
      "A value is trying to be set on a copy of a slice from a DataFrame.\n",
      "Try using .loc[row_indexer,col_indexer] = value instead\n",
      "\n",
      "See the caveats in the documentation: http://pandas.pydata.org/pandas-docs/stable/indexing.html#indexing-view-versus-copy\n",
      "  \n"
     ]
    }
   ],
   "source": [
    "test_df['newLabel'] = test_df.apply(lambda x: x['Finding Labels'].split('|'), axis=1)\n",
    "test_df['newLabelP'] = test_df['Priority Label']\n",
    "print(test_df.sample(3))"
   ]
  },
  {
   "cell_type": "code",
   "execution_count": null,
   "metadata": {},
   "outputs": [],
   "source": [
    "import tensorflow as tf\n",
    "def queue_wait_cost(pmat,costs,arrivals,service):\n",
    "    clambda = costs*arrivals\n",
    "    rho = arrivals/service\n",
    "    clambda_pmat = np.matmul(clambda,pmat)\n",
    "    rho_pmat = np.matmul(rho,pmat)\n",
    "    vec1=1-np.cumsum(rho_pmat)\n",
    "    vec2=np.roll(1-np.cumsum(rho_pmat),1)\n",
    "    vec2[0]=1\n",
    "    denom = (1/vec1)*(1/vec2)\n",
    "    return sum(clambda_pmat*denom)\n",
    "def queue_wait_cost_priority(pmat,priority_costs,priority_arrivals,priority_service):\n",
    "    clambda = priority_costs*priority_arrivals\n",
    "    rho = priority_arrivals/priority_service\n",
    "    clambda_pmat = np.matmul(clambda,pmat)\n",
    "    rho_pmat = np.matmul(rho,pmat)\n",
    "    vec1=1-np.cumsum(rho_pmat)\n",
    "    vec2=np.roll(1-np.cumsum(rho_pmat),1)\n",
    "    vec2[0]=1\n",
    "    denom = (1/vec1)*(1/vec2)\n",
    "    return sum(clambda_pmat*denom)\n",
    "def queue_loss(y_true,y_pred):\n",
    "    y_pred = y_pred/y_pred.sum(axis=1,keepdims=True)\n",
    "    pmat = np.matmul(np.transpose(y_true),y_pred)\n",
    "    pmat = pmat/pmat.sum(axis=1,keepdims=True)\n",
    "    clambda = costs*arrivals\n",
    "    rho = arrivals/service\n",
    "    clambda_pmat = np.matmul(clambda,pmat)\n",
    "    rho_pmat = np.matmul(rho,pmat)\n",
    "    vec1=1-np.cumsum(rho_pmat)\n",
    "    vec2=np.roll(1-np.cumsum(rho_pmat),1)\n",
    "    vec2[0]=1\n",
    "    denom = (1/vec1)*(1/vec2)\n",
    "    return sum(clambda_pmat*denom)\n",
    "\n",
    "def queue_loss_tensor(y_true,y_pred):\n",
    "    y_true = tf.cast(y_true, tf.float32)\n",
    "    y_pred = tf.cast(y_pred, tf.float32)\n",
    "    #y_pred = tf.divide(y_pred,tf.reduce_sum(y_pred,axis=1,keepdims=True)+0.000000000001)\n",
    "    pmat = tf.matmul(tf.transpose(y_true),y_pred)\n",
    "    pmat = tf.divide(pmat,tf.reduce_sum(pmat,axis=1,keepdims=True)+0.000000000001)\n",
    "    clambda = tf.reshape(tf.cast(tf.Variable(costs*arrivals),tf.float32),[1,14])\n",
    "    rho = tf.reshape(tf.cast(tf.Variable(arrivals/service),tf.float32),[1,14])\n",
    "    #print(rho.shape)\n",
    "    clambda_pmat = tf.matmul(clambda,pmat)\n",
    "    rho_pmat = tf.matmul(rho,pmat)\n",
    "    vec1=1-tf.cumsum(rho_pmat,axis=1)\n",
    "    #print(vec1)\n",
    "    vec2=tf.roll(1-tf.cumsum(rho_pmat,axis=1),shift=1,axis=1)\n",
    "    #print(vec2)\n",
    "    vec2=tf.tensor_scatter_nd_update(vec2,indices=[[0,0]],updates=[1])\n",
    "    #print(vec2)\n",
    "    #print (tf.math.reciprocal(vec2))\n",
    "    denom = tf.multiply(tf.math.reciprocal(vec1+0.00000000000001),tf.math.reciprocal(vec2+0.00000000000001))\n",
    "    return tf.reshape(tf.reduce_sum(tf.multiply(clambda_pmat,denom)),[])\n",
    "def queue_loss_tensor_priority(y_true,y_pred):\n",
    "    y_true = tf.cast(y_true, tf.float32)\n",
    "    y_pred = tf.cast(y_pred, tf.float32)\n",
    "    #y_pred = tf.divide(y_pred,tf.reduce_sum(y_pred,axis=1,keepdims=True)+0.000000000001)\n",
    "    pmat = tf.matmul(tf.transpose(y_true),y_pred)\n",
    "    pmat = tf.divide(pmat,tf.reduce_sum(pmat,axis=1,keepdims=True)+0.000000000001)\n",
    "    clambda = tf.reshape(tf.cast(tf.Variable(priority_costs*priority_arrivals),tf.float32),[1,n_priorities])\n",
    "    rho = tf.reshape(tf.cast(tf.Variable(priority_arrivals/priority_service),tf.float32),[1,n_priorities])\n",
    "    #print(rho.shape)\n",
    "    clambda_pmat = tf.matmul(clambda,pmat)\n",
    "    rho_pmat = tf.matmul(rho,pmat)\n",
    "    vec1=1-tf.cumsum(rho_pmat,axis=1)\n",
    "    #print(vec1)\n",
    "    vec2=tf.roll(1-tf.cumsum(rho_pmat,axis=1),shift=1,axis=1)\n",
    "    #print(vec2)\n",
    "    vec2=tf.tensor_scatter_nd_update(vec2,indices=[[0,0]],updates=[1])\n",
    "    #print(vec2)\n",
    "    #print (tf.math.reciprocal(vec2))\n",
    "    denom = tf.multiply(tf.math.reciprocal(vec1+0.00000000000001),tf.math.reciprocal(vec2+0.00000000000001))\n",
    "    return tf.reshape(tf.reduce_sum(tf.multiply(clambda_pmat,denom)),[])\n",
    "    "
   ]
  },
  {
   "cell_type": "markdown",
   "metadata": {},
   "source": [
    "# Training the Model"
   ]
  },
  {
   "cell_type": "code",
   "execution_count": null,
   "metadata": {},
   "outputs": [
    {
     "name": "stderr",
     "output_type": "stream",
     "text": [
      "Using TensorFlow backend.\n"
     ]
    }
   ],
   "source": [
    "from tensorflow.keras.applications.mobilenet import MobileNet\n",
    "from tensorflow.keras.layers import GlobalAveragePooling2D, Dense, Dropout, Flatten\n",
    "from tensorflow.keras.models import Sequential\n",
    "from keras import optimizers, callbacks, regularizers"
   ]
  },
  {
   "cell_type": "code",
   "execution_count": null,
   "metadata": {},
   "outputs": [],
   "source": [
    "def MakeModel1(IMG_SIZE, bs, channels=1):\n",
    "    model = Sequential()\n",
    "    base_mobilenet_model = MobileNet(input_shape =  (*IMG_SIZE, channels), #Need to define the shape here from IMG_SIZE\n",
    "                                 include_top = False, weights = None)\n",
    "    model.add(base_mobilenet_model)\n",
    "    model.add(GlobalAveragePooling2D())\n",
    "    model.add(Dropout(0.5))\n",
    "    model.add(Dense(512))\n",
    "    model.add(Dropout(0.5))\n",
    "    model.add(Dense(len(all_labels), activation = 'sigmoid'))\n",
    "    return model\n",
    "def MakeModel2(n_priorities,IMG_SIZE, bs, channels=1):\n",
    "    model = Sequential()\n",
    "    base_mobilenet_model = MobileNet(input_shape =  (*IMG_SIZE, channels), #Need to define the shape here from IMG_SIZE\n",
    "                                 include_top = False, weights = None)\n",
    "    model.add(base_mobilenet_model)\n",
    "    model.add(GlobalAveragePooling2D())\n",
    "    model.add(Dropout(0.5))\n",
    "    model.add(Dense(512))\n",
    "    model.add(Dropout(0.5))\n",
    "    model.add(Dense(len(all_labels),activation = 'sigmoid'))\n",
    "    model.add(Dense(n_priorities, activation = 'softmax'))\n",
    "    return model\n",
    "def MakeModel3(n_priorities,IMG_SIZE, bs, channels=1):\n",
    "    model = Sequential()\n",
    "    base_mobilenet_model = MobileNet(input_shape =  (*IMG_SIZE, channels), #Need to define the shape here from IMG_SIZE\n",
    "                                 include_top = False, weights = None)\n",
    "    model.add(base_mobilenet_model)\n",
    "    model.add(GlobalAveragePooling2D())\n",
    "    model.add(Dropout(0.5))\n",
    "    model.add(Dense(512))\n",
    "    model.add(Dropout(0.5))\n",
    "    model.add(Dense(n_priorities, activation = 'softmax'))\n",
    "    return model"
   ]
  },
  {
   "cell_type": "code",
   "execution_count": null,
   "metadata": {},
   "outputs": [],
   "source": [
    "from keras.preprocessing.image import ImageDataGenerator\n",
    "core_idg = ImageDataGenerator(samplewise_center=True, \n",
    "                              samplewise_std_normalization=True, \n",
    "                              horizontal_flip = True, \n",
    "                              vertical_flip = False, \n",
    "                              height_shift_range= 0.05, \n",
    "                              width_shift_range=0.1, \n",
    "                              rotation_range=5, \n",
    "                              shear_range = 0.1,\n",
    "                              fill_mode = 'reflect',\n",
    "                              zoom_range=0.15)"
   ]
  },
  {
   "cell_type": "code",
   "execution_count": null,
   "metadata": {},
   "outputs": [],
   "source": [
    "n_priorities=4"
   ]
  },
  {
   "cell_type": "code",
   "execution_count": null,
   "metadata": {},
   "outputs": [
    {
     "name": "stdout",
     "output_type": "stream",
     "text": [
      "Found 177141 validated image filenames belonging to 14 classes.\n",
      "Found 20000 validated image filenames belonging to 14 classes.\n"
     ]
    }
   ],
   "source": [
    "lr = 0.0005\n",
    "syntheticBatch = 256\n",
    "imageSize = (512, 512)\n",
    "colorMode = 'rgb'\n",
    "channels = 3\n",
    "batchSize = 32\n",
    "batch = int(256 / batchSize)\n",
    "STEPS_PER_EPOCH = 1000\n",
    "EPOCHS = 100\n",
    "from tensorflow.keras.callbacks import ModelCheckpoint, LearningRateScheduler, EarlyStopping, ReduceLROnPlateau\n",
    "weight_path=\"{}_weights.best.sequential.june9.hdf5\".format('xray_class')\n",
    "checkpoint = ModelCheckpoint(weight_path, monitor='val_loss', verbose=1, \n",
    "                             save_best_only=True, mode='min', save_weights_only = True)\n",
    "\n",
    "early = EarlyStopping(monitor=\"val_loss\", \n",
    "                      mode=\"min\", \n",
    "                      patience=5)\n",
    "callbacks_list = [checkpoint, early]\n",
    "\n",
    "\n",
    "train_gen = core_idg.flow_from_dataframe(dataframe=train_df, \n",
    "                         directory=None,\n",
    "                         x_col = 'path',\n",
    "                        y_col = 'newLabel', \n",
    "                         class_mode = 'categorical',\n",
    "                        classes = all_labels,\n",
    "                        target_size = imageSize,\n",
    "                         color_mode = colorMode,\n",
    "                        batch_size = batchSize)\n",
    "\n",
    "valid_gen = core_idg.flow_from_dataframe(dataframe=valid_df, \n",
    "                         directory=None,\n",
    "                         x_col = 'path',\n",
    "                        y_col = 'newLabel', \n",
    "                         class_mode = 'categorical',\n",
    "                        classes = all_labels,\n",
    "                        target_size = imageSize,\n",
    "                         color_mode = colorMode,\n",
    "                        batch_size = batchSize) # we can use much larger batches for evaluation\n",
    "\n",
    "\n",
    "opt = tensorflow.keras.optimizers.Adam(\n",
    "    learning_rate=lr,\n",
    "    beta_1=0.9,\n",
    "    beta_2=0.999,\n",
    "    epsilon=1e-07,\n",
    "    amsgrad=False,\n",
    "    name=\"Adam\"\n",
    ")\n"
   ]
  },
  {
   "cell_type": "code",
   "execution_count": null,
   "metadata": {},
   "outputs": [],
   "source": [
    "import gc\n",
    "gc.collect()\n",
    "multi_disease_model = MakeModel1(imageSize, batchSize, channels)\n",
    "multi_disease_model.load_weights(\"xray_class_weights.best.sequential.june9.hdf5\")\n"
   ]
  },
  {
   "cell_type": "code",
   "execution_count": null,
   "metadata": {},
   "outputs": [
    {
     "name": "stderr",
     "output_type": "stream",
     "text": [
      "/home/ubuntu/anaconda3/lib/python3.7/site-packages/tensorflow/python/keras/engine/training.py:1844: UserWarning: `Model.fit_generator` is deprecated and will be removed in a future version. Please use `Model.fit`, which supports generators.\n",
      "  warnings.warn('`Model.fit_generator` is deprecated and '\n"
     ]
    },
    {
     "name": "stdout",
     "output_type": "stream",
     "text": [
      "Epoch 1/20\n",
      " 356/1000 [=========>....................] - ETA: 27:03 - loss: 0.2952 - binary_accuracy: 0.8928 - mae: 0.1702"
     ]
    }
   ],
   "source": [
    "multi_disease_model.compile(optimizer = opt, loss = 'binary_crossentropy',\n",
    "       metrics = ['binary_accuracy', 'mae'])\n",
    "\n",
    "history = multi_disease_model.fit_generator(train_gen,                           \n",
    "              validation_data = valid_gen, \n",
    "              steps_per_epoch=1000,                              \n",
    "              epochs = 20, \n",
    "              callbacks = callbacks_list)"
   ]
  },
  {
   "cell_type": "code",
   "execution_count": 51,
   "metadata": {},
   "outputs": [
    {
     "data": {
      "text/plain": [
       "{'loss': [0.293517142534256,\n",
       "  0.2906646132469177,\n",
       "  0.28866204619407654,\n",
       "  0.28455397486686707,\n",
       "  0.28173625469207764,\n",
       "  0.2793566584587097,\n",
       "  0.2774037718772888,\n",
       "  0.2750694155693054],\n",
       " 'binary_accuracy': [0.8931008577346802,\n",
       "  0.8937939405441284,\n",
       "  0.8938009142875671,\n",
       "  0.8942359089851379,\n",
       "  0.8951245546340942,\n",
       "  0.8951717019081116,\n",
       "  0.8958483338356018,\n",
       "  0.8961988687515259],\n",
       " 'mae': [0.16969558596611023,\n",
       "  0.16810785233974457,\n",
       "  0.16755330562591553,\n",
       "  0.1655551791191101,\n",
       "  0.16390125453472137,\n",
       "  0.16296105086803436,\n",
       "  0.16164104640483856,\n",
       "  0.1604762077331543],\n",
       " 'val_loss': [0.24629133939743042,\n",
       "  0.3181089758872986,\n",
       "  0.2400800585746765,\n",
       "  0.2460232675075531,\n",
       "  0.24125993251800537,\n",
       "  0.27051442861557007,\n",
       "  0.24615275859832764,\n",
       "  0.2511058449745178],\n",
       " 'val_binary_accuracy': [0.9095287322998047,\n",
       "  0.9020465612411499,\n",
       "  0.9124106168746948,\n",
       "  0.9095643758773804,\n",
       "  0.9085497260093689,\n",
       "  0.8985071182250977,\n",
       "  0.903996467590332,\n",
       "  0.9081324934959412],\n",
       " 'val_mae': [0.152147576212883,\n",
       "  0.18519647419452667,\n",
       "  0.14446426928043365,\n",
       "  0.1495513617992401,\n",
       "  0.1518176794052124,\n",
       "  0.16189360618591309,\n",
       "  0.14810802042484283,\n",
       "  0.15537798404693604]}"
      ]
     },
     "execution_count": 51,
     "metadata": {},
     "output_type": "execute_result"
    }
   ],
   "source": [
    "history.history"
   ]
  },
  {
   "cell_type": "code",
   "execution_count": 61,
   "metadata": {},
   "outputs": [
    {
     "name": "stdout",
     "output_type": "stream",
     "text": [
      "Found 20000 validated image filenames belonging to 14 classes.\n"
     ]
    }
   ],
   "source": [
    "test_X, test_Y = next(core_idg.flow_from_dataframe(dataframe=test_df, \n",
    "                             directory=None,\n",
    "                             x_col = 'path',\n",
    "                            y_col = 'newLabel', \n",
    "                             class_mode = 'categorical',\n",
    "                            classes = all_labels,\n",
    "                            target_size = imageSize,\n",
    "                             color_mode = colorMode,\n",
    "                            batch_size = 2000))"
   ]
  },
  {
   "cell_type": "code",
   "execution_count": 62,
   "metadata": {},
   "outputs": [
    {
     "name": "stdout",
     "output_type": "stream",
     "text": [
      "63/63 [==============================] - 21s 341ms/step\n"
     ]
    }
   ],
   "source": [
    "pred_Y = multi_disease_model.predict(test_X, batch_size = 32, verbose = True)"
   ]
  },
  {
   "cell_type": "code",
   "execution_count": 63,
   "metadata": {},
   "outputs": [
    {
     "data": {
      "image/png": "[encoded data removed]",
      "text/plain": [
       "<Figure size 648x648 with 1 Axes>"
      ]
     },
     "metadata": {
      "needs_background": "light"
     },
     "output_type": "display_data"
    }
   ],
   "source": [
    "from sklearn.metrics import roc_curve, auc\n",
    "fig, c_ax = plt.subplots(1,1, figsize = (9, 9))\n",
    "for (idx, c_label) in enumerate(all_labels):\n",
    "    fpr, tpr, thresholds = roc_curve(test_Y[:,idx].astype(int), pred_Y[:,idx])\n",
    "    c_ax.plot(fpr, tpr, label = '%s (AUC:%0.2f)'  % (c_label, auc(fpr, tpr)))\n",
    "c_ax.legend()\n",
    "c_ax.set_xlabel('False Positive Rate')\n",
    "c_ax.set_ylabel('True Positive Rate')\n",
    "fig.savefig('trained_net.pdf')"
   ]
  },
  {
   "cell_type": "code",
   "execution_count": null,
   "metadata": {},
   "outputs": [],
   "source": []
  }
 ],
 "metadata": {
  "kernelspec": {
   "display_name": "Python 3",
   "language": "python",
   "name": "python3"
  },
  "language_info": {
   "codemirror_mode": {
    "name": "ipython",
    "version": 3
   },
   "file_extension": ".py",
   "mimetype": "text/x-python",
   "name": "python",
   "nbconvert_exporter": "python",
   "pygments_lexer": "ipython3",
   "version": "3.7.10"
  }
 },
 "nbformat": 4,
 "nbformat_minor": 1
}
