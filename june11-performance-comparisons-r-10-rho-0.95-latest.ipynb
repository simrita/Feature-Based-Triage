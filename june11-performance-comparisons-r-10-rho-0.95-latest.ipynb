{
 "cells": [
  {
   "cell_type": "code",
   "execution_count": 1,
   "metadata": {},
   "outputs": [
    {
     "name": "stdout",
     "output_type": "stream",
     "text": [
      "3.7.10\n"
     ]
    }
   ],
   "source": [
    "from platform import python_version\n",
    "print(python_version())\n",
    "from numba import cuda\n",
    "cuda.select_device(0)\n",
    "cuda.close()"
   ]
  },
  {
   "cell_type": "markdown",
   "metadata": {},
   "source": [
    "A: The usage of the data set is unrestricted. But you should provide the link to our original download site, acknowledge the NIH Clinical Center and provide a citation to our CVPR 2017 paper"
   ]
  },
  {
   "cell_type": "markdown",
   "metadata": {},
   "source": [
    "A: ‘No finding’ means the 14 listed disease patterns are not found in the image. "
   ]
  },
  {
   "cell_type": "markdown",
   "metadata": {},
   "source": [
    "https://www.kaggle.com/nih-chest-xrays/data\n",
    "\n",
    "Citations\n",
    "Wang X, Peng Y, Lu L, Lu Z, Bagheri M, Summers RM. ChestX-ray8: Hospital-scale Chest X-ray Database and Benchmarks on Weakly-Supervised Classification and Localization of Common Thorax Diseases. IEEE CVPR 2017, ChestX-ray8_Hospital-Scale_Chest_CVPR_2017_paper.pdf\n",
    "\n",
    "NIH News release: NIH Clinical Center provides one of the largest publicly available chest x-ray datasets to scientific community\n",
    "\n",
    "Original source files and documents: https://nihcc.app.box.com/v/ChestXray-NIHCC/folder/36938765345"
   ]
  },
  {
   "cell_type": "markdown",
   "metadata": {},
   "source": [
    "### Context Behind Dataset for Final Writeup:"
   ]
  },
  {
   "cell_type": "markdown",
   "metadata": {},
   "source": [
    "Dataset was gathered by the NIH and contains over 100,000 anonymized chest x-ray images from more than 30,000 patients.  "
   ]
  },
  {
   "cell_type": "markdown",
   "metadata": {
    "_cell_guid": "19ff9d0b-d32d-4325-a19f-2ccbfa7d2dff",
    "_uuid": "9206c5863724e1af01281071e0f0ee5109ef431b"
   },
   "source": [
    "# Goal\n",
    "The goal is to use a simple model to classify x-ray images in Keras"
   ]
  },
  {
   "cell_type": "code",
   "execution_count": 2,
   "metadata": {
    "_cell_guid": "f42f6560-edf0-4efb-85a6-6e945e50895b",
    "_uuid": "3300a1edbf2e8122d88093998eb503a6fab8a719"
   },
   "outputs": [
    {
     "name": "stderr",
     "output_type": "stream",
     "text": [
      "\n",
      "Bad key \"text.kerning_factor\" on line 4 in\n",
      "/home/ubuntu/anaconda3/lib/python3.7/site-packages/matplotlib/mpl-data/stylelib/_classic_test_patch.mplstyle.\n",
      "You probably need to get an updated matplotlibrc file from\n",
      "http://github.com/matplotlib/matplotlib/blob/master/matplotlibrc.template\n",
      "or from the matplotlib source distribution\n"
     ]
    }
   ],
   "source": [
    "import numpy as np # linear algebra\n",
    "import pandas as pd # data processing, CSV file I/O (e.g. pd.read_csv)\n",
    "import os\n",
    "from glob import glob\n",
    "%matplotlib inline\n",
    "import matplotlib.pyplot as plt"
   ]
  },
  {
   "cell_type": "code",
   "execution_count": 3,
   "metadata": {},
   "outputs": [],
   "source": [
    "import tensorflow"
   ]
  },
  {
   "cell_type": "code",
   "execution_count": 4,
   "metadata": {},
   "outputs": [
    {
     "data": {
      "text/plain": [
       "[('00018942_001.png', '../data/images_009/images/00018942_001.png'),\n",
       " ('00020323_001.png', '../data/images_009/images/00020323_001.png'),\n",
       " ('00018730_001.png', '../data/images_009/images/00018730_001.png'),\n",
       " ('00019551_000.png', '../data/images_009/images/00019551_000.png')]"
      ]
     },
     "execution_count": 4,
     "metadata": {},
     "output_type": "execute_result"
    }
   ],
   "source": [
    "all_xray_df = pd.read_csv('../data/Data_Entry_2017.csv')\n",
    "folderlist = glob(os.path.join('../data', 'images*'))\n",
    "imglist = []\n",
    "for folder in folderlist:\n",
    "    tmp = glob(os.path.join(folder, \"images\", \"*.png\"))\n",
    "    imglist += tmp\n",
    "all_image_paths = {os.path.basename(x): x for x in imglist}\n",
    "#{k:all_image_paths[k] for k in all_image_paths.keys()[:5]}\n",
    "list(all_image_paths.items())[:4]\n",
    "# all_image_paths = {os.path.basename(x): x for x in \n",
    "#                    glob(os.path.join('.', 'data', 'images*', '*.png'))}\n",
    "\n"
   ]
  },
  {
   "cell_type": "code",
   "execution_count": 5,
   "metadata": {},
   "outputs": [
    {
     "name": "stdout",
     "output_type": "stream",
     "text": [
      "Scans found: 112120 , Total Headers 112120\n",
      "[('00002587_005.png', '../data/images_002/images/00002587_005.png'), ('00002588_000.png', '../data/images_002/images/00002588_000.png'), ('00002589_000.png', '../data/images_002/images/00002589_000.png'), ('00002589_001.png', '../data/images_002/images/00002589_001.png')]\n"
     ]
    },
    {
     "data": {
      "text/html": [
       "<div>\n",
       "<style scoped>\n",
       "    .dataframe tbody tr th:only-of-type {\n",
       "        vertical-align: middle;\n",
       "    }\n",
       "\n",
       "    .dataframe tbody tr th {\n",
       "        vertical-align: top;\n",
       "    }\n",
       "\n",
       "    .dataframe thead th {\n",
       "        text-align: right;\n",
       "    }\n",
       "</style>\n",
       "<table border=\"1\" class=\"dataframe\">\n",
       "  <thead>\n",
       "    <tr style=\"text-align: right;\">\n",
       "      <th></th>\n",
       "      <th>Image Index</th>\n",
       "      <th>Finding Labels</th>\n",
       "      <th>Follow-up #</th>\n",
       "      <th>Patient ID</th>\n",
       "      <th>Patient Age</th>\n",
       "      <th>Patient Gender</th>\n",
       "      <th>View Position</th>\n",
       "      <th>OriginalImage[Width</th>\n",
       "      <th>Height]</th>\n",
       "      <th>OriginalImagePixelSpacing[x</th>\n",
       "      <th>y]</th>\n",
       "      <th>Unnamed: 11</th>\n",
       "      <th>path</th>\n",
       "    </tr>\n",
       "  </thead>\n",
       "  <tbody>\n",
       "    <tr>\n",
       "      <th>55749</th>\n",
       "      <td>00013950_007.png</td>\n",
       "      <td>Atelectasis|Infiltration</td>\n",
       "      <td>7</td>\n",
       "      <td>13950</td>\n",
       "      <td>65</td>\n",
       "      <td>M</td>\n",
       "      <td>AP</td>\n",
       "      <td>2500</td>\n",
       "      <td>2048</td>\n",
       "      <td>0.168</td>\n",
       "      <td>0.168</td>\n",
       "      <td>NaN</td>\n",
       "      <td>../data/images_007/images/00013950_007.png</td>\n",
       "    </tr>\n",
       "    <tr>\n",
       "      <th>81336</th>\n",
       "      <td>00019978_001.png</td>\n",
       "      <td>Atelectasis|Pneumonia</td>\n",
       "      <td>1</td>\n",
       "      <td>19978</td>\n",
       "      <td>51</td>\n",
       "      <td>F</td>\n",
       "      <td>PA</td>\n",
       "      <td>2854</td>\n",
       "      <td>2991</td>\n",
       "      <td>0.143</td>\n",
       "      <td>0.143</td>\n",
       "      <td>NaN</td>\n",
       "      <td>../data/images_009/images/00019978_001.png</td>\n",
       "    </tr>\n",
       "    <tr>\n",
       "      <th>103875</th>\n",
       "      <td>00027725_049.png</td>\n",
       "      <td>Atelectasis|Infiltration</td>\n",
       "      <td>49</td>\n",
       "      <td>27725</td>\n",
       "      <td>21</td>\n",
       "      <td>M</td>\n",
       "      <td>AP</td>\n",
       "      <td>3056</td>\n",
       "      <td>2544</td>\n",
       "      <td>0.139</td>\n",
       "      <td>0.139</td>\n",
       "      <td>NaN</td>\n",
       "      <td>../data/images_011/images/00027725_049.png</td>\n",
       "    </tr>\n",
       "  </tbody>\n",
       "</table>\n",
       "</div>"
      ],
      "text/plain": [
       "             Image Index            Finding Labels  Follow-up #  Patient ID  \\\n",
       "55749   00013950_007.png  Atelectasis|Infiltration            7       13950   \n",
       "81336   00019978_001.png     Atelectasis|Pneumonia            1       19978   \n",
       "103875  00027725_049.png  Atelectasis|Infiltration           49       27725   \n",
       "\n",
       "        Patient Age Patient Gender View Position  OriginalImage[Width  \\\n",
       "55749            65              M            AP                 2500   \n",
       "81336            51              F            PA                 2854   \n",
       "103875           21              M            AP                 3056   \n",
       "\n",
       "        Height]  OriginalImagePixelSpacing[x     y]  Unnamed: 11  \\\n",
       "55749      2048                        0.168  0.168          NaN   \n",
       "81336      2991                        0.143  0.143          NaN   \n",
       "103875     2544                        0.139  0.139          NaN   \n",
       "\n",
       "                                              path  \n",
       "55749   ../data/images_007/images/00013950_007.png  \n",
       "81336   ../data/images_009/images/00019978_001.png  \n",
       "103875  ../data/images_011/images/00027725_049.png  "
      ]
     },
     "execution_count": 5,
     "metadata": {},
     "output_type": "execute_result"
    }
   ],
   "source": [
    "print('Scans found:', len(all_image_paths), ', Total Headers', all_xray_df.shape[0])\n",
    "num_selected = 10000\n",
    "tmp = {key: all_image_paths[key] for key in sorted(list(all_image_paths.keys()))[num_selected:]}\n",
    "print(list(tmp.items())[:4])\n",
    "all_xray_df['path'] = all_xray_df['Image Index'][num_selected:].map(tmp.get)\n",
    "all_xray_df = all_xray_df[num_selected:]\n",
    "all_xray_df.sample(3)"
   ]
  },
  {
   "cell_type": "code",
   "execution_count": 6,
   "metadata": {
    "scrolled": true
   },
   "outputs": [
    {
     "data": {
      "text/plain": [
       "No Finding                                                                 54652\n",
       "Infiltration                                                                8734\n",
       "Atelectasis                                                                 3848\n",
       "Effusion                                                                    3659\n",
       "Nodule                                                                      2495\n",
       "Mass                                                                        2015\n",
       "Pneumothorax                                                                1972\n",
       "Effusion|Infiltration                                                       1511\n",
       "Atelectasis|Infiltration                                                    1237\n",
       "Consolidation                                                               1199\n",
       "Atelectasis|Effusion                                                        1091\n",
       "Pleural_Thickening                                                          1004\n",
       "Cardiomegaly                                                                 981\n",
       "Emphysema                                                                    795\n",
       "Infiltration|Nodule                                                          764\n",
       "Atelectasis|Effusion|Infiltration                                            696\n",
       "Edema                                                                        590\n",
       "Fibrosis                                                                     580\n",
       "Cardiomegaly|Effusion                                                        431\n",
       "Infiltration|Mass                                                            390\n",
       "Effusion|Mass                                                                390\n",
       "Consolidation|Infiltration                                                   389\n",
       "Effusion|Pneumothorax                                                        384\n",
       "Mass|Nodule                                                                  380\n",
       "Edema|Infiltration                                                           371\n",
       "Atelectasis|Consolidation                                                    363\n",
       "Emphysema|Pneumothorax                                                       313\n",
       "Infiltration|Pneumothorax                                                    312\n",
       "Consolidation|Effusion                                                       306\n",
       "Pneumonia                                                                    283\n",
       "                                                                           ...  \n",
       "Atelectasis|Cardiomegaly|Consolidation|Edema                                   1\n",
       "Atelectasis|Consolidation|Emphysema|Infiltration|Pneumothorax                  1\n",
       "Atelectasis|Cardiomegaly|Effusion|Infiltration|Mass|Pleural_Thickening         1\n",
       "Edema|Pneumonia|Pneumothorax                                                   1\n",
       "Cardiomegaly|Hernia                                                            1\n",
       "Atelectasis|Cardiomegaly|Edema|Effusion|Infiltration|Pleural_Thickening        1\n",
       "Cardiomegaly|Effusion|Infiltration|Mass|Nodule|Pleural_Thickening              1\n",
       "Edema|Pleural_Thickening|Pneumonia                                             1\n",
       "Atelectasis|Cardiomegaly|Effusion|Infiltration|Pneumonia                       1\n",
       "Consolidation|Emphysema|Infiltration|Mass|Nodule                               1\n",
       "Atelectasis|Emphysema|Infiltration|Mass|Pleural_Thickening|Pneumothorax        1\n",
       "Pneumothorax|Mass                                                              1\n",
       "Infiltration|Nodule|Pleural_Thickening|Pneumothorax                            1\n",
       "Cardiomegaly|Edema|Effusion|Fibrosis|Hernia                                    1\n",
       "Consolidation|Emphysema|Mass|Pneumothorax                                      1\n",
       "Cardiomegaly|Consolidation|Effusion|Infiltration|Mass                          1\n",
       "Effusion|Fibrosis|Pneumonia                                                    1\n",
       "Atelectasis|Consolidation|Mass|Nodule|Pleural_Thickening|Pneumothorax          1\n",
       "Edema|Effusion|Infiltration|Mass|Pneumonia                                     1\n",
       "Edema|Infiltration|Mass|Pneumothorax                                           1\n",
       "Atelectasis|Effusion|Emphysema|Infiltration|Pleural_Thickening                 1\n",
       "Consolidation|Nodule|Pneumonia                                                 1\n",
       "Emphysema|Mass|Nodule|Pleural_Thickening|Pneumothorax                          1\n",
       "Atelectasis|Edema|Effusion|Mass|Nodule                                         1\n",
       "Atelectasis|Fibrosis|Hernia                                                    1\n",
       "Atelectasis|Consolidation|Edema|Effusion|Infiltration|Pneumonia                1\n",
       "Atelectasis|Cardiomegaly|Consolidation|Effusion|Pneumothorax                   1\n",
       "Atelectasis|Mass|Nodule|Pneumonia                                              1\n",
       "Emphysema|Fibrosis|Hernia|Infiltration|Pleural_Thickening                      1\n",
       "Emphysema|Fibrosis|Mass                                                        1\n",
       "Name: Finding Labels, Length: 807, dtype: int64"
      ]
     },
     "execution_count": 6,
     "metadata": {},
     "output_type": "execute_result"
    }
   ],
   "source": [
    "label_counts = all_xray_df['Finding Labels'].value_counts()\n",
    "label_counts"
   ]
  },
  {
   "cell_type": "markdown",
   "metadata": {
    "_cell_guid": "0d674a43-170f-4ca6-a9b4-edc64ab89c35",
    "_uuid": "9a1669750b7cffcae1b7a2eb4307b85472dff192"
   },
   "source": [
    "# Preprocessing Labels\n",
    "Here we take the labels and make them into a more clear format. The primary step is to see the distribution of findings and then to convert them to simple binary labels"
   ]
  },
  {
   "cell_type": "code",
   "execution_count": 7,
   "metadata": {
    "_cell_guid": "d75ed03e-986d-4f3f-81af-c910d194f390",
    "_uuid": "0c5123f65edf349f8ad2e5c5f55ac484d974f5c7"
   },
   "outputs": [
    {
     "data": {
      "image/png": "[encoded data removed]",
      "text/plain": [
       "<Figure size 864x576 with 1 Axes>"
      ]
     },
     "metadata": {
      "needs_background": "light"
     },
     "output_type": "display_data"
    }
   ],
   "source": [
    "label_counts = all_xray_df['Finding Labels'].value_counts()[:15]\n",
    "fig, ax1 = plt.subplots(1,1,figsize = (12, 8))\n",
    "ax1.bar(np.arange(len(label_counts))+0.5, label_counts)\n",
    "ax1.set_xticks(np.arange(len(label_counts))+0.5)\n",
    "_ = ax1.set_xticklabels(label_counts.index, rotation = 90)"
   ]
  },
  {
   "cell_type": "code",
   "execution_count": 8,
   "metadata": {},
   "outputs": [],
   "source": [
    "n_priorities = 4\n",
    "priority1=['Pneumothorax']\n",
    "priority2=['Pneumonia','Edema']\n",
    "priority3=['Atelectasis','Cardiomegaly','Consolidation','Effusion','Emphysema','Fibrosis','Infiltration','Mass','Nodule','Pleural_Thickening']\n",
    "priority4=['No Finding']"
   ]
  },
  {
   "cell_type": "code",
   "execution_count": 9,
   "metadata": {},
   "outputs": [],
   "source": [
    "def priority_val(x):\n",
    "    if any(item in priority1 for item in x):\n",
    "        return 'priority1'\n",
    "    elif any(item in priority2 for item in x):\n",
    "        return 'priority2'\n",
    "    elif any(item in priority3 for item in x):\n",
    "        return 'priority3'\n",
    "    elif any(item in priority4 for item in x):\n",
    "        return 'priority4'\n",
    "    \n",
    "    "
   ]
  },
  {
   "cell_type": "code",
   "execution_count": 10,
   "metadata": {},
   "outputs": [
    {
     "data": {
      "text/plain": [
       "65916     priority4\n",
       "109185    priority4\n",
       "110737    priority4\n",
       "Name: Priority Label, dtype: object"
      ]
     },
     "execution_count": 10,
     "metadata": {},
     "output_type": "execute_result"
    }
   ],
   "source": [
    "from itertools import chain\n",
    "all_xray_df['Priority Label']=all_xray_df['Finding Labels'].map(lambda x: priority_val(x.split('|')))\n",
    "all_xray_df['Priority Label'].sample(3)"
   ]
  },
  {
   "cell_type": "code",
   "execution_count": 11,
   "metadata": {
    "_cell_guid": "a9ff3a04-254d-4667-b0a3-869bbd92b08b",
    "_uuid": "78b4425b0a8932bb33864b5a3712611004687a48"
   },
   "outputs": [
    {
     "name": "stdout",
     "output_type": "stream",
     "text": [
      "All Labels (15): ['Atelectasis', 'Cardiomegaly', 'Consolidation', 'Edema', 'Effusion', 'Emphysema', 'Fibrosis', 'Hernia', 'Infiltration', 'Mass', 'No Finding', 'Nodule', 'Pleural_Thickening', 'Pneumonia', 'Pneumothorax']\n"
     ]
    },
    {
     "data": {
      "text/html": [
       "<div>\n",
       "<style scoped>\n",
       "    .dataframe tbody tr th:only-of-type {\n",
       "        vertical-align: middle;\n",
       "    }\n",
       "\n",
       "    .dataframe tbody tr th {\n",
       "        vertical-align: top;\n",
       "    }\n",
       "\n",
       "    .dataframe thead th {\n",
       "        text-align: right;\n",
       "    }\n",
       "</style>\n",
       "<table border=\"1\" class=\"dataframe\">\n",
       "  <thead>\n",
       "    <tr style=\"text-align: right;\">\n",
       "      <th></th>\n",
       "      <th>Image Index</th>\n",
       "      <th>Finding Labels</th>\n",
       "      <th>Follow-up #</th>\n",
       "      <th>Patient ID</th>\n",
       "      <th>Patient Age</th>\n",
       "      <th>Patient Gender</th>\n",
       "      <th>View Position</th>\n",
       "      <th>OriginalImage[Width</th>\n",
       "      <th>Height]</th>\n",
       "      <th>OriginalImagePixelSpacing[x</th>\n",
       "      <th>...</th>\n",
       "      <th>Emphysema</th>\n",
       "      <th>Fibrosis</th>\n",
       "      <th>Hernia</th>\n",
       "      <th>Infiltration</th>\n",
       "      <th>Mass</th>\n",
       "      <th>No Finding</th>\n",
       "      <th>Nodule</th>\n",
       "      <th>Pleural_Thickening</th>\n",
       "      <th>Pneumonia</th>\n",
       "      <th>Pneumothorax</th>\n",
       "    </tr>\n",
       "  </thead>\n",
       "  <tbody>\n",
       "    <tr>\n",
       "      <th>31440</th>\n",
       "      <td>00008221_000.png</td>\n",
       "      <td>No Finding</td>\n",
       "      <td>0</td>\n",
       "      <td>8221</td>\n",
       "      <td>43</td>\n",
       "      <td>F</td>\n",
       "      <td>PA</td>\n",
       "      <td>2048</td>\n",
       "      <td>2500</td>\n",
       "      <td>0.168</td>\n",
       "      <td>...</td>\n",
       "      <td>0.0</td>\n",
       "      <td>0.0</td>\n",
       "      <td>0.0</td>\n",
       "      <td>0.0</td>\n",
       "      <td>0.0</td>\n",
       "      <td>1.0</td>\n",
       "      <td>0.0</td>\n",
       "      <td>0.0</td>\n",
       "      <td>0.0</td>\n",
       "      <td>0.0</td>\n",
       "    </tr>\n",
       "    <tr>\n",
       "      <th>98335</th>\n",
       "      <td>00025972_000.png</td>\n",
       "      <td>Infiltration</td>\n",
       "      <td>0</td>\n",
       "      <td>25972</td>\n",
       "      <td>39</td>\n",
       "      <td>M</td>\n",
       "      <td>PA</td>\n",
       "      <td>3056</td>\n",
       "      <td>2544</td>\n",
       "      <td>0.139</td>\n",
       "      <td>...</td>\n",
       "      <td>0.0</td>\n",
       "      <td>0.0</td>\n",
       "      <td>0.0</td>\n",
       "      <td>1.0</td>\n",
       "      <td>0.0</td>\n",
       "      <td>0.0</td>\n",
       "      <td>0.0</td>\n",
       "      <td>0.0</td>\n",
       "      <td>0.0</td>\n",
       "      <td>0.0</td>\n",
       "    </tr>\n",
       "    <tr>\n",
       "      <th>107434</th>\n",
       "      <td>00029011_000.png</td>\n",
       "      <td>No Finding</td>\n",
       "      <td>0</td>\n",
       "      <td>29011</td>\n",
       "      <td>25</td>\n",
       "      <td>M</td>\n",
       "      <td>PA</td>\n",
       "      <td>3056</td>\n",
       "      <td>2544</td>\n",
       "      <td>0.139</td>\n",
       "      <td>...</td>\n",
       "      <td>0.0</td>\n",
       "      <td>0.0</td>\n",
       "      <td>0.0</td>\n",
       "      <td>0.0</td>\n",
       "      <td>0.0</td>\n",
       "      <td>1.0</td>\n",
       "      <td>0.0</td>\n",
       "      <td>0.0</td>\n",
       "      <td>0.0</td>\n",
       "      <td>0.0</td>\n",
       "    </tr>\n",
       "  </tbody>\n",
       "</table>\n",
       "<p>3 rows × 29 columns</p>\n",
       "</div>"
      ],
      "text/plain": [
       "             Image Index Finding Labels  Follow-up #  Patient ID  Patient Age  \\\n",
       "31440   00008221_000.png     No Finding            0        8221           43   \n",
       "98335   00025972_000.png   Infiltration            0       25972           39   \n",
       "107434  00029011_000.png     No Finding            0       29011           25   \n",
       "\n",
       "       Patient Gender View Position  OriginalImage[Width  Height]  \\\n",
       "31440               F            PA                 2048     2500   \n",
       "98335               M            PA                 3056     2544   \n",
       "107434              M            PA                 3056     2544   \n",
       "\n",
       "        OriginalImagePixelSpacing[x  ...  Emphysema  Fibrosis Hernia  \\\n",
       "31440                         0.168  ...        0.0       0.0    0.0   \n",
       "98335                         0.139  ...        0.0       0.0    0.0   \n",
       "107434                        0.139  ...        0.0       0.0    0.0   \n",
       "\n",
       "       Infiltration  Mass  No Finding  Nodule  Pleural_Thickening  Pneumonia  \\\n",
       "31440           0.0   0.0         1.0     0.0                 0.0        0.0   \n",
       "98335           1.0   0.0         0.0     0.0                 0.0        0.0   \n",
       "107434          0.0   0.0         1.0     0.0                 0.0        0.0   \n",
       "\n",
       "        Pneumothorax  \n",
       "31440            0.0  \n",
       "98335            0.0  \n",
       "107434           0.0  \n",
       "\n",
       "[3 rows x 29 columns]"
      ]
     },
     "execution_count": 11,
     "metadata": {},
     "output_type": "execute_result"
    }
   ],
   "source": [
    "#all_xray_df['Finding Labels'] = all_xray_df['Finding Labels'].map(lambda x: x.replace('No Finding', ''))\n",
    "from itertools import chain\n",
    "all_labels = np.unique(list(chain(*all_xray_df['Finding Labels'].map(lambda x: x.split('|')).tolist())))\n",
    "all_labels = [x for x in all_labels if len(x)>0]\n",
    "print('All Labels ({}): {}'.format(len(all_labels), all_labels))\n",
    "for c_label in all_labels:\n",
    "    if len(c_label)>1: # leave out empty labels\n",
    "        all_xray_df[c_label] = all_xray_df['Finding Labels'].map(lambda finding: 1.0 if c_label in finding else 0)\n",
    "all_xray_df.sample(3)"
   ]
  },
  {
   "cell_type": "code",
   "execution_count": 12,
   "metadata": {},
   "outputs": [
    {
     "data": {
      "text/plain": [
       "['Atelectasis',\n",
       " 'Cardiomegaly',\n",
       " 'Consolidation',\n",
       " 'Edema',\n",
       " 'Effusion',\n",
       " 'Emphysema',\n",
       " 'Fibrosis',\n",
       " 'Hernia',\n",
       " 'Infiltration',\n",
       " 'Mass',\n",
       " 'No Finding',\n",
       " 'Nodule',\n",
       " 'Pleural_Thickening',\n",
       " 'Pneumonia',\n",
       " 'Pneumothorax']"
      ]
     },
     "execution_count": 12,
     "metadata": {},
     "output_type": "execute_result"
    }
   ],
   "source": [
    "all_labels"
   ]
  },
  {
   "cell_type": "markdown",
   "metadata": {
    "_cell_guid": "05b6c7d9-4869-40b5-a70b-53957c69f021",
    "_uuid": "64653f9f57d3a5b952f1f1a709eb70ca38761a0d"
   },
   "source": [
    "### Clean categories\n",
    "Since we have too many categories, we can prune a few out by taking the ones with only a few examples"
   ]
  },
  {
   "cell_type": "code",
   "execution_count": 13,
   "metadata": {
    "_cell_guid": "dd273e26-63ab-4d76-925d-9c1c2c1ba69c",
    "_uuid": "9f368f9ea8947d8fc1dacf3988c58b6a2bf5fffc"
   },
   "outputs": [
    {
     "name": "stdout",
     "output_type": "stream",
     "text": [
      "Clean Labels (14) [('Atelectasis', 10670), ('Cardiomegaly', 2476), ('Consolidation', 4271), ('Edema', 2150), ('Effusion', 12410), ('Emphysema', 2295), ('Fibrosis', 1407), ('Infiltration', 18291), ('Mass', 5454), ('No Finding', 54652), ('Nodule', 5887), ('Pleural_Thickening', 3060), ('Pneumonia', 1296), ('Pneumothorax', 4862)]\n"
     ]
    }
   ],
   "source": [
    "# keep at least 1000 cases\n",
    "MIN_CASES = 1000\n",
    "all_labels = [c_label for c_label in all_labels if all_xray_df[c_label].sum()>MIN_CASES]\n",
    "print('Clean Labels ({})'.format(len(all_labels)), \n",
    "      [(c_label,int(all_xray_df[c_label].sum())) for c_label in all_labels])"
   ]
  },
  {
   "cell_type": "code",
   "execution_count": 14,
   "metadata": {},
   "outputs": [],
   "source": [
    "\n",
    "res = [i for i, val in enumerate(list(all_xray_df['Priority Label'])) if val == None]\n"
   ]
  },
  {
   "cell_type": "code",
   "execution_count": 15,
   "metadata": {},
   "outputs": [
    {
     "name": "stdout",
     "output_type": "stream",
     "text": [
      "[1589, 1590, 1591, 1592, 2428, 2525, 5023, 5024, 5579, 6034, 9541, 9590, 11551, 12815, 13240, 14244, 14781, 15532, 15536, 16160, 18209, 19618, 20263, 20280, 20754, 22253, 22528, 23133, 23135, 23137, 24265, 27971, 28351, 36105, 36669, 37468, 39653, 40594, 40972, 42639, 43035, 43038, 43043, 43048, 44689, 44822, 44823, 44824, 46170, 46797, 48269, 59434, 59781, 62160, 63688, 64700, 67454, 67543, 67544, 70765, 73006, 74376, 74874, 74875, 74876, 74877, 76994, 77002, 77003, 78462, 78588, 78821, 81356, 84724, 84734, 84878, 87051, 90738, 90847, 92747, 93654, 95367, 97271, 97273, 97276, 97927, 98497, 99616]\n"
     ]
    }
   ],
   "source": [
    "all_xray_df['Priority Label']\n",
    "res = [i for i, val in enumerate(list(all_xray_df['Priority Label'])) if val == None]\n",
    "print(res)"
   ]
  },
  {
   "cell_type": "code",
   "execution_count": 16,
   "metadata": {},
   "outputs": [],
   "source": [
    "res = [i for i, val in enumerate(list(all_xray_df['Priority Label'])) if val == None]\n",
    "res\n",
    "rows=all_xray_df.index[res]\n",
    "all_xray_df=all_xray_df.drop(rows)"
   ]
  },
  {
   "cell_type": "code",
   "execution_count": 17,
   "metadata": {},
   "outputs": [
    {
     "data": {
      "text/html": [
       "<div>\n",
       "<style scoped>\n",
       "    .dataframe tbody tr th:only-of-type {\n",
       "        vertical-align: middle;\n",
       "    }\n",
       "\n",
       "    .dataframe tbody tr th {\n",
       "        vertical-align: top;\n",
       "    }\n",
       "\n",
       "    .dataframe thead th {\n",
       "        text-align: right;\n",
       "    }\n",
       "</style>\n",
       "<table border=\"1\" class=\"dataframe\">\n",
       "  <thead>\n",
       "    <tr style=\"text-align: right;\">\n",
       "      <th></th>\n",
       "      <th>Image Index</th>\n",
       "      <th>Finding Labels</th>\n",
       "      <th>Follow-up #</th>\n",
       "      <th>Patient ID</th>\n",
       "      <th>Patient Age</th>\n",
       "      <th>Patient Gender</th>\n",
       "      <th>View Position</th>\n",
       "      <th>OriginalImage[Width</th>\n",
       "      <th>Height]</th>\n",
       "      <th>OriginalImagePixelSpacing[x</th>\n",
       "      <th>...</th>\n",
       "      <th>Emphysema</th>\n",
       "      <th>Fibrosis</th>\n",
       "      <th>Hernia</th>\n",
       "      <th>Infiltration</th>\n",
       "      <th>Mass</th>\n",
       "      <th>No Finding</th>\n",
       "      <th>Nodule</th>\n",
       "      <th>Pleural_Thickening</th>\n",
       "      <th>Pneumonia</th>\n",
       "      <th>Pneumothorax</th>\n",
       "    </tr>\n",
       "  </thead>\n",
       "  <tbody>\n",
       "    <tr>\n",
       "      <th>105413</th>\n",
       "      <td>00028328_000.png</td>\n",
       "      <td>No Finding</td>\n",
       "      <td>0</td>\n",
       "      <td>28328</td>\n",
       "      <td>29</td>\n",
       "      <td>M</td>\n",
       "      <td>PA</td>\n",
       "      <td>3044</td>\n",
       "      <td>2544</td>\n",
       "      <td>0.139</td>\n",
       "      <td>...</td>\n",
       "      <td>0.0</td>\n",
       "      <td>0.0</td>\n",
       "      <td>0.0</td>\n",
       "      <td>0.0</td>\n",
       "      <td>0.0</td>\n",
       "      <td>1.0</td>\n",
       "      <td>0.0</td>\n",
       "      <td>0.0</td>\n",
       "      <td>0.0</td>\n",
       "      <td>0.0</td>\n",
       "    </tr>\n",
       "    <tr>\n",
       "      <th>23959</th>\n",
       "      <td>00006304_043.png</td>\n",
       "      <td>Infiltration</td>\n",
       "      <td>43</td>\n",
       "      <td>6304</td>\n",
       "      <td>67</td>\n",
       "      <td>F</td>\n",
       "      <td>AP</td>\n",
       "      <td>2500</td>\n",
       "      <td>2048</td>\n",
       "      <td>0.168</td>\n",
       "      <td>...</td>\n",
       "      <td>0.0</td>\n",
       "      <td>0.0</td>\n",
       "      <td>0.0</td>\n",
       "      <td>1.0</td>\n",
       "      <td>0.0</td>\n",
       "      <td>0.0</td>\n",
       "      <td>0.0</td>\n",
       "      <td>0.0</td>\n",
       "      <td>0.0</td>\n",
       "      <td>0.0</td>\n",
       "    </tr>\n",
       "    <tr>\n",
       "      <th>68755</th>\n",
       "      <td>00016971_031.png</td>\n",
       "      <td>Mass|Nodule</td>\n",
       "      <td>31</td>\n",
       "      <td>16971</td>\n",
       "      <td>65</td>\n",
       "      <td>M</td>\n",
       "      <td>AP</td>\n",
       "      <td>2500</td>\n",
       "      <td>2048</td>\n",
       "      <td>0.168</td>\n",
       "      <td>...</td>\n",
       "      <td>0.0</td>\n",
       "      <td>0.0</td>\n",
       "      <td>0.0</td>\n",
       "      <td>0.0</td>\n",
       "      <td>1.0</td>\n",
       "      <td>0.0</td>\n",
       "      <td>1.0</td>\n",
       "      <td>0.0</td>\n",
       "      <td>0.0</td>\n",
       "      <td>0.0</td>\n",
       "    </tr>\n",
       "  </tbody>\n",
       "</table>\n",
       "<p>3 rows × 29 columns</p>\n",
       "</div>"
      ],
      "text/plain": [
       "             Image Index Finding Labels  Follow-up #  Patient ID  Patient Age  \\\n",
       "105413  00028328_000.png     No Finding            0       28328           29   \n",
       "23959   00006304_043.png   Infiltration           43        6304           67   \n",
       "68755   00016971_031.png    Mass|Nodule           31       16971           65   \n",
       "\n",
       "       Patient Gender View Position  OriginalImage[Width  Height]  \\\n",
       "105413              M            PA                 3044     2544   \n",
       "23959               F            AP                 2500     2048   \n",
       "68755               M            AP                 2500     2048   \n",
       "\n",
       "        OriginalImagePixelSpacing[x  ...  Emphysema  Fibrosis Hernia  \\\n",
       "105413                        0.139  ...        0.0       0.0    0.0   \n",
       "23959                         0.168  ...        0.0       0.0    0.0   \n",
       "68755                         0.168  ...        0.0       0.0    0.0   \n",
       "\n",
       "       Infiltration  Mass  No Finding  Nodule  Pleural_Thickening  Pneumonia  \\\n",
       "105413          0.0   0.0         1.0     0.0                 0.0        0.0   \n",
       "23959           1.0   0.0         0.0     0.0                 0.0        0.0   \n",
       "68755           0.0   1.0         0.0     1.0                 0.0        0.0   \n",
       "\n",
       "        Pneumothorax  \n",
       "105413           0.0  \n",
       "23959            0.0  \n",
       "68755            0.0  \n",
       "\n",
       "[3 rows x 29 columns]"
      ]
     },
     "execution_count": 17,
     "metadata": {},
     "output_type": "execute_result"
    }
   ],
   "source": [
    "all_xray_df.sample(3)"
   ]
  },
  {
   "cell_type": "code",
   "execution_count": 18,
   "metadata": {},
   "outputs": [
    {
     "data": {
      "text/plain": [
       "array(['priority1', 'priority2', 'priority3', 'priority4'], dtype='<U9')"
      ]
     },
     "execution_count": 18,
     "metadata": {},
     "output_type": "execute_result"
    }
   ],
   "source": [
    "np.unique(list(all_xray_df['Priority Label']))"
   ]
  },
  {
   "cell_type": "code",
   "execution_count": 19,
   "metadata": {},
   "outputs": [
    {
     "data": {
      "text/plain": [
       "array(['priority1', 'priority2', 'priority3', 'priority4'], dtype=object)"
      ]
     },
     "execution_count": 19,
     "metadata": {},
     "output_type": "execute_result"
    }
   ],
   "source": [
    "all_priorities = np.unique(all_xray_df['Priority Label'])\n",
    "#all_priorities = [x for x in all_priorities if len(x)>0]\n",
    "all_priorities"
   ]
  },
  {
   "cell_type": "code",
   "execution_count": 20,
   "metadata": {},
   "outputs": [
    {
     "name": "stdout",
     "output_type": "stream",
     "text": [
      "All Priorities (4): ['priority1' 'priority2' 'priority3' 'priority4']\n"
     ]
    },
    {
     "data": {
      "text/html": [
       "<div>\n",
       "<style scoped>\n",
       "    .dataframe tbody tr th:only-of-type {\n",
       "        vertical-align: middle;\n",
       "    }\n",
       "\n",
       "    .dataframe tbody tr th {\n",
       "        vertical-align: top;\n",
       "    }\n",
       "\n",
       "    .dataframe thead th {\n",
       "        text-align: right;\n",
       "    }\n",
       "</style>\n",
       "<table border=\"1\" class=\"dataframe\">\n",
       "  <thead>\n",
       "    <tr style=\"text-align: right;\">\n",
       "      <th></th>\n",
       "      <th>Image Index</th>\n",
       "      <th>Finding Labels</th>\n",
       "      <th>Follow-up #</th>\n",
       "      <th>Patient ID</th>\n",
       "      <th>Patient Age</th>\n",
       "      <th>Patient Gender</th>\n",
       "      <th>View Position</th>\n",
       "      <th>OriginalImage[Width</th>\n",
       "      <th>Height]</th>\n",
       "      <th>OriginalImagePixelSpacing[x</th>\n",
       "      <th>...</th>\n",
       "      <th>Mass</th>\n",
       "      <th>No Finding</th>\n",
       "      <th>Nodule</th>\n",
       "      <th>Pleural_Thickening</th>\n",
       "      <th>Pneumonia</th>\n",
       "      <th>Pneumothorax</th>\n",
       "      <th>priority1</th>\n",
       "      <th>priority2</th>\n",
       "      <th>priority3</th>\n",
       "      <th>priority4</th>\n",
       "    </tr>\n",
       "  </thead>\n",
       "  <tbody>\n",
       "    <tr>\n",
       "      <th>42155</th>\n",
       "      <td>00010836_001.png</td>\n",
       "      <td>No Finding</td>\n",
       "      <td>1</td>\n",
       "      <td>10836</td>\n",
       "      <td>27</td>\n",
       "      <td>F</td>\n",
       "      <td>AP</td>\n",
       "      <td>2500</td>\n",
       "      <td>2048</td>\n",
       "      <td>0.168</td>\n",
       "      <td>...</td>\n",
       "      <td>0.0</td>\n",
       "      <td>1.0</td>\n",
       "      <td>0.0</td>\n",
       "      <td>0.0</td>\n",
       "      <td>0.0</td>\n",
       "      <td>0.0</td>\n",
       "      <td>0.0</td>\n",
       "      <td>0.0</td>\n",
       "      <td>0.0</td>\n",
       "      <td>1.0</td>\n",
       "    </tr>\n",
       "    <tr>\n",
       "      <th>102939</th>\n",
       "      <td>00027441_012.png</td>\n",
       "      <td>Pneumothorax</td>\n",
       "      <td>12</td>\n",
       "      <td>27441</td>\n",
       "      <td>11</td>\n",
       "      <td>F</td>\n",
       "      <td>AP</td>\n",
       "      <td>2420</td>\n",
       "      <td>2388</td>\n",
       "      <td>0.139</td>\n",
       "      <td>...</td>\n",
       "      <td>0.0</td>\n",
       "      <td>0.0</td>\n",
       "      <td>0.0</td>\n",
       "      <td>0.0</td>\n",
       "      <td>0.0</td>\n",
       "      <td>1.0</td>\n",
       "      <td>1.0</td>\n",
       "      <td>0.0</td>\n",
       "      <td>0.0</td>\n",
       "      <td>0.0</td>\n",
       "    </tr>\n",
       "    <tr>\n",
       "      <th>69220</th>\n",
       "      <td>00017082_001.png</td>\n",
       "      <td>Infiltration</td>\n",
       "      <td>1</td>\n",
       "      <td>17082</td>\n",
       "      <td>63</td>\n",
       "      <td>M</td>\n",
       "      <td>PA</td>\n",
       "      <td>2946</td>\n",
       "      <td>2948</td>\n",
       "      <td>0.143</td>\n",
       "      <td>...</td>\n",
       "      <td>0.0</td>\n",
       "      <td>0.0</td>\n",
       "      <td>0.0</td>\n",
       "      <td>0.0</td>\n",
       "      <td>0.0</td>\n",
       "      <td>0.0</td>\n",
       "      <td>0.0</td>\n",
       "      <td>0.0</td>\n",
       "      <td>1.0</td>\n",
       "      <td>0.0</td>\n",
       "    </tr>\n",
       "  </tbody>\n",
       "</table>\n",
       "<p>3 rows × 33 columns</p>\n",
       "</div>"
      ],
      "text/plain": [
       "             Image Index Finding Labels  Follow-up #  Patient ID  Patient Age  \\\n",
       "42155   00010836_001.png     No Finding            1       10836           27   \n",
       "102939  00027441_012.png   Pneumothorax           12       27441           11   \n",
       "69220   00017082_001.png   Infiltration            1       17082           63   \n",
       "\n",
       "       Patient Gender View Position  OriginalImage[Width  Height]  \\\n",
       "42155               F            AP                 2500     2048   \n",
       "102939              F            AP                 2420     2388   \n",
       "69220               M            PA                 2946     2948   \n",
       "\n",
       "        OriginalImagePixelSpacing[x  ...  Mass  No Finding Nodule  \\\n",
       "42155                         0.168  ...   0.0         1.0    0.0   \n",
       "102939                        0.139  ...   0.0         0.0    0.0   \n",
       "69220                         0.143  ...   0.0         0.0    0.0   \n",
       "\n",
       "       Pleural_Thickening  Pneumonia  Pneumothorax  priority1  priority2  \\\n",
       "42155                 0.0        0.0           0.0        0.0        0.0   \n",
       "102939                0.0        0.0           1.0        1.0        0.0   \n",
       "69220                 0.0        0.0           0.0        0.0        0.0   \n",
       "\n",
       "        priority3  priority4  \n",
       "42155         0.0        1.0  \n",
       "102939        0.0        0.0  \n",
       "69220         1.0        0.0  \n",
       "\n",
       "[3 rows x 33 columns]"
      ]
     },
     "execution_count": 20,
     "metadata": {},
     "output_type": "execute_result"
    }
   ],
   "source": [
    "print('All Priorities ({}): {}'.format(len(all_priorities), all_priorities))\n",
    "for p_label in all_priorities:\n",
    "    if len(p_label)>1: # leave out empty labels\n",
    "        all_xray_df[p_label] = all_xray_df['Priority Label'].map(lambda finding: 1.0 if p_label in finding else 0)\n",
    "all_xray_df.sample(3)"
   ]
  },
  {
   "cell_type": "code",
   "execution_count": 21,
   "metadata": {},
   "outputs": [
    {
     "name": "stdout",
     "output_type": "stream",
     "text": [
      "Atelectasis: 0.104575\n",
      "Cardiomegaly: 0.024267\n",
      "Consolidation: 0.041859\n",
      "Edema: 0.021072\n",
      "Effusion: 0.121629\n",
      "Emphysema: 0.022493\n",
      "Fibrosis: 0.013790\n",
      "Infiltration: 0.179267\n",
      "Mass: 0.053454\n",
      "No Finding: 0.535636\n",
      "Nodule: 0.057698\n",
      "Pleural_Thickening: 0.029991\n",
      "Pneumonia: 0.012702\n",
      "Pneumothorax: 0.047652\n",
      "[1000, 100, 10, 1]\n",
      "[0.08259729 0.01916691 0.03306214 0.01664331 0.09606676 0.01776577\n",
      " 0.01089169 0.14159203 0.04221983 0.42306531 0.04557172 0.02368769\n",
      " 0.01003244 0.03763711]\n",
      "[0.04765172 0.0300886  0.3866238  0.53563588]\n"
     ]
    }
   ],
   "source": [
    "for c_label, s_count in zip(all_labels, np.mean(all_xray_df[all_labels].values,0)):\n",
    "    print('%s: %f' % (c_label, s_count))\n",
    "arrivals=np.array(np.mean(all_xray_df[all_labels].values,0))\n",
    "arrivals=arrivals/arrivals.sum(axis=0,keepdims=True)\n",
    "disease_priority=np.array([[0,0,1,0],[0,0,1,0],[0,0,1,0],[0,1,0,0],[0,0,1,0],\n",
    "                  [0,0,1,0],[0,0,1,0],[0,0,1,0],[0,0,1,0],[0,0,0,1],\n",
    "                  [0,0,1,0],[0,0,1,0],[0,1,0,0],[1,0,0,0]])\n",
    "priority_cost=[1000,100,10,1]\n",
    "priority_costs=[1000,100,10,1]\n",
    "#print(disease_priority)\n",
    "print(priority_cost)\n",
    "costs=np.matmul(disease_priority,priority_cost)\n",
    "print(arrivals)\n",
    "priority_arrivals=np.array(np.mean(all_xray_df[all_priorities].values,0))\n",
    "rho_s=0.95\n",
    "print(priority_arrivals)"
   ]
  },
  {
   "cell_type": "code",
   "execution_count": 22,
   "metadata": {},
   "outputs": [
    {
     "name": "stdout",
     "output_type": "stream",
     "text": [
      "[  10   10   10  100   10   10   10   10   10    1   10   10  100 1000]\n",
      "[1.05263158 1.05263158 1.05263158 1.05263158 1.05263158 1.05263158\n",
      " 1.05263158 1.05263158 1.05263158 1.05263158 1.05263158 1.05263158\n",
      " 1.05263158 1.05263158]\n",
      "[0.07846742 0.01820856 0.03140903 0.01581115 0.09126342 0.01687748\n",
      " 0.01034711 0.13451243 0.04010884 0.40191205 0.04329313 0.02250331\n",
      " 0.00953081 0.03575526]\n",
      "[0.04526913 0.02858417 0.36729261 0.50885408]\n"
     ]
    }
   ],
   "source": [
    "priority_arrivals=priority_arrivals/priority_arrivals.sum(axis=0,keepdims=True)\n",
    "priority_service=np.repeat(1/rho_s,n_priorities)\n",
    "print(costs)\n",
    "service=np.repeat(1/rho_s,len(all_labels))\n",
    "print(service)\n",
    "rho=arrivals/service\n",
    "print(rho)\n",
    "priority_rho = priority_arrivals/priority_service\n",
    "print(priority_rho)\n",
    "parameters=pd.DataFrame(np.column_stack((all_labels,np.mean(all_xray_df[all_labels].values,0),arrivals,service,costs,rho)))"
   ]
  },
  {
   "cell_type": "code",
   "execution_count": 23,
   "metadata": {},
   "outputs": [],
   "source": [
    "costs=np.array(pd.to_numeric(pd.Series(parameters[4].values)))\n",
    "arrivals=np.array(pd.to_numeric(pd.Series(parameters[2].values)))\n",
    "service=np.array(pd.to_numeric(pd.Series(parameters[3].values)))\n",
    "rho=np.array(pd.to_numeric(pd.Series(parameters[5].values)))"
   ]
  },
  {
   "cell_type": "code",
   "execution_count": null,
   "metadata": {
    "_cell_guid": "01478f44-5beb-4a6c-aa27-77db4b9abf10",
    "_uuid": "cf071cfa49f2886d9795cdf6067a8afdafd6f458"
   },
   "outputs": [
    {
     "data": {
      "text/html": [
       "<div>\n",
       "<style scoped>\n",
       "    .dataframe tbody tr th:only-of-type {\n",
       "        vertical-align: middle;\n",
       "    }\n",
       "\n",
       "    .dataframe tbody tr th {\n",
       "        vertical-align: top;\n",
       "    }\n",
       "\n",
       "    .dataframe thead th {\n",
       "        text-align: right;\n",
       "    }\n",
       "</style>\n",
       "<table border=\"1\" class=\"dataframe\">\n",
       "  <thead>\n",
       "    <tr style=\"text-align: right;\">\n",
       "      <th></th>\n",
       "      <th>0</th>\n",
       "      <th>1</th>\n",
       "      <th>2</th>\n",
       "      <th>3</th>\n",
       "      <th>4</th>\n",
       "      <th>5</th>\n",
       "    </tr>\n",
       "  </thead>\n",
       "  <tbody>\n",
       "    <tr>\n",
       "      <th>0</th>\n",
       "      <td>Atelectasis</td>\n",
       "      <td>0.10457503528304846</td>\n",
       "      <td>0.08259728597858819</td>\n",
       "      <td>1.0526315789473684</td>\n",
       "      <td>10</td>\n",
       "      <td>0.07846742167965878</td>\n",
       "    </tr>\n",
       "    <tr>\n",
       "      <th>1</th>\n",
       "      <td>Cardiomegaly</td>\n",
       "      <td>0.024266896659871414</td>\n",
       "      <td>0.019166905349857953</td>\n",
       "      <td>1.0526315789473684</td>\n",
       "      <td>10</td>\n",
       "      <td>0.018208560082365058</td>\n",
       "    </tr>\n",
       "    <tr>\n",
       "      <th>2</th>\n",
       "      <td>Consolidation</td>\n",
       "      <td>0.04185941665359887</td>\n",
       "      <td>0.03306213762085756</td>\n",
       "      <td>1.0526315789473684</td>\n",
       "      <td>10</td>\n",
       "      <td>0.03140903073981468</td>\n",
       "    </tr>\n",
       "    <tr>\n",
       "      <th>3</th>\n",
       "      <td>Edema</td>\n",
       "      <td>0.021071820605300298</td>\n",
       "      <td>0.016643314419303147</td>\n",
       "      <td>1.0526315789473684</td>\n",
       "      <td>100</td>\n",
       "      <td>0.015811148698337992</td>\n",
       "    </tr>\n",
       "    <tr>\n",
       "      <th>4</th>\n",
       "      <td>Effusion</td>\n",
       "      <td>0.12162850870315195</td>\n",
       "      <td>0.09606675904351258</td>\n",
       "      <td>1.0526315789473684</td>\n",
       "      <td>10</td>\n",
       "      <td>0.09126342109133696</td>\n",
       "    </tr>\n",
       "    <tr>\n",
       "      <th>5</th>\n",
       "      <td>Emphysema</td>\n",
       "      <td>0.022492943390308922</td>\n",
       "      <td>0.017765770508046848</td>\n",
       "      <td>1.0526315789473684</td>\n",
       "      <td>10</td>\n",
       "      <td>0.016877481982644507</td>\n",
       "    </tr>\n",
       "    <tr>\n",
       "      <th>6</th>\n",
       "      <td>Fibrosis</td>\n",
       "      <td>0.013789791437980242</td>\n",
       "      <td>0.010891694599050945</td>\n",
       "      <td>1.0526315789473684</td>\n",
       "      <td>10</td>\n",
       "      <td>0.010347109869098398</td>\n",
       "    </tr>\n",
       "    <tr>\n",
       "      <th>7</th>\n",
       "      <td>Infiltration</td>\n",
       "      <td>0.17926728869374314</td>\n",
       "      <td>0.14159202978766228</td>\n",
       "      <td>1.0526315789473684</td>\n",
       "      <td>10</td>\n",
       "      <td>0.13451242829827917</td>\n",
       "    </tr>\n",
       "    <tr>\n",
       "      <th>8</th>\n",
       "      <td>Mass</td>\n",
       "      <td>0.05345381840991062</td>\n",
       "      <td>0.042219831089711335</td>\n",
       "      <td>1.0526315789473684</td>\n",
       "      <td>10</td>\n",
       "      <td>0.040108839535225774</td>\n",
       "    </tr>\n",
       "    <tr>\n",
       "      <th>9</th>\n",
       "      <td>No Finding</td>\n",
       "      <td>0.5356358789399404</td>\n",
       "      <td>0.4230653114622119</td>\n",
       "      <td>1.0526315789473684</td>\n",
       "      <td>1</td>\n",
       "      <td>0.4019120458891013</td>\n",
       "    </tr>\n",
       "    <tr>\n",
       "      <th>10</th>\n",
       "      <td>Nodule</td>\n",
       "      <td>0.057697585071350165</td>\n",
       "      <td>0.04557171720299425</td>\n",
       "      <td>1.0526315789473684</td>\n",
       "      <td>10</td>\n",
       "      <td>0.04329313134284454</td>\n",
       "    </tr>\n",
       "    <tr>\n",
       "      <th>11</th>\n",
       "      <td>Pleural_Thickening</td>\n",
       "      <td>0.029990591187078565</td>\n",
       "      <td>0.02368769401072913</td>\n",
       "      <td>1.0526315789473684</td>\n",
       "      <td>10</td>\n",
       "      <td>0.022503309310192676</td>\n",
       "    </tr>\n",
       "    <tr>\n",
       "      <th>12</th>\n",
       "      <td>Pneumonia</td>\n",
       "      <td>0.012701897443939156</td>\n",
       "      <td>0.010032435110426455</td>\n",
       "      <td>1.0526315789473684</td>\n",
       "      <td>100</td>\n",
       "      <td>0.009530813354905134</td>\n",
       "    </tr>\n",
       "    <tr>\n",
       "      <th>13</th>\n",
       "      <td>Pneumothorax</td>\n",
       "      <td>0.04765171710835816</td>\n",
       "      <td>0.037637113817047395</td>\n",
       "      <td>1.0526315789473684</td>\n",
       "      <td>1000</td>\n",
       "      <td>0.035755258126195025</td>\n",
       "    </tr>\n",
       "  </tbody>\n",
       "</table>\n",
       "</div>"
      ],
      "text/plain": [
       "                     0                     1                     2  \\\n",
       "0          Atelectasis   0.10457503528304846   0.08259728597858819   \n",
       "1         Cardiomegaly  0.024266896659871414  0.019166905349857953   \n",
       "2        Consolidation   0.04185941665359887   0.03306213762085756   \n",
       "3                Edema  0.021071820605300298  0.016643314419303147   \n",
       "4             Effusion   0.12162850870315195   0.09606675904351258   \n",
       "5            Emphysema  0.022492943390308922  0.017765770508046848   \n",
       "6             Fibrosis  0.013789791437980242  0.010891694599050945   \n",
       "7         Infiltration   0.17926728869374314   0.14159202978766228   \n",
       "8                 Mass   0.05345381840991062  0.042219831089711335   \n",
       "9           No Finding    0.5356358789399404    0.4230653114622119   \n",
       "10              Nodule  0.057697585071350165   0.04557171720299425   \n",
       "11  Pleural_Thickening  0.029990591187078565   0.02368769401072913   \n",
       "12           Pneumonia  0.012701897443939156  0.010032435110426455   \n",
       "13        Pneumothorax   0.04765171710835816  0.037637113817047395   \n",
       "\n",
       "                     3     4                     5  \n",
       "0   1.0526315789473684    10   0.07846742167965878  \n",
       "1   1.0526315789473684    10  0.018208560082365058  \n",
       "2   1.0526315789473684    10   0.03140903073981468  \n",
       "3   1.0526315789473684   100  0.015811148698337992  \n",
       "4   1.0526315789473684    10   0.09126342109133696  \n",
       "5   1.0526315789473684    10  0.016877481982644507  \n",
       "6   1.0526315789473684    10  0.010347109869098398  \n",
       "7   1.0526315789473684    10   0.13451242829827917  \n",
       "8   1.0526315789473684    10  0.040108839535225774  \n",
       "9   1.0526315789473684     1    0.4019120458891013  \n",
       "10  1.0526315789473684    10   0.04329313134284454  \n",
       "11  1.0526315789473684    10  0.022503309310192676  \n",
       "12  1.0526315789473684   100  0.009530813354905134  \n",
       "13  1.0526315789473684  1000  0.035755258126195025  "
      ]
     },
     "execution_count": 24,
     "metadata": {},
     "output_type": "execute_result"
    }
   ],
   "source": [
    "parameters"
   ]
  },
  {
   "cell_type": "code",
   "execution_count": null,
   "metadata": {},
   "outputs": [
    {
     "name": "stdout",
     "output_type": "stream",
     "text": [
      "Atelectasis           10670.0\n",
      "Cardiomegaly           2476.0\n",
      "Consolidation          4271.0\n",
      "Edema                  2150.0\n",
      "Effusion              12410.0\n",
      "Emphysema              2295.0\n",
      "Fibrosis               1407.0\n",
      "Infiltration          18291.0\n",
      "Mass                   5454.0\n",
      "No Finding            54652.0\n",
      "Nodule                 5887.0\n",
      "Pleural_Thickening     3060.0\n",
      "Pneumonia              1296.0\n",
      "Pneumothorax           4862.0\n",
      "dtype: float64\n",
      "priority1     4862.0\n",
      "priority2     3070.0\n",
      "priority3    39448.0\n",
      "priority4    54652.0\n",
      "dtype: float64\n"
     ]
    }
   ],
   "source": [
    "print(all_xray_df[all_labels].sum())\n",
    "print(all_xray_df[all_priorities].sum())"
   ]
  },
  {
   "cell_type": "code",
   "execution_count": null,
   "metadata": {},
   "outputs": [],
   "source": [
    "all_xray_df['disease_vec'] = all_xray_df.apply(lambda x: [x[all_labels].values], 1).map(lambda x: x[0])\n",
    "all_xray_df['priority_vec'] = all_xray_df.apply(lambda x: [x[all_priorities].values], 1).map(lambda x: x[0])"
   ]
  },
  {
   "cell_type": "code",
   "execution_count": null,
   "metadata": {},
   "outputs": [
    {
     "name": "stdout",
     "output_type": "stream",
     "text": [
      "33803    [0.0, 0.0, 0.0, 0.0, 0.0, 0.0, 0.0, 0.0, 0.0, ...\n",
      "86175    [0.0, 0.0, 0.0, 0.0, 0.0, 0.0, 0.0, 0.0, 0.0, ...\n",
      "86579    [0.0, 0.0, 0.0, 0.0, 0.0, 0.0, 0.0, 1.0, 0.0, ...\n",
      "Name: disease_vec, dtype: object\n",
      "19942    [0.0, 0.0, 0.0, 1.0]\n",
      "85779    [0.0, 0.0, 0.0, 1.0]\n",
      "69069    [0.0, 0.0, 1.0, 0.0]\n",
      "Name: priority_vec, dtype: object\n"
     ]
    }
   ],
   "source": [
    "print(all_xray_df['disease_vec'].sample(3))\n",
    "print(all_xray_df['priority_vec'].sample(3))"
   ]
  },
  {
   "cell_type": "code",
   "execution_count": null,
   "metadata": {},
   "outputs": [],
   "source": [
    "import random\n",
    "random.seed(100)\n",
    "optimal_cut_off=[0.5,\n",
    " 0.5,\n",
    " 0.5,\n",
    " 0.5,\n",
    " 0.5,\n",
    " 0.5,\n",
    " 0.5,\n",
    " 0.5,\n",
    " 0.5,\n",
    " 0.5,\n",
    " 0.5,\n",
    " 0.5,\n",
    " 0.5,\n",
    " 0.5]\n",
    "thresholds_accuracy=optimal_cut_off"
   ]
  },
  {
   "cell_type": "code",
   "execution_count": null,
   "metadata": {
    "_cell_guid": "5feddc96-7958-4d34-81f1-10eba94ab1b6",
    "_uuid": "8c7dc722de08243cc763d23928708f9c040bbdc6"
   },
   "outputs": [
    {
     "name": "stderr",
     "output_type": "stream",
     "text": [
      "/home/ubuntu/anaconda3/lib/python3.7/site-packages/sklearn/model_selection/_split.py:1462: DeprecationWarning: `np.int` is a deprecated alias for the builtin `int`. To silence this warning, use `int` by itself. Doing this will not modify any behavior and is safe. When replacing `np.int`, you may wish to use e.g. `np.int64` or `np.int32` to specify the precision. If you wish to review your current use, check the release note link for additional information.\n",
      "Deprecated in NumPy 1.20; for more details and guidance: https://numpy.org/devdocs/release/1.20.0-notes.html#deprecations\n",
      "  return floored.astype(np.int)\n",
      "/home/ubuntu/anaconda3/lib/python3.7/site-packages/sklearn/model_selection/_split.py:1462: DeprecationWarning: `np.int` is a deprecated alias for the builtin `int`. To silence this warning, use `int` by itself. Doing this will not modify any behavior and is safe. When replacing `np.int`, you may wish to use e.g. `np.int64` or `np.int32` to specify the precision. If you wish to review your current use, check the release note link for additional information.\n",
      "Deprecated in NumPy 1.20; for more details and guidance: https://numpy.org/devdocs/release/1.20.0-notes.html#deprecations\n",
      "  return floored.astype(np.int)\n"
     ]
    }
   ],
   "source": [
    "df=all_xray_df\n",
    "from sklearn.model_selection import train_test_split\n",
    "valid_df, test_df = train_test_split(df, \n",
    "                                   test_size = 0.5, \n",
    "                                   random_state = 2018,\n",
    "                                   stratify = df['Priority Label'])"
   ]
  },
  {
   "cell_type": "code",
   "execution_count": null,
   "metadata": {},
   "outputs": [
    {
     "name": "stderr",
     "output_type": "stream",
     "text": [
      "/home/ubuntu/anaconda3/lib/python3.7/site-packages/ipykernel_launcher.py:1: SettingWithCopyWarning: \n",
      "A value is trying to be set on a copy of a slice from a DataFrame.\n",
      "Try using .loc[row_indexer,col_indexer] = value instead\n",
      "\n",
      "See the caveats in the documentation: http://pandas.pydata.org/pandas-docs/stable/indexing.html#indexing-view-versus-copy\n",
      "  \"\"\"Entry point for launching an IPython kernel.\n",
      "/home/ubuntu/anaconda3/lib/python3.7/site-packages/ipykernel_launcher.py:2: SettingWithCopyWarning: \n",
      "A value is trying to be set on a copy of a slice from a DataFrame.\n",
      "Try using .loc[row_indexer,col_indexer] = value instead\n",
      "\n",
      "See the caveats in the documentation: http://pandas.pydata.org/pandas-docs/stable/indexing.html#indexing-view-versus-copy\n",
      "  \n"
     ]
    },
    {
     "name": "stdout",
     "output_type": "stream",
     "text": [
      "            Image Index              Finding Labels  Follow-up #  Patient ID  \\\n",
      "39554  00010352_002.png                  No Finding            2       10352   \n",
      "35298  00009321_014.png  Consolidation|Infiltration           14        9321   \n",
      "22813  00006030_006.png                  No Finding            6        6030   \n",
      "\n",
      "       Patient Age Patient Gender View Position  OriginalImage[Width  Height]  \\\n",
      "39554           31              M            AP                 2500     2048   \n",
      "35298           46              F            AP                 2500     2048   \n",
      "22813           48              F            PA                 2990     2991   \n",
      "\n",
      "       OriginalImagePixelSpacing[x  ...  Pneumonia  Pneumothorax priority1  \\\n",
      "39554                        0.168  ...        0.0           0.0       0.0   \n",
      "35298                        0.168  ...        0.0           0.0       0.0   \n",
      "22813                        0.143  ...        0.0           0.0       0.0   \n",
      "\n",
      "      priority2  priority3  priority4  \\\n",
      "39554       0.0        0.0        1.0   \n",
      "35298       0.0        1.0        0.0   \n",
      "22813       0.0        0.0        1.0   \n",
      "\n",
      "                                             disease_vec  \\\n",
      "39554  [0.0, 0.0, 0.0, 0.0, 0.0, 0.0, 0.0, 0.0, 0.0, ...   \n",
      "35298  [0.0, 0.0, 1.0, 0.0, 0.0, 0.0, 0.0, 1.0, 0.0, ...   \n",
      "22813  [0.0, 0.0, 0.0, 0.0, 0.0, 0.0, 0.0, 0.0, 0.0, ...   \n",
      "\n",
      "               priority_vec                       newLabel  newLabelP  \n",
      "39554  [0.0, 0.0, 0.0, 1.0]                   [No Finding]  priority4  \n",
      "35298  [0.0, 0.0, 1.0, 0.0]  [Consolidation, Infiltration]  priority3  \n",
      "22813  [0.0, 0.0, 0.0, 1.0]                   [No Finding]  priority4  \n",
      "\n",
      "[3 rows x 37 columns]\n"
     ]
    }
   ],
   "source": [
    "valid_df['newLabel'] = valid_df.apply(lambda x: x['Finding Labels'].split('|'), axis=1)\n",
    "valid_df['newLabelP'] = valid_df['Priority Label']\n",
    "print(valid_df.sample(3))"
   ]
  },
  {
   "cell_type": "code",
   "execution_count": null,
   "metadata": {},
   "outputs": [
    {
     "name": "stderr",
     "output_type": "stream",
     "text": [
      "/home/ubuntu/anaconda3/lib/python3.7/site-packages/ipykernel_launcher.py:1: SettingWithCopyWarning: \n",
      "A value is trying to be set on a copy of a slice from a DataFrame.\n",
      "Try using .loc[row_indexer,col_indexer] = value instead\n",
      "\n",
      "See the caveats in the documentation: http://pandas.pydata.org/pandas-docs/stable/indexing.html#indexing-view-versus-copy\n",
      "  \"\"\"Entry point for launching an IPython kernel.\n",
      "/home/ubuntu/anaconda3/lib/python3.7/site-packages/ipykernel_launcher.py:2: SettingWithCopyWarning: \n",
      "A value is trying to be set on a copy of a slice from a DataFrame.\n",
      "Try using .loc[row_indexer,col_indexer] = value instead\n",
      "\n",
      "See the caveats in the documentation: http://pandas.pydata.org/pandas-docs/stable/indexing.html#indexing-view-versus-copy\n",
      "  \n"
     ]
    },
    {
     "name": "stdout",
     "output_type": "stream",
     "text": [
      "            Image Index Finding Labels  Follow-up #  Patient ID  Patient Age  \\\n",
      "97250  00025655_001.png       Effusion            1       25655           70   \n",
      "89381  00022192_007.png      Emphysema            7       22192           73   \n",
      "39606  00010352_054.png     No Finding           54       10352           32   \n",
      "\n",
      "      Patient Gender View Position  OriginalImage[Width  Height]  \\\n",
      "97250              F            PA                 2992     2991   \n",
      "89381              M            PA                 2992     2991   \n",
      "39606              M            AP                 2048     2500   \n",
      "\n",
      "       OriginalImagePixelSpacing[x  ...  Pneumonia  Pneumothorax priority1  \\\n",
      "97250                        0.143  ...        0.0           0.0       0.0   \n",
      "89381                        0.143  ...        0.0           0.0       0.0   \n",
      "39606                        0.168  ...        0.0           0.0       0.0   \n",
      "\n",
      "      priority2  priority3  priority4  \\\n",
      "97250       0.0        1.0        0.0   \n",
      "89381       0.0        1.0        0.0   \n",
      "39606       0.0        0.0        1.0   \n",
      "\n",
      "                                             disease_vec  \\\n",
      "97250  [0.0, 0.0, 0.0, 0.0, 1.0, 0.0, 0.0, 0.0, 0.0, ...   \n",
      "89381  [0.0, 0.0, 0.0, 0.0, 0.0, 1.0, 0.0, 0.0, 0.0, ...   \n",
      "39606  [0.0, 0.0, 0.0, 0.0, 0.0, 0.0, 0.0, 0.0, 0.0, ...   \n",
      "\n",
      "               priority_vec      newLabel  newLabelP  \n",
      "97250  [0.0, 0.0, 1.0, 0.0]    [Effusion]  priority3  \n",
      "89381  [0.0, 0.0, 1.0, 0.0]   [Emphysema]  priority3  \n",
      "39606  [0.0, 0.0, 0.0, 1.0]  [No Finding]  priority4  \n",
      "\n",
      "[3 rows x 37 columns]\n"
     ]
    }
   ],
   "source": [
    "test_df['newLabel'] = test_df.apply(lambda x: x['Finding Labels'].split('|'), axis=1)\n",
    "test_df['newLabelP'] = test_df['Priority Label']\n",
    "print(test_df.sample(3))"
   ]
  },
  {
   "cell_type": "code",
   "execution_count": null,
   "metadata": {},
   "outputs": [],
   "source": [
    "import tensorflow as tf\n",
    "def queue_wait_cost(pmat,costs,arrivals,service):\n",
    "    clambda = costs*arrivals\n",
    "    rho = arrivals/service\n",
    "    clambda_pmat = np.matmul(clambda,pmat)\n",
    "    rho_pmat = np.matmul(rho,pmat)\n",
    "    vec1=1-np.cumsum(rho_pmat)\n",
    "    vec2=np.roll(1-np.cumsum(rho_pmat),1)\n",
    "    vec2[0]=1\n",
    "    denom = (1/vec1)*(1/vec2)\n",
    "    return sum(clambda_pmat*denom)\n",
    "def queue_wait_cost_priority(pmat,priority_costs,priority_arrivals,priority_service):\n",
    "    clambda = priority_costs*priority_arrivals\n",
    "    rho = priority_arrivals/priority_service\n",
    "    clambda_pmat = np.matmul(clambda,pmat)\n",
    "    rho_pmat = np.matmul(rho,pmat)\n",
    "    vec1=1-np.cumsum(rho_pmat)\n",
    "    vec2=np.roll(1-np.cumsum(rho_pmat),1)\n",
    "    vec2[0]=1\n",
    "    denom = (1/vec1)*(1/vec2)\n",
    "    return sum(clambda_pmat*denom)\n",
    "def queue_loss(y_true,y_pred):\n",
    "    y_pred = y_pred/y_pred.sum(axis=1,keepdims=True)\n",
    "    pmat = np.matmul(np.transpose(y_true),y_pred)\n",
    "    pmat = pmat/pmat.sum(axis=1,keepdims=True)\n",
    "    clambda = costs*arrivals\n",
    "    rho = arrivals/service\n",
    "    clambda_pmat = np.matmul(clambda,pmat)\n",
    "    rho_pmat = np.matmul(rho,pmat)\n",
    "    vec1=1-np.cumsum(rho_pmat)\n",
    "    vec2=np.roll(1-np.cumsum(rho_pmat),1)\n",
    "    vec2[0]=1\n",
    "    denom = (1/vec1)*(1/vec2)\n",
    "    return sum(clambda_pmat*denom)\n",
    "\n",
    "def queue_loss_tensor(y_true,y_pred):\n",
    "    y_true = tf.cast(y_true, tf.float32)\n",
    "    y_pred = tf.cast(y_pred, tf.float32)\n",
    "    #y_pred = tf.divide(y_pred,tf.reduce_sum(y_pred,axis=1,keepdims=True)+0.000000000001)\n",
    "    pmat = tf.matmul(tf.transpose(y_true),y_pred)\n",
    "    pmat = tf.divide(pmat,tf.reduce_sum(pmat,axis=1,keepdims=True)+0.000000000001)\n",
    "    clambda = tf.reshape(tf.cast(tf.Variable(costs*arrivals),tf.float32),[1,14])\n",
    "    rho = tf.reshape(tf.cast(tf.Variable(arrivals/service),tf.float32),[1,14])\n",
    "    #print(rho.shape)\n",
    "    clambda_pmat = tf.matmul(clambda,pmat)\n",
    "    rho_pmat = tf.matmul(rho,pmat)\n",
    "    vec1=1-tf.cumsum(rho_pmat,axis=1)\n",
    "    #print(vec1)\n",
    "    vec2=tf.roll(1-tf.cumsum(rho_pmat,axis=1),shift=1,axis=1)\n",
    "    #print(vec2)\n",
    "    vec2=tf.tensor_scatter_nd_update(vec2,indices=[[0,0]],updates=[1])\n",
    "    #print(vec2)\n",
    "    #print (tf.math.reciprocal(vec2))\n",
    "    denom = tf.multiply(tf.math.reciprocal(vec1+0.00000000000001),tf.math.reciprocal(vec2+0.00000000000001))\n",
    "    return tf.reshape(tf.reduce_sum(tf.multiply(clambda_pmat,denom)),[])\n",
    "def queue_loss_tensor_priority(y_true,y_pred):\n",
    "    y_true = tf.cast(y_true, tf.float32)\n",
    "    y_pred = tf.cast(y_pred, tf.float32)\n",
    "    #y_pred = tf.divide(y_pred,tf.reduce_sum(y_pred,axis=1,keepdims=True)+0.000000000001)\n",
    "    pmat = tf.matmul(tf.transpose(y_true),y_pred)\n",
    "    pmat = tf.divide(pmat,tf.reduce_sum(pmat,axis=1,keepdims=True)+0.000000000001)\n",
    "    clambda = tf.reshape(tf.cast(tf.Variable(priority_costs*priority_arrivals),tf.float32),[1,n_priorities])\n",
    "    rho = tf.reshape(tf.cast(tf.Variable(priority_arrivals/priority_service),tf.float32),[1,n_priorities])\n",
    "    #print(rho.shape)\n",
    "    clambda_pmat = tf.matmul(clambda,pmat)\n",
    "    rho_pmat = tf.matmul(rho,pmat)\n",
    "    vec1=1-tf.cumsum(rho_pmat,axis=1)\n",
    "    #print(vec1)\n",
    "    vec2=tf.roll(1-tf.cumsum(rho_pmat,axis=1),shift=1,axis=1)\n",
    "    #print(vec2)\n",
    "    vec2=tf.tensor_scatter_nd_update(vec2,indices=[[0,0]],updates=[1])\n",
    "    #print(vec2)\n",
    "    #print (tf.math.reciprocal(vec2))\n",
    "    denom = tf.multiply(tf.math.reciprocal(vec1+0.00000000000001),tf.math.reciprocal(vec2+0.00000000000001))\n",
    "    return tf.reshape(tf.reduce_sum(tf.multiply(clambda_pmat,denom)),[])\n",
    "    "
   ]
  },
  {
   "cell_type": "code",
   "execution_count": null,
   "metadata": {},
   "outputs": [
    {
     "data": {
      "text/plain": [
       "array([0.04765172, 0.0300886 , 0.3866238 , 0.53563588])"
      ]
     },
     "execution_count": 33,
     "metadata": {},
     "output_type": "execute_result"
    }
   ],
   "source": [
    "priority_arrivals"
   ]
  },
  {
   "cell_type": "code",
   "execution_count": null,
   "metadata": {},
   "outputs": [],
   "source": [
    "mat1=np.array([[1,0,0,0],[0,1,0,0],[0,0,1,0],[0,0,0,1]])\n",
    "mat2=np.array([[0.9,0,0,0.1],[0.25,0.5,0.25,0],[0.25,0,0.5,0.25],[0.5,0,0,0.5]])\n",
    "mat3=np.array([[0.25,0.25,0.25,0.25],[0.25,0.25,0.25,0.25],[0.25,0.25,0.25,0.25],[0.25,0.25,0.25,0.25]])"
   ]
  },
  {
   "cell_type": "markdown",
   "metadata": {},
   "source": [
    "# Training the Model"
   ]
  },
  {
   "cell_type": "code",
   "execution_count": null,
   "metadata": {},
   "outputs": [
    {
     "data": {
      "text/plain": [
       "79.95289141003099"
      ]
     },
     "execution_count": 35,
     "metadata": {},
     "output_type": "execute_result"
    }
   ],
   "source": [
    "queue_wait_cost_priority(mat1,priority_costs,priority_arrivals,priority_service)"
   ]
  },
  {
   "cell_type": "code",
   "execution_count": null,
   "metadata": {},
   "outputs": [
    {
     "data": {
      "text/plain": [
       "1101.2490199153194"
      ]
     },
     "execution_count": 36,
     "metadata": {},
     "output_type": "execute_result"
    }
   ],
   "source": [
    "queue_wait_cost_priority(mat3,priority_costs,priority_arrivals,priority_service)"
   ]
  },
  {
   "cell_type": "code",
   "execution_count": null,
   "metadata": {},
   "outputs": [
    {
     "name": "stderr",
     "output_type": "stream",
     "text": [
      "Using TensorFlow backend.\n"
     ]
    }
   ],
   "source": [
    "from tensorflow.keras.applications.mobilenet import MobileNet\n",
    "from tensorflow.keras.layers import GlobalAveragePooling2D, Dense, Dropout, Flatten\n",
    "from tensorflow.keras.models import Sequential\n",
    "from keras import optimizers, callbacks, regularizers"
   ]
  },
  {
   "cell_type": "code",
   "execution_count": null,
   "metadata": {},
   "outputs": [],
   "source": [
    "def MakeModel1(IMG_SIZE, bs, channels=1):\n",
    "    model = Sequential()\n",
    "    base_mobilenet_model = MobileNet(input_shape =  (*IMG_SIZE, channels), #Need to define the shape here from IMG_SIZE\n",
    "                                 include_top = False, weights = None)\n",
    "    model.add(base_mobilenet_model)\n",
    "    model.add(GlobalAveragePooling2D())\n",
    "    model.add(Dropout(0.5))\n",
    "    model.add(Dense(512))\n",
    "    model.add(Dropout(0.5))\n",
    "    model.add(Dense(len(all_labels), activation = 'sigmoid'))\n",
    "    return model\n",
    "def MakeModel2(n_priorities,IMG_SIZE, bs, channels=1):\n",
    "    model = Sequential()\n",
    "    base_mobilenet_model = MobileNet(input_shape =  (*IMG_SIZE, channels), #Need to define the shape here from IMG_SIZE\n",
    "                                 include_top = False, weights = None)\n",
    "    model.add(base_mobilenet_model)\n",
    "    model.add(GlobalAveragePooling2D())\n",
    "    model.add(Dropout(0.5))\n",
    "    model.add(Dense(512))\n",
    "    model.add(Dropout(0.5))\n",
    "    model.add(Dense(len(all_labels),activation = 'sigmoid'))\n",
    "    model.add(Dense(n_priorities, activation = 'softmax'))\n",
    "    return model\n",
    "def MakeModel3(n_priorities,IMG_SIZE, bs, channels=1):\n",
    "    model = Sequential()\n",
    "    base_mobilenet_model = MobileNet(input_shape =  (*IMG_SIZE, channels), #Need to define the shape here from IMG_SIZE\n",
    "                                 include_top = False, weights = None)\n",
    "    model.add(base_mobilenet_model)\n",
    "    model.add(GlobalAveragePooling2D())\n",
    "    model.add(Dropout(0.5))\n",
    "    model.add(Dense(512))\n",
    "    model.add(Dropout(0.5))\n",
    "    model.add(Dense(n_priorities, activation = 'softmax'))\n",
    "    return model"
   ]
  },
  {
   "cell_type": "code",
   "execution_count": null,
   "metadata": {},
   "outputs": [],
   "source": [
    "from keras.preprocessing.image import ImageDataGenerator\n",
    "core_idg = ImageDataGenerator(samplewise_center=True, \n",
    "                              samplewise_std_normalization=True, \n",
    "                              horizontal_flip = True, \n",
    "                              vertical_flip = False, \n",
    "                              height_shift_range= 0.05, \n",
    "                              width_shift_range=0.1, \n",
    "                              rotation_range=5, \n",
    "                              shear_range = 0.1,\n",
    "                              fill_mode = 'reflect',\n",
    "                              zoom_range=0.15)"
   ]
  },
  {
   "cell_type": "code",
   "execution_count": null,
   "metadata": {},
   "outputs": [],
   "source": [
    "n_priorities=4"
   ]
  },
  {
   "cell_type": "code",
   "execution_count": null,
   "metadata": {},
   "outputs": [
    {
     "name": "stdout",
     "output_type": "stream",
     "text": [
      "Found 51016 validated image filenames belonging to 4 classes.\n"
     ]
    }
   ],
   "source": [
    "lr = 0.0005\n",
    "syntheticBatch = 256\n",
    "imageSize = (512, 512)\n",
    "colorMode = 'rgb'\n",
    "channels = 3\n",
    "batchSize = 32\n",
    "valid_images = core_idg.flow_from_dataframe(dataframe=valid_df, \n",
    "                         directory=None,\n",
    "                         x_col = 'path',\n",
    "                        y_col = 'newLabelP', \n",
    "                         class_mode = 'categorical',\n",
    "                        target_size = imageSize,\n",
    "                         color_mode = 'rgb',\n",
    "                        batch_size = 1024)\n"
   ]
  },
  {
   "cell_type": "code",
   "execution_count": null,
   "metadata": {},
   "outputs": [],
   "source": [
    "def priority_vector(x):\n",
    "    if x==0:\n",
    "        return([1,0,0,0])\n",
    "    elif x==1:\n",
    "        return([0,1,0,0])\n",
    "    elif x==2:\n",
    "        return([0,0,1,0])\n",
    "    elif x==3:\n",
    "        return([0,0,0,1])"
   ]
  },
  {
   "cell_type": "code",
   "execution_count": null,
   "metadata": {},
   "outputs": [],
   "source": [
    "start_l=pd.Series(range(1,21))\n",
    "start_g=pd.Series(range(1,11))"
   ]
  },
  {
   "cell_type": "code",
   "execution_count": null,
   "metadata": {},
   "outputs": [],
   "source": [
    "start_l = list(start_l*0.1)\n",
    "start_g = list(start_g*0.1)"
   ]
  },
  {
   "cell_type": "code",
   "execution_count": null,
   "metadata": {},
   "outputs": [
    {
     "name": "stdout",
     "output_type": "stream",
     "text": [
      "160000\n"
     ]
    },
    {
     "data": {
      "text/plain": [
       "10000"
      ]
     },
     "execution_count": 45,
     "metadata": {},
     "output_type": "execute_result"
    }
   ],
   "source": [
    "import itertools\n",
    "starts1=pd.DataFrame(list(itertools.product(start_l, start_l,start_l,start_l)))\n",
    "print(starts1.shape[0])\n",
    "starts2=pd.DataFrame(list(itertools.product(start_g, start_g,start_g,start_g)))\n",
    "starts2.shape[0]"
   ]
  },
  {
   "cell_type": "code",
   "execution_count": null,
   "metadata": {},
   "outputs": [],
   "source": [
    "from numpy.random import seed\n",
    "seed(2)"
   ]
  },
  {
   "cell_type": "code",
   "execution_count": null,
   "metadata": {},
   "outputs": [],
   "source": [
    "import itertools\n",
    "from scipy.optimize import minimize\n",
    "import scipy as sp\n",
    "import numpy as np\n",
    "from scipy import optimize\n",
    "import itertools\n",
    "itertools.repeat((0,1),4)\n",
    "lr = 0.0005\n",
    "syntheticBatch = 256\n",
    "imageSize = (512, 512)\n",
    "colorMode = 'rgb'\n",
    "channels = 3\n",
    "batchSize = 32\n",
    "batch = int(256 / batchSize)\n",
    "STEPS_PER_EPOCH = 1000\n",
    "EPOCHS = 100"
   ]
  },
  {
   "cell_type": "code",
   "execution_count": null,
   "metadata": {},
   "outputs": [],
   "source": [
    "def workflow_opt_priority_min_cost1(weight_priorities,test_Y,pred_Y):\n",
    "    pred_Y_priority=pred_Y*np.array(weight_priorities)\n",
    "    pred_Y_priority_index=pred_Y_priority.argmax(axis=1)\n",
    "    pred_Y_priority_final=[]\n",
    "    for x in pred_Y_priority_index:\n",
    "        pred_Y_priority_final.append(priority_vector(x))\n",
    "    pred_Y_priority_final=np.array(pred_Y_priority_final)\n",
    "    pmat=np.matmul(np.transpose(test_Y),pred_Y_priority_final)\n",
    "    pmat=pmat/pmat.sum(axis=1,keepdims=True)\n",
    "    return(np.mean(queue_wait_cost_priority(pmat,priority_costs,priority_arrivals,priority_service)))"
   ]
  },
  {
   "cell_type": "code",
   "execution_count": null,
   "metadata": {},
   "outputs": [],
   "source": [
    "def workflow_opt_priority_min_cost2(weight_priorities,test_Y,pred_Y):\n",
    "    pred_Y_priority=pred_Y*np.array(weight_priorities)\n",
    "    pred_Y_priority_index=pred_Y_priority.argmax(axis=1)\n",
    "    pred_Y_priority_final=[]\n",
    "    for x in pred_Y_priority_index:\n",
    "        pred_Y_priority_final.append(priority_vector(x))\n",
    "    pred_Y_priority_final=np.array(pred_Y_priority_final)\n",
    "    pmat=np.matmul(np.transpose(test_Y),pred_Y_priority_final)\n",
    "    pmat=pmat/pmat.sum(axis=1,keepdims=True)\n",
    "    return(np.mean(queue_wait_cost_priority(pmat,priority_costs,priority_arrivals,priority_service)))\n",
    "    "
   ]
  },
  {
   "cell_type": "code",
   "execution_count": null,
   "metadata": {},
   "outputs": [],
   "source": [
    "def optimal_weights_cost():\n",
    "    queue_cost=list()\n",
    "    for i in range(6):\n",
    "        test_X, test_Y = next(valid_images)\n",
    "        multi_disease_model_p = MakeModel3(n_priorities,imageSize, batchSize, channels)\n",
    "        multi_disease_model_p.load_weights(\"xray_class_weights.best.queue_r_10_rho_0.95.june9.hdf5\")\n",
    "        pred_Y = multi_disease_model_p.predict(test_X, batch_size = 32, verbose = True)\n",
    "        res_list= starts1.apply(lambda x:workflow_opt_priority_min_cost1(np.array(x),test_Y,pred_Y),axis=1)\n",
    "        queue_cost.append(res_list)\n",
    "    df=pd.DataFrame(queue_cost)\n",
    "    val_list=df.mean(axis=1)\n",
    "    locy=np.argmin(val_list)\n",
    "    return(np.array(starts1.loc[locy]))"
   ]
  },
  {
   "cell_type": "code",
   "execution_count": null,
   "metadata": {},
   "outputs": [],
   "source": [
    "def optimal_weights_accuracy():\n",
    "    queue_cost=list()\n",
    "    for i in range(6):\n",
    "        test_X, test_Y = next(valid_images)\n",
    "        multi_disease_model_p = MakeModel3(n_priorities,imageSize, batchSize, channels)\n",
    "        multi_disease_model_p.load_weights(\"xray_class_weights.best.direct.june9.hdf5\")\n",
    "        pred_Y = multi_disease_model_p.predict(test_X, batch_size = 32, verbose = True)\n",
    "        res_list= starts1.apply(lambda x:workflow_opt_priority_min_cost2(np.array(x),test_Y,pred_Y),axis=1)\n",
    "        queue_cost.append(res_list)\n",
    "    df=pd.DataFrame(queue_cost)\n",
    "    val_list=df.mean(axis=1)\n",
    "    locy=np.argmin(val_list)\n",
    "    return(np.array(starts1.loc[locy]))"
   ]
  },
  {
   "cell_type": "code",
   "execution_count": null,
   "metadata": {},
   "outputs": [],
   "source": [
    "def workflow_opt_cost(thresh_priorities,test_Y,pred_Y):\n",
    "    cut_off = np.matmul(disease_priority,thresh_priorities)\n",
    "    pred_Y_disease=(pred_Y[:,:] > cut_off).astype(int)\n",
    "    pred_Y_priority=np.matmul(pred_Y_disease,disease_priority)\n",
    "    pred_Y_priority=(pred_Y_priority[:,:] > 0).astype(int)\n",
    "    pred_Y_priority_index=pred_Y_priority.argmax(axis=1)\n",
    "    pred_Y_priority_final=[]\n",
    "    for x in pred_Y_priority_index:\n",
    "        pred_Y_priority_final.append(priority_vector(x))\n",
    "    pred_Y_priority_final=np.array(pred_Y_priority_final)\n",
    "    pmat=np.matmul(np.transpose(test_Y),pred_Y_priority_final)\n",
    "    pmat=pmat/pmat.sum(axis=1,keepdims=True)\n",
    "    return(queue_wait_cost_priority(pmat,priority_costs,priority_arrivals,priority_service))"
   ]
  },
  {
   "cell_type": "code",
   "execution_count": null,
   "metadata": {},
   "outputs": [],
   "source": [
    "def optimal_thresholds_cost():\n",
    "    queue_cost=list()\n",
    "    for i in range(6):\n",
    "        test_X, test_Y = next(valid_images)\n",
    "        multi_disease_model2 = MakeModel1(imageSize, batchSize, channels)\n",
    "        multi_disease_model2.load_weights('xray_class_weights.best.sequential.june9.hdf5')\n",
    "        pred_Y = multi_disease_model2.predict(test_X, batch_size = 32, verbose = True)\n",
    "        res_list= starts2.apply(lambda x:workflow_opt_cost(np.array(x),test_Y,pred_Y),axis=1)\n",
    "        queue_cost.append(res_list)\n",
    "    df=pd.DataFrame(queue_cost)\n",
    "    val_list=df.mean(axis=1)\n",
    "    locy=np.argmin(val_list)\n",
    "    return(np.array(starts2.loc[locy]))"
   ]
  },
  {
   "cell_type": "code",
   "execution_count": null,
   "metadata": {},
   "outputs": [],
   "source": [
    "import itertools\n",
    "from scipy.optimize import minimize\n",
    "import scipy as sp\n",
    "import numpy as np\n",
    "from scipy import optimize\n",
    "\n"
   ]
  },
  {
   "cell_type": "code",
   "execution_count": null,
   "metadata": {},
   "outputs": [
    {
     "name": "stdout",
     "output_type": "stream",
     "text": [
      "32/32 [==============================] - 26s 349ms/step\n"
     ]
    }
   ],
   "source": [
    "thresholds_cost=optimal_thresholds_cost()"
   ]
  },
  {
   "cell_type": "code",
   "execution_count": null,
   "metadata": {},
   "outputs": [],
   "source": [
    "thresholds_cost"
   ]
  },
  {
   "cell_type": "code",
   "execution_count": null,
   "metadata": {},
   "outputs": [],
   "source": [
    "test_images = core_idg.flow_from_dataframe(dataframe=test_df, \n",
    "                         directory=None,\n",
    "                         x_col = 'path',\n",
    "                        y_col = 'newLabelP', \n",
    "                         class_mode = 'categorical',\n",
    "                        target_size = imageSize,\n",
    "                         color_mode = 'rgb',\n",
    "                        batch_size = 1024)\n"
   ]
  },
  {
   "cell_type": "code",
   "execution_count": null,
   "metadata": {},
   "outputs": [],
   "source": [
    "cost_direct_min_cost_max_likelihood=[]\n",
    "pmat_direct_min_cost_max_likelihood=[]\n",
    "cost_direct_min_cost_max_weighted_likelihood=[]\n",
    "pmat_direct_min_cost_max_weighted_likelihood=[]\n",
    "cost_direct_min_cross_entropy_max_likelihood=[]\n",
    "pmat_direct_min_cross_entropy_max_likelihood=[]\n",
    "cost_direct_min_cross_entropy_max_weighted_likelihood=[]\n",
    "pmat_direct_min_cross_entropy_max_weighted_likelihood=[]\n",
    "cost_sequential_min_cross_entropy_max_accuracy=[]\n",
    "pmat_sequential_min_cross_entropy_max_accuracy=[]\n",
    "cost_sequential_min_cross_entropy_min_cost=[]\n",
    "pmat_sequential_min_cross_entropy_min_cost=[]\n",
    "out1=list()\n",
    "out2=list()\n",
    "out3=list()\n",
    "out4=list()\n",
    "out5=list()\n",
    "out6=list()\n",
    "test_X2_mats=list()\n",
    "test_Y2_mats=list()"
   ]
  },
  {
   "cell_type": "code",
   "execution_count": null,
   "metadata": {},
   "outputs": [],
   "source": [
    "for i in range(15):\n",
    "    test_X2, test_Y2 = next(test_images)\n",
    "    multi_disease_model2 = MakeModel1(imageSize, batchSize, channels)\n",
    "    multi_disease_model2.load_weights('xray_class_weights.best.sequential.june9.hdf5')\n",
    "    pred_Y_sequential = multi_disease_model2.predict(test_X2, batch_size = 32, verbose = True)\n",
    "    multi_disease_model_p = MakeModel3(n_priorities,imageSize, batchSize, channels)\n",
    "    multi_disease_model_p.load_weights('xray_class_weights.best.direct.june9.hdf5')\n",
    "    pred_Y_direct_accuracy = multi_disease_model_p.predict(test_X2, batch_size = 32, verbose = True)\n",
    "    multi_disease_model_p = MakeModel3(n_priorities,imageSize, batchSize, channels)\n",
    "    multi_disease_model_p.load_weights('xray_class_weights.best.queue_r_10_rho_0.95.june9.hdf5')\n",
    "    pred_Y_direct_cost = multi_disease_model_p.predict(test_X2, batch_size = 32, verbose = True)\n",
    "    def direct_min_cost_max_likelihood(test_X2,test_Y2):\n",
    "        pred_Y = pred_Y_direct_cost\n",
    "        pred_Y_priority_index=pred_Y.argmax(axis=1)\n",
    "        pred_Y_priority_final=[]\n",
    "        for x in pred_Y_priority_index:\n",
    "            pred_Y_priority_final.append(priority_vector(x))\n",
    "        pred_Y_priority_final=np.array(pred_Y_priority_final)\n",
    "        pmat=np.matmul(np.transpose(test_Y2),pred_Y_priority_final)\n",
    "        pmat=pmat/pmat.sum(axis=1,keepdims=True)\n",
    "        out=(queue_wait_cost_priority(pmat,priority_costs,priority_arrivals,priority_service),pmat)\n",
    "        return(out)\n",
    "    def direct_min_cost_max_weighted_likelihood(weights_min_cost1,test_X2,test_Y2):\n",
    "        pred_Y = pred_Y_direct_cost\n",
    "        pred_Y = pred_Y*weights_min_cost1\n",
    "        pred_Y_priority_index=pred_Y.argmax(axis=1)\n",
    "        pred_Y_priority_final=[]\n",
    "        for x in pred_Y_priority_index:\n",
    "            pred_Y_priority_final.append(priority_vector(x))\n",
    "        pred_Y_priority_final=np.array(pred_Y_priority_final)\n",
    "        pmat=np.matmul(np.transpose(test_Y2),pred_Y_priority_final)\n",
    "        pmat=pmat/pmat.sum(axis=1,keepdims=True)\n",
    "        out=(queue_wait_cost_priority(pmat,priority_costs,priority_arrivals,priority_service),pmat)\n",
    "        return(out)\n",
    "    def direct_min_cross_entropy_max_likelihood(test_X2,test_Y2):\n",
    "        pred_Y = pred_Y_direct_accuracy\n",
    "        pred_Y_priority_index=pred_Y.argmax(axis=1)\n",
    "        pred_Y_priority_final=[]\n",
    "        for x in pred_Y_priority_index:\n",
    "            pred_Y_priority_final.append(priority_vector(x))\n",
    "        pred_Y_priority_final=np.array(pred_Y_priority_final)\n",
    "        pmat=np.matmul(np.transpose(test_Y2),pred_Y_priority_final)\n",
    "        pmat=pmat/pmat.sum(axis=1,keepdims=True)\n",
    "        out=(queue_wait_cost_priority(pmat,priority_costs,priority_arrivals,priority_service),pmat)\n",
    "        return(out)\n",
    "    def direct_min_cross_entropy_max_weighted_likelihood(weights_min_cost2,test_X2,test_Y2):\n",
    "        pred_Y = pred_Y_direct_accuracy\n",
    "        pred_Y=pred_Y*weights_min_cost2\n",
    "        pred_Y_priority_index=pred_Y.argmax(axis=1)\n",
    "        pred_Y_priority_final=[]\n",
    "        for x in pred_Y_priority_index:\n",
    "            pred_Y_priority_final.append(priority_vector(x))\n",
    "        pred_Y_priority_final=np.array(pred_Y_priority_final)\n",
    "        pmat=np.matmul(np.transpose(test_Y2),pred_Y_priority_final)\n",
    "        pmat=pmat/pmat.sum(axis=1,keepdims=True)\n",
    "        out=(queue_wait_cost_priority(pmat,priority_costs,priority_arrivals,priority_service),pmat)\n",
    "        return(out)\n",
    "    def sequential_min_cross_entropy_max_accuracy(thresholds_accuracy,test_X2,test_Y2):\n",
    "        pred_Y = pred_Y_sequential\n",
    "        cut_off = thresholds_accuracy\n",
    "        pred_Y_disease=(pred_Y[:,:] > cut_off).astype(int)\n",
    "        pred_Y_priority=np.matmul(pred_Y_disease,disease_priority)\n",
    "        pred_Y_priority=(pred_Y_priority[:,:] > 0).astype(int)\n",
    "        pred_Y_priority_index=pred_Y_priority.argmax(axis=1)\n",
    "        pred_Y_priority_final=[]\n",
    "        for x in pred_Y_priority_index:\n",
    "            pred_Y_priority_final.append(priority_vector(x))\n",
    "        pred_Y_priority_final=np.array(pred_Y_priority_final)\n",
    "        pmat=np.matmul(np.transpose(test_Y2),pred_Y_priority_final)\n",
    "        pmat=pmat/pmat.sum(axis=1,keepdims=True)\n",
    "        out=(queue_wait_cost_priority(pmat,priority_costs,priority_arrivals,priority_service),pmat)\n",
    "        return(out)\n",
    "    def sequential_min_cross_entropy_min_cost(thresholds_cost,test_X2,test_Y2):\n",
    "        pred_Y = pred_Y_sequential\n",
    "        cut_off = np.matmul(disease_priority,thresholds_cost)\n",
    "        pred_Y_disease=(pred_Y[:,:] > cut_off).astype(int)\n",
    "        pred_Y_priority=np.matmul(pred_Y_disease,disease_priority)\n",
    "        pred_Y_priority=(pred_Y_priority[:,:] > 0).astype(int)\n",
    "        pred_Y_priority_index=pred_Y_priority.argmax(axis=1)\n",
    "        pred_Y_priority_final=[]\n",
    "        for x in pred_Y_priority_index:\n",
    "            pred_Y_priority_final.append(priority_vector(x))\n",
    "        pred_Y_priority_final=np.array(pred_Y_priority_final)\n",
    "        pmat=np.matmul(np.transpose(test_Y2),pred_Y_priority_final)\n",
    "        pmat=pmat/pmat.sum(axis=1,keepdims=True)\n",
    "        out=(queue_wait_cost_priority(pmat,priority_costs,priority_arrivals,priority_service),pmat)\n",
    "        return(out)\n",
    "    out1=direct_min_cost_max_likelihood(test_X2,test_Y2)\n",
    "    #out2=direct_min_cost_max_weighted_likelihood(weights_min_cost1,test_X2,test_Y2)\n",
    "    out3=direct_min_cross_entropy_max_likelihood(test_X2,test_Y2)\n",
    "    #out4=direct_min_cross_entropy_max_weighted_likelihood(weights_min_cost2,test_X2,test_Y2)\n",
    "    out5=sequential_min_cross_entropy_max_accuracy(thresholds_accuracy,test_X2,test_Y2)\n",
    "    out6=sequential_min_cross_entropy_min_cost(thresholds_cost,test_X2,test_Y2)\n",
    "    cost_direct_min_cost_max_likelihood.append(out1[0])\n",
    "    #cost_direct_min_cost_max_weighted_likelihood.append(out2[0])\n",
    "    cost_direct_min_cross_entropy_max_likelihood.append(out3[0])\n",
    "    #cost_direct_min_cross_entropy_max_weighted_likelihood.append(out4[0])\n",
    "    cost_sequential_min_cross_entropy_max_accuracy.append(out5[0])\n",
    "    cost_sequential_min_cross_entropy_min_cost.append(out6[0])\n",
    "    pmat_direct_min_cost_max_likelihood.append(out1[1])\n",
    "    #pmat_direct_min_cost_max_weighted_likelihood.append(out2[1])\n",
    "    pmat_direct_min_cross_entropy_max_likelihood.append(out3[1])\n",
    "    #pmat_direct_min_cross_entropy_max_weighted_likelihood.append(out4[1])\n",
    "    pmat_sequential_min_cross_entropy_max_accuracy.append(out5[1])\n",
    "    pmat_sequential_min_cross_entropy_min_cost.append(out6[1])\n",
    "    pd.DataFrame(np.column_stack([cost_direct_min_cost_max_likelihood,\n",
    "                                  cost_direct_min_cross_entropy_max_likelihood,\n",
    "                                  cost_sequential_min_cross_entropy_max_accuracy,\n",
    "                                  cost_sequential_min_cross_entropy_min_cost])).to_csv(\"costs_r_10_rho_95_june11.csv\")"
   ]
  },
  {
   "cell_type": "code",
   "execution_count": null,
   "metadata": {},
   "outputs": [],
   "source": [
    "sum=0\n",
    "  \n",
    "# using np.mean()\n",
    "Input=pmat_direct_min_cost_max_likelihood\n",
    "for i in range(len(pmat_direct_min_cost_max_likelihood)):\n",
    "   sum=sum+Input[i]\n",
    "  \n",
    "# Printing output\n",
    "print(sum/len(Input))"
   ]
  },
  {
   "cell_type": "code",
   "execution_count": null,
   "metadata": {},
   "outputs": [],
   "source": [
    "sum=0\n",
    "Input=pmat_direct_min_cross_entropy_max_likelihood\n",
    "# using np.mean()\n",
    "for i in range(len(pmat_direct_min_cross_entropy_max_likelihood)):\n",
    "   sum=sum+Input[i]\n",
    "  \n",
    "# Printing output\n",
    "print(sum/len(Input))"
   ]
  },
  {
   "cell_type": "code",
   "execution_count": null,
   "metadata": {},
   "outputs": [],
   "source": [
    "sum=0\n",
    "Input=pmat_sequential_min_cross_entropy_max_accuracy\n",
    "# using np.mean()\n",
    "for i in range(len(pmat_sequential_min_cross_entropy_max_accuracy)):\n",
    "   sum=sum+Input[i]\n",
    "  \n",
    "# Printing output\n",
    "print(sum/len(Input))"
   ]
  },
  {
   "cell_type": "code",
   "execution_count": null,
   "metadata": {},
   "outputs": [],
   "source": [
    "sum=0\n",
    "Input=pmat_sequential_min_cross_entropy_min_cost\n",
    "# using np.mean()\n",
    "for i in range(len(pmat_sequential_min_cross_entropy_min_cost)):\n",
    "   sum=sum+Input[i]\n",
    "  \n",
    "# Printing output\n",
    "print(sum/len(Input))"
   ]
  },
  {
   "cell_type": "code",
   "execution_count": null,
   "metadata": {},
   "outputs": [],
   "source": []
  }
 ],
 "metadata": {
  "kernelspec": {
   "display_name": "Python 3",
   "language": "python",
   "name": "python3"
  },
  "language_info": {
   "codemirror_mode": {
    "name": "ipython",
    "version": 3
   },
   "file_extension": ".py",
   "mimetype": "text/x-python",
   "name": "python",
   "nbconvert_exporter": "python",
   "pygments_lexer": "ipython3",
   "version": "3.7.10"
  }
 },
 "nbformat": 4,
 "nbformat_minor": 1
}
