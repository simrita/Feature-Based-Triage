{
 "cells": [
  {
   "cell_type": "code",
   "execution_count": 1,
   "metadata": {},
   "outputs": [
    {
     "name": "stdout",
     "output_type": "stream",
     "text": [
      "3.7.10\n"
     ]
    }
   ],
   "source": [
    "from platform import python_version\n",
    "print(python_version())"
   ]
  },
  {
   "cell_type": "markdown",
   "metadata": {},
   "source": [
    "A: The usage of the data set is unrestricted. But you should provide the link to our original download site, acknowledge the NIH Clinical Center and provide a citation to our CVPR 2017 paper"
   ]
  },
  {
   "cell_type": "markdown",
   "metadata": {},
   "source": [
    "A: ‘No finding’ means the 14 listed disease patterns are not found in the image. "
   ]
  },
  {
   "cell_type": "markdown",
   "metadata": {},
   "source": [
    "https://www.kaggle.com/nih-chest-xrays/data\n",
    "\n",
    "Citations\n",
    "Wang X, Peng Y, Lu L, Lu Z, Bagheri M, Summers RM. ChestX-ray8: Hospital-scale Chest X-ray Database and Benchmarks on Weakly-Supervised Classification and Localization of Common Thorax Diseases. IEEE CVPR 2017, ChestX-ray8_Hospital-Scale_Chest_CVPR_2017_paper.pdf\n",
    "\n",
    "NIH News release: NIH Clinical Center provides one of the largest publicly available chest x-ray datasets to scientific community\n",
    "\n",
    "Original source files and documents: https://nihcc.app.box.com/v/ChestXray-NIHCC/folder/36938765345"
   ]
  },
  {
   "cell_type": "markdown",
   "metadata": {},
   "source": [
    "### Context Behind Dataset for Final Writeup:"
   ]
  },
  {
   "cell_type": "markdown",
   "metadata": {},
   "source": [
    "Dataset was gathered by the NIH and contains over 100,000 anonymized chest x-ray images from more than 30,000 patients.  "
   ]
  },
  {
   "cell_type": "markdown",
   "metadata": {
    "_cell_guid": "19ff9d0b-d32d-4325-a19f-2ccbfa7d2dff",
    "_uuid": "9206c5863724e1af01281071e0f0ee5109ef431b"
   },
   "source": [
    "# Goal\n",
    "The goal is to use a simple model to classify x-ray images in Keras"
   ]
  },
  {
   "cell_type": "code",
   "execution_count": 2,
   "metadata": {
    "_cell_guid": "f42f6560-edf0-4efb-85a6-6e945e50895b",
    "_uuid": "3300a1edbf2e8122d88093998eb503a6fab8a719"
   },
   "outputs": [
    {
     "name": "stderr",
     "output_type": "stream",
     "text": [
      "\n",
      "Bad key \"text.kerning_factor\" on line 4 in\n",
      "/home/ubuntu/anaconda3/lib/python3.7/site-packages/matplotlib/mpl-data/stylelib/_classic_test_patch.mplstyle.\n",
      "You probably need to get an updated matplotlibrc file from\n",
      "http://github.com/matplotlib/matplotlib/blob/master/matplotlibrc.template\n",
      "or from the matplotlib source distribution\n"
     ]
    }
   ],
   "source": [
    "import numpy as np # linear algebra\n",
    "import pandas as pd # data processing, CSV file I/O (e.g. pd.read_csv)\n",
    "import os\n",
    "from glob import glob\n",
    "%matplotlib inline\n",
    "import matplotlib.pyplot as plt"
   ]
  },
  {
   "cell_type": "code",
   "execution_count": 3,
   "metadata": {},
   "outputs": [],
   "source": [
    "import tensorflow"
   ]
  },
  {
   "cell_type": "code",
   "execution_count": 4,
   "metadata": {},
   "outputs": [
    {
     "data": {
      "text/plain": [
       "[('00018942_001.png', '../data/images_009/images/00018942_001.png'),\n",
       " ('00020323_001.png', '../data/images_009/images/00020323_001.png'),\n",
       " ('00018730_001.png', '../data/images_009/images/00018730_001.png'),\n",
       " ('00019551_000.png', '../data/images_009/images/00019551_000.png')]"
      ]
     },
     "execution_count": 4,
     "metadata": {},
     "output_type": "execute_result"
    }
   ],
   "source": [
    "all_xray_df = pd.read_csv('../data/Data_Entry_2017.csv')\n",
    "folderlist = glob(os.path.join('../data', 'images*'))\n",
    "imglist = []\n",
    "for folder in folderlist:\n",
    "    tmp = glob(os.path.join(folder, \"images\", \"*.png\"))\n",
    "    imglist += tmp\n",
    "all_image_paths = {os.path.basename(x): x for x in imglist}\n",
    "#{k:all_image_paths[k] for k in all_image_paths.keys()[:5]}\n",
    "list(all_image_paths.items())[:4]\n",
    "# all_image_paths = {os.path.basename(x): x for x in \n",
    "#                    glob(os.path.join('.', 'data', 'images*', '*.png'))}\n",
    "\n"
   ]
  },
  {
   "cell_type": "code",
   "execution_count": 5,
   "metadata": {},
   "outputs": [
    {
     "name": "stdout",
     "output_type": "stream",
     "text": [
      "Scans found: 112120 , Total Headers 112120\n",
      "[('00002587_005.png', '../data/images_002/images/00002587_005.png'), ('00002588_000.png', '../data/images_002/images/00002588_000.png'), ('00002589_000.png', '../data/images_002/images/00002589_000.png'), ('00002589_001.png', '../data/images_002/images/00002589_001.png')]\n"
     ]
    },
    {
     "data": {
      "text/html": [
       "<div>\n",
       "<style scoped>\n",
       "    .dataframe tbody tr th:only-of-type {\n",
       "        vertical-align: middle;\n",
       "    }\n",
       "\n",
       "    .dataframe tbody tr th {\n",
       "        vertical-align: top;\n",
       "    }\n",
       "\n",
       "    .dataframe thead th {\n",
       "        text-align: right;\n",
       "    }\n",
       "</style>\n",
       "<table border=\"1\" class=\"dataframe\">\n",
       "  <thead>\n",
       "    <tr style=\"text-align: right;\">\n",
       "      <th></th>\n",
       "      <th>Image Index</th>\n",
       "      <th>Finding Labels</th>\n",
       "      <th>Follow-up #</th>\n",
       "      <th>Patient ID</th>\n",
       "      <th>Patient Age</th>\n",
       "      <th>Patient Gender</th>\n",
       "      <th>View Position</th>\n",
       "      <th>OriginalImage[Width</th>\n",
       "      <th>Height]</th>\n",
       "      <th>OriginalImagePixelSpacing[x</th>\n",
       "      <th>y]</th>\n",
       "      <th>Unnamed: 11</th>\n",
       "      <th>path</th>\n",
       "    </tr>\n",
       "  </thead>\n",
       "  <tbody>\n",
       "    <tr>\n",
       "      <th>94305</th>\n",
       "      <td>00024100_000.png</td>\n",
       "      <td>Infiltration</td>\n",
       "      <td>0</td>\n",
       "      <td>24100</td>\n",
       "      <td>64</td>\n",
       "      <td>M</td>\n",
       "      <td>PA</td>\n",
       "      <td>2992</td>\n",
       "      <td>2991</td>\n",
       "      <td>0.143</td>\n",
       "      <td>0.143</td>\n",
       "      <td>NaN</td>\n",
       "      <td>../data/images_010/images/00024100_000.png</td>\n",
       "    </tr>\n",
       "    <tr>\n",
       "      <th>69735</th>\n",
       "      <td>00017184_000.png</td>\n",
       "      <td>Infiltration</td>\n",
       "      <td>0</td>\n",
       "      <td>17184</td>\n",
       "      <td>62</td>\n",
       "      <td>M</td>\n",
       "      <td>PA</td>\n",
       "      <td>2500</td>\n",
       "      <td>2048</td>\n",
       "      <td>0.168</td>\n",
       "      <td>0.168</td>\n",
       "      <td>NaN</td>\n",
       "      <td>../data/images_008/images/00017184_000.png</td>\n",
       "    </tr>\n",
       "    <tr>\n",
       "      <th>98287</th>\n",
       "      <td>00025955_000.png</td>\n",
       "      <td>Infiltration|Mass</td>\n",
       "      <td>0</td>\n",
       "      <td>25955</td>\n",
       "      <td>44</td>\n",
       "      <td>F</td>\n",
       "      <td>PA</td>\n",
       "      <td>2626</td>\n",
       "      <td>2481</td>\n",
       "      <td>0.143</td>\n",
       "      <td>0.143</td>\n",
       "      <td>NaN</td>\n",
       "      <td>../data/images_011/images/00025955_000.png</td>\n",
       "    </tr>\n",
       "  </tbody>\n",
       "</table>\n",
       "</div>"
      ],
      "text/plain": [
       "            Image Index     Finding Labels  Follow-up #  Patient ID  \\\n",
       "94305  00024100_000.png       Infiltration            0       24100   \n",
       "69735  00017184_000.png       Infiltration            0       17184   \n",
       "98287  00025955_000.png  Infiltration|Mass            0       25955   \n",
       "\n",
       "       Patient Age Patient Gender View Position  OriginalImage[Width  Height]  \\\n",
       "94305           64              M            PA                 2992     2991   \n",
       "69735           62              M            PA                 2500     2048   \n",
       "98287           44              F            PA                 2626     2481   \n",
       "\n",
       "       OriginalImagePixelSpacing[x     y]  Unnamed: 11  \\\n",
       "94305                        0.143  0.143          NaN   \n",
       "69735                        0.168  0.168          NaN   \n",
       "98287                        0.143  0.143          NaN   \n",
       "\n",
       "                                             path  \n",
       "94305  ../data/images_010/images/00024100_000.png  \n",
       "69735  ../data/images_008/images/00017184_000.png  \n",
       "98287  ../data/images_011/images/00025955_000.png  "
      ]
     },
     "execution_count": 5,
     "metadata": {},
     "output_type": "execute_result"
    }
   ],
   "source": [
    "print('Scans found:', len(all_image_paths), ', Total Headers', all_xray_df.shape[0])\n",
    "num_selected = 10000\n",
    "tmp = {key: all_image_paths[key] for key in sorted(list(all_image_paths.keys()))[num_selected:]}\n",
    "print(list(tmp.items())[:4])\n",
    "all_xray_df['path'] = all_xray_df['Image Index'][num_selected:].map(tmp.get)\n",
    "all_xray_df = all_xray_df[num_selected:]\n",
    "all_xray_df.sample(3)"
   ]
  },
  {
   "cell_type": "code",
   "execution_count": 6,
   "metadata": {
    "scrolled": true
   },
   "outputs": [
    {
     "data": {
      "text/plain": [
       "No Finding                                                                        54652\n",
       "Infiltration                                                                       8734\n",
       "Atelectasis                                                                        3848\n",
       "Effusion                                                                           3659\n",
       "Nodule                                                                             2495\n",
       "Mass                                                                               2015\n",
       "Pneumothorax                                                                       1972\n",
       "Effusion|Infiltration                                                              1511\n",
       "Atelectasis|Infiltration                                                           1237\n",
       "Consolidation                                                                      1199\n",
       "Atelectasis|Effusion                                                               1091\n",
       "Pleural_Thickening                                                                 1004\n",
       "Cardiomegaly                                                                        981\n",
       "Emphysema                                                                           795\n",
       "Infiltration|Nodule                                                                 764\n",
       "Atelectasis|Effusion|Infiltration                                                   696\n",
       "Edema                                                                               590\n",
       "Fibrosis                                                                            580\n",
       "Cardiomegaly|Effusion                                                               431\n",
       "Infiltration|Mass                                                                   390\n",
       "Effusion|Mass                                                                       390\n",
       "Consolidation|Infiltration                                                          389\n",
       "Effusion|Pneumothorax                                                               384\n",
       "Mass|Nodule                                                                         380\n",
       "Edema|Infiltration                                                                  371\n",
       "Atelectasis|Consolidation                                                           363\n",
       "Emphysema|Pneumothorax                                                              313\n",
       "Infiltration|Pneumothorax                                                           312\n",
       "Consolidation|Effusion                                                              306\n",
       "Pneumonia                                                                           283\n",
       "                                                                                  ...  \n",
       "Atelectasis|Emphysema|Fibrosis|Infiltration                                           1\n",
       "Edema|Pneumonia|Pneumothorax                                                          1\n",
       "Cardiomegaly|Edema|Effusion|Pleural_Thickening                                        1\n",
       "Consolidation|Emphysema|Infiltration|Nodule|Pleural_Thickening|Pneumothorax           1\n",
       "Atelectasis|Cardiomegaly|Effusion|Infiltration|Mass|Pleural_Thickening                1\n",
       "Atelectasis|Consolidation|Effusion|Mass|Nodule|Pneumothorax                           1\n",
       "Atelectasis|Consolidation|Effusion|Fibrosis|Pleural_Thickening                        1\n",
       "Atelectasis|Infiltration|Mass|Pneumonia                                               1\n",
       "Atelectasis|Effusion|Infiltration|Pneumonia|Pneumothorax                              1\n",
       "Consolidation|Effusion|Emphysema                                                      1\n",
       "Atelectasis|Edema|Effusion|Mass|Nodule                                                1\n",
       "Atelectasis|Consolidation|Effusion|Infiltration|Mass|Pneumothorax                     1\n",
       "Cardiomegaly|Infiltration|Nodule|Pneumothorax                                         1\n",
       "Atelectasis|Cardiomegaly|Consolidation|Edema|Effusion|Infiltration|Mass|Nodule        1\n",
       "Cardiomegaly|Consolidation|Effusion|Mass|Nodule|Pleural_Thickening                    1\n",
       "Atelectasis|Edema|Effusion|Infiltration|Nodule|Pleural_Thickening                     1\n",
       "Cardiomegaly|Edema|Effusion|Pneumonia                                                 1\n",
       "Atelectasis|Effusion|Fibrosis|Pneumothorax                                            1\n",
       "Effusion|Fibrosis|Mass|Cardiomegaly                                                   1\n",
       "Edema|Infiltration|Pleural_Thickening                                                 1\n",
       "Atelectasis|Consolidation|Effusion|Nodule|Pneumothorax                                1\n",
       "Cardiomegaly|Consolidation|Effusion|Infiltration|Pleural_Thickening                   1\n",
       "Cardiomegaly|Consolidation|Edema|Infiltration                                         1\n",
       "Atelectasis|Cardiomegaly|Consolidation|Effusion|Mass|Nodule                           1\n",
       "Atelectasis|Consolidation|Fibrosis|Nodule                                             1\n",
       "Atelectasis|Emphysema|Infiltration|Mass|Pleural_Thickening|Pneumothorax               1\n",
       "Atelectasis|Hernia|Mass                                                               1\n",
       "Edema|Effusion|Pleural_Thickening|Pneumonia|Pneumothorax                              1\n",
       "Edema|Infiltration|Mass|Pneumothorax                                                  1\n",
       "Emphysema|Pneumonia|Pneumothorax                                                      1\n",
       "Name: Finding Labels, Length: 807, dtype: int64"
      ]
     },
     "execution_count": 6,
     "metadata": {},
     "output_type": "execute_result"
    }
   ],
   "source": [
    "label_counts = all_xray_df['Finding Labels'].value_counts()\n",
    "label_counts"
   ]
  },
  {
   "cell_type": "markdown",
   "metadata": {
    "_cell_guid": "0d674a43-170f-4ca6-a9b4-edc64ab89c35",
    "_uuid": "9a1669750b7cffcae1b7a2eb4307b85472dff192"
   },
   "source": [
    "# Preprocessing Labels\n",
    "Here we take the labels and make them into a more clear format. The primary step is to see the distribution of findings and then to convert them to simple binary labels"
   ]
  },
  {
   "cell_type": "code",
   "execution_count": 7,
   "metadata": {
    "_cell_guid": "d75ed03e-986d-4f3f-81af-c910d194f390",
    "_uuid": "0c5123f65edf349f8ad2e5c5f55ac484d974f5c7"
   },
   "outputs": [
    {
     "data": {
      "image/png": "[encoded data removed]",
      "text/plain": [
       "<Figure size 864x576 with 1 Axes>"
      ]
     },
     "metadata": {
      "needs_background": "light"
     },
     "output_type": "display_data"
    }
   ],
   "source": [
    "label_counts = all_xray_df['Finding Labels'].value_counts()[:15]\n",
    "fig, ax1 = plt.subplots(1,1,figsize = (12, 8))\n",
    "ax1.bar(np.arange(len(label_counts))+0.5, label_counts)\n",
    "ax1.set_xticks(np.arange(len(label_counts))+0.5)\n",
    "_ = ax1.set_xticklabels(label_counts.index, rotation = 90)"
   ]
  },
  {
   "cell_type": "code",
   "execution_count": 8,
   "metadata": {},
   "outputs": [],
   "source": [
    "n_priorities = 4\n",
    "priority1=['Pneumothorax']\n",
    "priority2=['Pneumonia','Edema']\n",
    "priority3=['Atelectasis','Cardiomegaly','Consolidation','Effusion','Emphysema','Fibrosis','Infiltration','Mass','Nodule','Pleural_Thickening']\n",
    "priority4=['No Finding']"
   ]
  },
  {
   "cell_type": "code",
   "execution_count": 9,
   "metadata": {},
   "outputs": [],
   "source": [
    "def priority_val(x):\n",
    "    if any(item in priority1 for item in x):\n",
    "        return 'priority1'\n",
    "    elif any(item in priority2 for item in x):\n",
    "        return 'priority2'\n",
    "    elif any(item in priority3 for item in x):\n",
    "        return 'priority3'\n",
    "    elif any(item in priority4 for item in x):\n",
    "        return 'priority4'\n",
    "    \n",
    "    "
   ]
  },
  {
   "cell_type": "code",
   "execution_count": 10,
   "metadata": {},
   "outputs": [
    {
     "data": {
      "text/plain": [
       "48539     priority4\n",
       "33493     priority4\n",
       "101426    priority3\n",
       "Name: Priority Label, dtype: object"
      ]
     },
     "execution_count": 10,
     "metadata": {},
     "output_type": "execute_result"
    }
   ],
   "source": [
    "from itertools import chain\n",
    "all_xray_df['Priority Label']=all_xray_df['Finding Labels'].map(lambda x: priority_val(x.split('|')))\n",
    "all_xray_df['Priority Label'].sample(3)"
   ]
  },
  {
   "cell_type": "code",
   "execution_count": 11,
   "metadata": {
    "_cell_guid": "a9ff3a04-254d-4667-b0a3-869bbd92b08b",
    "_uuid": "78b4425b0a8932bb33864b5a3712611004687a48"
   },
   "outputs": [
    {
     "name": "stdout",
     "output_type": "stream",
     "text": [
      "All Labels (15): ['Atelectasis', 'Cardiomegaly', 'Consolidation', 'Edema', 'Effusion', 'Emphysema', 'Fibrosis', 'Hernia', 'Infiltration', 'Mass', 'No Finding', 'Nodule', 'Pleural_Thickening', 'Pneumonia', 'Pneumothorax']\n"
     ]
    },
    {
     "data": {
      "text/html": [
       "<div>\n",
       "<style scoped>\n",
       "    .dataframe tbody tr th:only-of-type {\n",
       "        vertical-align: middle;\n",
       "    }\n",
       "\n",
       "    .dataframe tbody tr th {\n",
       "        vertical-align: top;\n",
       "    }\n",
       "\n",
       "    .dataframe thead th {\n",
       "        text-align: right;\n",
       "    }\n",
       "</style>\n",
       "<table border=\"1\" class=\"dataframe\">\n",
       "  <thead>\n",
       "    <tr style=\"text-align: right;\">\n",
       "      <th></th>\n",
       "      <th>Image Index</th>\n",
       "      <th>Finding Labels</th>\n",
       "      <th>Follow-up #</th>\n",
       "      <th>Patient ID</th>\n",
       "      <th>Patient Age</th>\n",
       "      <th>Patient Gender</th>\n",
       "      <th>View Position</th>\n",
       "      <th>OriginalImage[Width</th>\n",
       "      <th>Height]</th>\n",
       "      <th>OriginalImagePixelSpacing[x</th>\n",
       "      <th>...</th>\n",
       "      <th>Emphysema</th>\n",
       "      <th>Fibrosis</th>\n",
       "      <th>Hernia</th>\n",
       "      <th>Infiltration</th>\n",
       "      <th>Mass</th>\n",
       "      <th>No Finding</th>\n",
       "      <th>Nodule</th>\n",
       "      <th>Pleural_Thickening</th>\n",
       "      <th>Pneumonia</th>\n",
       "      <th>Pneumothorax</th>\n",
       "    </tr>\n",
       "  </thead>\n",
       "  <tbody>\n",
       "    <tr>\n",
       "      <th>54678</th>\n",
       "      <td>00013675_000.png</td>\n",
       "      <td>No Finding</td>\n",
       "      <td>0</td>\n",
       "      <td>13675</td>\n",
       "      <td>32</td>\n",
       "      <td>F</td>\n",
       "      <td>PA</td>\n",
       "      <td>2992</td>\n",
       "      <td>2991</td>\n",
       "      <td>0.143</td>\n",
       "      <td>...</td>\n",
       "      <td>0.0</td>\n",
       "      <td>0.0</td>\n",
       "      <td>0.0</td>\n",
       "      <td>0.0</td>\n",
       "      <td>0.0</td>\n",
       "      <td>1.0</td>\n",
       "      <td>0.0</td>\n",
       "      <td>0.0</td>\n",
       "      <td>0.0</td>\n",
       "      <td>0.0</td>\n",
       "    </tr>\n",
       "    <tr>\n",
       "      <th>32893</th>\n",
       "      <td>00008612_003.png</td>\n",
       "      <td>Mass</td>\n",
       "      <td>3</td>\n",
       "      <td>8612</td>\n",
       "      <td>39</td>\n",
       "      <td>M</td>\n",
       "      <td>PA</td>\n",
       "      <td>2500</td>\n",
       "      <td>2048</td>\n",
       "      <td>0.168</td>\n",
       "      <td>...</td>\n",
       "      <td>0.0</td>\n",
       "      <td>0.0</td>\n",
       "      <td>0.0</td>\n",
       "      <td>0.0</td>\n",
       "      <td>1.0</td>\n",
       "      <td>0.0</td>\n",
       "      <td>0.0</td>\n",
       "      <td>0.0</td>\n",
       "      <td>0.0</td>\n",
       "      <td>0.0</td>\n",
       "    </tr>\n",
       "    <tr>\n",
       "      <th>21771</th>\n",
       "      <td>00005776_007.png</td>\n",
       "      <td>No Finding</td>\n",
       "      <td>7</td>\n",
       "      <td>5776</td>\n",
       "      <td>55</td>\n",
       "      <td>F</td>\n",
       "      <td>AP</td>\n",
       "      <td>2500</td>\n",
       "      <td>2048</td>\n",
       "      <td>0.168</td>\n",
       "      <td>...</td>\n",
       "      <td>0.0</td>\n",
       "      <td>0.0</td>\n",
       "      <td>0.0</td>\n",
       "      <td>0.0</td>\n",
       "      <td>0.0</td>\n",
       "      <td>1.0</td>\n",
       "      <td>0.0</td>\n",
       "      <td>0.0</td>\n",
       "      <td>0.0</td>\n",
       "      <td>0.0</td>\n",
       "    </tr>\n",
       "  </tbody>\n",
       "</table>\n",
       "<p>3 rows × 29 columns</p>\n",
       "</div>"
      ],
      "text/plain": [
       "            Image Index Finding Labels  Follow-up #  Patient ID  Patient Age  \\\n",
       "54678  00013675_000.png     No Finding            0       13675           32   \n",
       "32893  00008612_003.png           Mass            3        8612           39   \n",
       "21771  00005776_007.png     No Finding            7        5776           55   \n",
       "\n",
       "      Patient Gender View Position  OriginalImage[Width  Height]  \\\n",
       "54678              F            PA                 2992     2991   \n",
       "32893              M            PA                 2500     2048   \n",
       "21771              F            AP                 2500     2048   \n",
       "\n",
       "       OriginalImagePixelSpacing[x  ...  Emphysema  Fibrosis Hernia  \\\n",
       "54678                        0.143  ...        0.0       0.0    0.0   \n",
       "32893                        0.168  ...        0.0       0.0    0.0   \n",
       "21771                        0.168  ...        0.0       0.0    0.0   \n",
       "\n",
       "      Infiltration  Mass  No Finding  Nodule  Pleural_Thickening  Pneumonia  \\\n",
       "54678          0.0   0.0         1.0     0.0                 0.0        0.0   \n",
       "32893          0.0   1.0         0.0     0.0                 0.0        0.0   \n",
       "21771          0.0   0.0         1.0     0.0                 0.0        0.0   \n",
       "\n",
       "       Pneumothorax  \n",
       "54678           0.0  \n",
       "32893           0.0  \n",
       "21771           0.0  \n",
       "\n",
       "[3 rows x 29 columns]"
      ]
     },
     "execution_count": 11,
     "metadata": {},
     "output_type": "execute_result"
    }
   ],
   "source": [
    "#all_xray_df['Finding Labels'] = all_xray_df['Finding Labels'].map(lambda x: x.replace('No Finding', ''))\n",
    "from itertools import chain\n",
    "all_labels = np.unique(list(chain(*all_xray_df['Finding Labels'].map(lambda x: x.split('|')).tolist())))\n",
    "all_labels = [x for x in all_labels if len(x)>0]\n",
    "print('All Labels ({}): {}'.format(len(all_labels), all_labels))\n",
    "for c_label in all_labels:\n",
    "    if len(c_label)>1: # leave out empty labels\n",
    "        all_xray_df[c_label] = all_xray_df['Finding Labels'].map(lambda finding: 1.0 if c_label in finding else 0)\n",
    "all_xray_df.sample(3)"
   ]
  },
  {
   "cell_type": "code",
   "execution_count": 12,
   "metadata": {},
   "outputs": [
    {
     "data": {
      "text/plain": [
       "['Atelectasis',\n",
       " 'Cardiomegaly',\n",
       " 'Consolidation',\n",
       " 'Edema',\n",
       " 'Effusion',\n",
       " 'Emphysema',\n",
       " 'Fibrosis',\n",
       " 'Hernia',\n",
       " 'Infiltration',\n",
       " 'Mass',\n",
       " 'No Finding',\n",
       " 'Nodule',\n",
       " 'Pleural_Thickening',\n",
       " 'Pneumonia',\n",
       " 'Pneumothorax']"
      ]
     },
     "execution_count": 12,
     "metadata": {},
     "output_type": "execute_result"
    }
   ],
   "source": [
    "all_labels"
   ]
  },
  {
   "cell_type": "markdown",
   "metadata": {
    "_cell_guid": "05b6c7d9-4869-40b5-a70b-53957c69f021",
    "_uuid": "64653f9f57d3a5b952f1f1a709eb70ca38761a0d"
   },
   "source": [
    "### Clean categories\n",
    "Since we have too many categories, we can prune a few out by taking the ones with only a few examples"
   ]
  },
  {
   "cell_type": "code",
   "execution_count": 13,
   "metadata": {
    "_cell_guid": "dd273e26-63ab-4d76-925d-9c1c2c1ba69c",
    "_uuid": "9f368f9ea8947d8fc1dacf3988c58b6a2bf5fffc"
   },
   "outputs": [
    {
     "name": "stdout",
     "output_type": "stream",
     "text": [
      "Clean Labels (14) [('Atelectasis', 10670), ('Cardiomegaly', 2476), ('Consolidation', 4271), ('Edema', 2150), ('Effusion', 12410), ('Emphysema', 2295), ('Fibrosis', 1407), ('Infiltration', 18291), ('Mass', 5454), ('No Finding', 54652), ('Nodule', 5887), ('Pleural_Thickening', 3060), ('Pneumonia', 1296), ('Pneumothorax', 4862)]\n"
     ]
    }
   ],
   "source": [
    "# keep at least 1000 cases\n",
    "MIN_CASES = 1000\n",
    "all_labels = [c_label for c_label in all_labels if all_xray_df[c_label].sum()>MIN_CASES]\n",
    "print('Clean Labels ({})'.format(len(all_labels)), \n",
    "      [(c_label,int(all_xray_df[c_label].sum())) for c_label in all_labels])"
   ]
  },
  {
   "cell_type": "code",
   "execution_count": 14,
   "metadata": {},
   "outputs": [],
   "source": [
    "\n",
    "res = [i for i, val in enumerate(list(all_xray_df['Priority Label'])) if val == None]\n"
   ]
  },
  {
   "cell_type": "code",
   "execution_count": 15,
   "metadata": {},
   "outputs": [
    {
     "name": "stdout",
     "output_type": "stream",
     "text": [
      "[1589, 1590, 1591, 1592, 2428, 2525, 5023, 5024, 5579, 6034, 9541, 9590, 11551, 12815, 13240, 14244, 14781, 15532, 15536, 16160, 18209, 19618, 20263, 20280, 20754, 22253, 22528, 23133, 23135, 23137, 24265, 27971, 28351, 36105, 36669, 37468, 39653, 40594, 40972, 42639, 43035, 43038, 43043, 43048, 44689, 44822, 44823, 44824, 46170, 46797, 48269, 59434, 59781, 62160, 63688, 64700, 67454, 67543, 67544, 70765, 73006, 74376, 74874, 74875, 74876, 74877, 76994, 77002, 77003, 78462, 78588, 78821, 81356, 84724, 84734, 84878, 87051, 90738, 90847, 92747, 93654, 95367, 97271, 97273, 97276, 97927, 98497, 99616]\n"
     ]
    }
   ],
   "source": [
    "all_xray_df['Priority Label']\n",
    "res = [i for i, val in enumerate(list(all_xray_df['Priority Label'])) if val == None]\n",
    "print(res)"
   ]
  },
  {
   "cell_type": "code",
   "execution_count": 16,
   "metadata": {},
   "outputs": [],
   "source": [
    "res = [i for i, val in enumerate(list(all_xray_df['Priority Label'])) if val == None]\n",
    "res\n",
    "rows=all_xray_df.index[res]\n",
    "all_xray_df=all_xray_df.drop(rows)"
   ]
  },
  {
   "cell_type": "code",
   "execution_count": 17,
   "metadata": {},
   "outputs": [
    {
     "data": {
      "text/html": [
       "<div>\n",
       "<style scoped>\n",
       "    .dataframe tbody tr th:only-of-type {\n",
       "        vertical-align: middle;\n",
       "    }\n",
       "\n",
       "    .dataframe tbody tr th {\n",
       "        vertical-align: top;\n",
       "    }\n",
       "\n",
       "    .dataframe thead th {\n",
       "        text-align: right;\n",
       "    }\n",
       "</style>\n",
       "<table border=\"1\" class=\"dataframe\">\n",
       "  <thead>\n",
       "    <tr style=\"text-align: right;\">\n",
       "      <th></th>\n",
       "      <th>Image Index</th>\n",
       "      <th>Finding Labels</th>\n",
       "      <th>Follow-up #</th>\n",
       "      <th>Patient ID</th>\n",
       "      <th>Patient Age</th>\n",
       "      <th>Patient Gender</th>\n",
       "      <th>View Position</th>\n",
       "      <th>OriginalImage[Width</th>\n",
       "      <th>Height]</th>\n",
       "      <th>OriginalImagePixelSpacing[x</th>\n",
       "      <th>...</th>\n",
       "      <th>Emphysema</th>\n",
       "      <th>Fibrosis</th>\n",
       "      <th>Hernia</th>\n",
       "      <th>Infiltration</th>\n",
       "      <th>Mass</th>\n",
       "      <th>No Finding</th>\n",
       "      <th>Nodule</th>\n",
       "      <th>Pleural_Thickening</th>\n",
       "      <th>Pneumonia</th>\n",
       "      <th>Pneumothorax</th>\n",
       "    </tr>\n",
       "  </thead>\n",
       "  <tbody>\n",
       "    <tr>\n",
       "      <th>90459</th>\n",
       "      <td>00022519_002.png</td>\n",
       "      <td>No Finding</td>\n",
       "      <td>2</td>\n",
       "      <td>22519</td>\n",
       "      <td>64</td>\n",
       "      <td>M</td>\n",
       "      <td>PA</td>\n",
       "      <td>2992</td>\n",
       "      <td>2991</td>\n",
       "      <td>0.143000</td>\n",
       "      <td>...</td>\n",
       "      <td>0.0</td>\n",
       "      <td>0.0</td>\n",
       "      <td>0.0</td>\n",
       "      <td>0.0</td>\n",
       "      <td>0.0</td>\n",
       "      <td>1.0</td>\n",
       "      <td>0.0</td>\n",
       "      <td>0.0</td>\n",
       "      <td>0.0</td>\n",
       "      <td>0.0</td>\n",
       "    </tr>\n",
       "    <tr>\n",
       "      <th>110901</th>\n",
       "      <td>00030246_001.png</td>\n",
       "      <td>No Finding</td>\n",
       "      <td>1</td>\n",
       "      <td>30246</td>\n",
       "      <td>68</td>\n",
       "      <td>M</td>\n",
       "      <td>PA</td>\n",
       "      <td>2021</td>\n",
       "      <td>2010</td>\n",
       "      <td>0.194311</td>\n",
       "      <td>...</td>\n",
       "      <td>0.0</td>\n",
       "      <td>0.0</td>\n",
       "      <td>0.0</td>\n",
       "      <td>0.0</td>\n",
       "      <td>0.0</td>\n",
       "      <td>1.0</td>\n",
       "      <td>0.0</td>\n",
       "      <td>0.0</td>\n",
       "      <td>0.0</td>\n",
       "      <td>0.0</td>\n",
       "    </tr>\n",
       "    <tr>\n",
       "      <th>80698</th>\n",
       "      <td>00019823_015.png</td>\n",
       "      <td>Infiltration</td>\n",
       "      <td>15</td>\n",
       "      <td>19823</td>\n",
       "      <td>30</td>\n",
       "      <td>M</td>\n",
       "      <td>PA</td>\n",
       "      <td>2966</td>\n",
       "      <td>2973</td>\n",
       "      <td>0.143000</td>\n",
       "      <td>...</td>\n",
       "      <td>0.0</td>\n",
       "      <td>0.0</td>\n",
       "      <td>0.0</td>\n",
       "      <td>1.0</td>\n",
       "      <td>0.0</td>\n",
       "      <td>0.0</td>\n",
       "      <td>0.0</td>\n",
       "      <td>0.0</td>\n",
       "      <td>0.0</td>\n",
       "      <td>0.0</td>\n",
       "    </tr>\n",
       "  </tbody>\n",
       "</table>\n",
       "<p>3 rows × 29 columns</p>\n",
       "</div>"
      ],
      "text/plain": [
       "             Image Index Finding Labels  Follow-up #  Patient ID  Patient Age  \\\n",
       "90459   00022519_002.png     No Finding            2       22519           64   \n",
       "110901  00030246_001.png     No Finding            1       30246           68   \n",
       "80698   00019823_015.png   Infiltration           15       19823           30   \n",
       "\n",
       "       Patient Gender View Position  OriginalImage[Width  Height]  \\\n",
       "90459               M            PA                 2992     2991   \n",
       "110901              M            PA                 2021     2010   \n",
       "80698               M            PA                 2966     2973   \n",
       "\n",
       "        OriginalImagePixelSpacing[x  ...  Emphysema  Fibrosis Hernia  \\\n",
       "90459                      0.143000  ...        0.0       0.0    0.0   \n",
       "110901                     0.194311  ...        0.0       0.0    0.0   \n",
       "80698                      0.143000  ...        0.0       0.0    0.0   \n",
       "\n",
       "       Infiltration  Mass  No Finding  Nodule  Pleural_Thickening  Pneumonia  \\\n",
       "90459           0.0   0.0         1.0     0.0                 0.0        0.0   \n",
       "110901          0.0   0.0         1.0     0.0                 0.0        0.0   \n",
       "80698           1.0   0.0         0.0     0.0                 0.0        0.0   \n",
       "\n",
       "        Pneumothorax  \n",
       "90459            0.0  \n",
       "110901           0.0  \n",
       "80698            0.0  \n",
       "\n",
       "[3 rows x 29 columns]"
      ]
     },
     "execution_count": 17,
     "metadata": {},
     "output_type": "execute_result"
    }
   ],
   "source": [
    "all_xray_df.sample(3)"
   ]
  },
  {
   "cell_type": "code",
   "execution_count": 18,
   "metadata": {},
   "outputs": [
    {
     "data": {
      "text/plain": [
       "array(['priority1', 'priority2', 'priority3', 'priority4'], dtype='<U9')"
      ]
     },
     "execution_count": 18,
     "metadata": {},
     "output_type": "execute_result"
    }
   ],
   "source": [
    "np.unique(list(all_xray_df['Priority Label']))"
   ]
  },
  {
   "cell_type": "code",
   "execution_count": 19,
   "metadata": {},
   "outputs": [
    {
     "data": {
      "text/plain": [
       "array(['priority1', 'priority2', 'priority3', 'priority4'], dtype=object)"
      ]
     },
     "execution_count": 19,
     "metadata": {},
     "output_type": "execute_result"
    }
   ],
   "source": [
    "all_priorities = np.unique(all_xray_df['Priority Label'])\n",
    "#all_priorities = [x for x in all_priorities if len(x)>0]\n",
    "all_priorities"
   ]
  },
  {
   "cell_type": "code",
   "execution_count": 20,
   "metadata": {},
   "outputs": [
    {
     "name": "stdout",
     "output_type": "stream",
     "text": [
      "All Priorities (4): ['priority1' 'priority2' 'priority3' 'priority4']\n"
     ]
    },
    {
     "data": {
      "text/html": [
       "<div>\n",
       "<style scoped>\n",
       "    .dataframe tbody tr th:only-of-type {\n",
       "        vertical-align: middle;\n",
       "    }\n",
       "\n",
       "    .dataframe tbody tr th {\n",
       "        vertical-align: top;\n",
       "    }\n",
       "\n",
       "    .dataframe thead th {\n",
       "        text-align: right;\n",
       "    }\n",
       "</style>\n",
       "<table border=\"1\" class=\"dataframe\">\n",
       "  <thead>\n",
       "    <tr style=\"text-align: right;\">\n",
       "      <th></th>\n",
       "      <th>Image Index</th>\n",
       "      <th>Finding Labels</th>\n",
       "      <th>Follow-up #</th>\n",
       "      <th>Patient ID</th>\n",
       "      <th>Patient Age</th>\n",
       "      <th>Patient Gender</th>\n",
       "      <th>View Position</th>\n",
       "      <th>OriginalImage[Width</th>\n",
       "      <th>Height]</th>\n",
       "      <th>OriginalImagePixelSpacing[x</th>\n",
       "      <th>...</th>\n",
       "      <th>Mass</th>\n",
       "      <th>No Finding</th>\n",
       "      <th>Nodule</th>\n",
       "      <th>Pleural_Thickening</th>\n",
       "      <th>Pneumonia</th>\n",
       "      <th>Pneumothorax</th>\n",
       "      <th>priority1</th>\n",
       "      <th>priority2</th>\n",
       "      <th>priority3</th>\n",
       "      <th>priority4</th>\n",
       "    </tr>\n",
       "  </thead>\n",
       "  <tbody>\n",
       "    <tr>\n",
       "      <th>38422</th>\n",
       "      <td>00010044_001.png</td>\n",
       "      <td>Atelectasis</td>\n",
       "      <td>1</td>\n",
       "      <td>10044</td>\n",
       "      <td>62</td>\n",
       "      <td>M</td>\n",
       "      <td>AP</td>\n",
       "      <td>2500</td>\n",
       "      <td>2048</td>\n",
       "      <td>0.168</td>\n",
       "      <td>...</td>\n",
       "      <td>0.0</td>\n",
       "      <td>0.0</td>\n",
       "      <td>0.0</td>\n",
       "      <td>0.0</td>\n",
       "      <td>0.0</td>\n",
       "      <td>0.0</td>\n",
       "      <td>0.0</td>\n",
       "      <td>0.0</td>\n",
       "      <td>1.0</td>\n",
       "      <td>0.0</td>\n",
       "    </tr>\n",
       "    <tr>\n",
       "      <th>25864</th>\n",
       "      <td>00006801_000.png</td>\n",
       "      <td>No Finding</td>\n",
       "      <td>0</td>\n",
       "      <td>6801</td>\n",
       "      <td>52</td>\n",
       "      <td>M</td>\n",
       "      <td>PA</td>\n",
       "      <td>2500</td>\n",
       "      <td>2048</td>\n",
       "      <td>0.171</td>\n",
       "      <td>...</td>\n",
       "      <td>0.0</td>\n",
       "      <td>1.0</td>\n",
       "      <td>0.0</td>\n",
       "      <td>0.0</td>\n",
       "      <td>0.0</td>\n",
       "      <td>0.0</td>\n",
       "      <td>0.0</td>\n",
       "      <td>0.0</td>\n",
       "      <td>0.0</td>\n",
       "      <td>1.0</td>\n",
       "    </tr>\n",
       "    <tr>\n",
       "      <th>96770</th>\n",
       "      <td>00025513_010.png</td>\n",
       "      <td>Infiltration</td>\n",
       "      <td>10</td>\n",
       "      <td>25513</td>\n",
       "      <td>10</td>\n",
       "      <td>F</td>\n",
       "      <td>AP</td>\n",
       "      <td>3056</td>\n",
       "      <td>2544</td>\n",
       "      <td>0.139</td>\n",
       "      <td>...</td>\n",
       "      <td>0.0</td>\n",
       "      <td>0.0</td>\n",
       "      <td>0.0</td>\n",
       "      <td>0.0</td>\n",
       "      <td>0.0</td>\n",
       "      <td>0.0</td>\n",
       "      <td>0.0</td>\n",
       "      <td>0.0</td>\n",
       "      <td>1.0</td>\n",
       "      <td>0.0</td>\n",
       "    </tr>\n",
       "  </tbody>\n",
       "</table>\n",
       "<p>3 rows × 33 columns</p>\n",
       "</div>"
      ],
      "text/plain": [
       "            Image Index Finding Labels  Follow-up #  Patient ID  Patient Age  \\\n",
       "38422  00010044_001.png    Atelectasis            1       10044           62   \n",
       "25864  00006801_000.png     No Finding            0        6801           52   \n",
       "96770  00025513_010.png   Infiltration           10       25513           10   \n",
       "\n",
       "      Patient Gender View Position  OriginalImage[Width  Height]  \\\n",
       "38422              M            AP                 2500     2048   \n",
       "25864              M            PA                 2500     2048   \n",
       "96770              F            AP                 3056     2544   \n",
       "\n",
       "       OriginalImagePixelSpacing[x  ...  Mass  No Finding Nodule  \\\n",
       "38422                        0.168  ...   0.0         0.0    0.0   \n",
       "25864                        0.171  ...   0.0         1.0    0.0   \n",
       "96770                        0.139  ...   0.0         0.0    0.0   \n",
       "\n",
       "      Pleural_Thickening  Pneumonia  Pneumothorax  priority1  priority2  \\\n",
       "38422                0.0        0.0           0.0        0.0        0.0   \n",
       "25864                0.0        0.0           0.0        0.0        0.0   \n",
       "96770                0.0        0.0           0.0        0.0        0.0   \n",
       "\n",
       "       priority3  priority4  \n",
       "38422        1.0        0.0  \n",
       "25864        0.0        1.0  \n",
       "96770        1.0        0.0  \n",
       "\n",
       "[3 rows x 33 columns]"
      ]
     },
     "execution_count": 20,
     "metadata": {},
     "output_type": "execute_result"
    }
   ],
   "source": [
    "print('All Priorities ({}): {}'.format(len(all_priorities), all_priorities))\n",
    "for p_label in all_priorities:\n",
    "    if len(p_label)>1: # leave out empty labels\n",
    "        all_xray_df[p_label] = all_xray_df['Priority Label'].map(lambda finding: 1.0 if p_label in finding else 0)\n",
    "all_xray_df.sample(3)"
   ]
  },
  {
   "cell_type": "code",
   "execution_count": 21,
   "metadata": {
    "scrolled": true
   },
   "outputs": [
    {
     "name": "stdout",
     "output_type": "stream",
     "text": [
      "Atelectasis: 0.104575\n",
      "Cardiomegaly: 0.024267\n",
      "Consolidation: 0.041859\n",
      "Edema: 0.021072\n",
      "Effusion: 0.121629\n",
      "Emphysema: 0.022493\n",
      "Fibrosis: 0.013790\n",
      "Infiltration: 0.179267\n",
      "Mass: 0.053454\n",
      "No Finding: 0.535636\n",
      "Nodule: 0.057698\n",
      "Pleural_Thickening: 0.029991\n",
      "Pneumonia: 0.012702\n",
      "Pneumothorax: 0.047652\n",
      "[8, 4, 2, 1]\n",
      "[0.08259729 0.01916691 0.03306214 0.01664331 0.09606676 0.01776577\n",
      " 0.01089169 0.14159203 0.04221983 0.42306531 0.04557172 0.02368769\n",
      " 0.01003244 0.03763711]\n",
      "[0.04765172 0.0300886  0.3866238  0.53563588]\n"
     ]
    }
   ],
   "source": [
    "for c_label, s_count in zip(all_labels, np.mean(all_xray_df[all_labels].values,0)):\n",
    "    print('%s: %f' % (c_label, s_count))\n",
    "arrivals=np.array(np.mean(all_xray_df[all_labels].values,0))\n",
    "arrivals=arrivals/arrivals.sum(axis=0,keepdims=True)\n",
    "disease_priority=np.array([[0,0,1,0],[0,0,1,0],[0,0,1,0],[0,1,0,0],[0,0,1,0],\n",
    "                  [0,0,1,0],[0,0,1,0],[0,0,1,0],[0,0,1,0],[0,0,0,1],\n",
    "                  [0,0,1,0],[0,0,1,0],[0,1,0,0],[1,0,0,0]])\n",
    "priority_cost=[8,4,2,1]\n",
    "priority_costs=[8,4,2,1]\n",
    "#print(disease_priority)\n",
    "print(priority_cost)\n",
    "costs=np.matmul(disease_priority,priority_cost)\n",
    "print(arrivals)\n",
    "priority_arrivals=np.array(np.mean(all_xray_df[all_priorities].values,0))\n",
    "rho_s=0.95\n",
    "print(priority_arrivals)"
   ]
  },
  {
   "cell_type": "code",
   "execution_count": 22,
   "metadata": {},
   "outputs": [
    {
     "name": "stdout",
     "output_type": "stream",
     "text": [
      "[2 2 2 4 2 2 2 2 2 1 2 2 4 8]\n",
      "[1.05263158 1.05263158 1.05263158 1.05263158 1.05263158 1.05263158\n",
      " 1.05263158 1.05263158 1.05263158 1.05263158 1.05263158 1.05263158\n",
      " 1.05263158 1.05263158]\n",
      "[0.07846742 0.01820856 0.03140903 0.01581115 0.09126342 0.01687748\n",
      " 0.01034711 0.13451243 0.04010884 0.40191205 0.04329313 0.02250331\n",
      " 0.00953081 0.03575526]\n",
      "[0.04526913 0.02858417 0.36729261 0.50885408]\n"
     ]
    }
   ],
   "source": [
    "priority_arrivals=priority_arrivals/priority_arrivals.sum(axis=0,keepdims=True)\n",
    "priority_service=np.repeat(1/rho_s,n_priorities)\n",
    "print(costs)\n",
    "service=np.repeat(1/rho_s,len(all_labels))\n",
    "print(service)\n",
    "rho=arrivals/service\n",
    "print(rho)\n",
    "priority_rho = priority_arrivals/priority_service\n",
    "print(priority_rho)\n",
    "parameters=pd.DataFrame(np.column_stack((all_labels,np.mean(all_xray_df[all_labels].values,0),arrivals,service,costs,rho)))"
   ]
  },
  {
   "cell_type": "code",
   "execution_count": 23,
   "metadata": {},
   "outputs": [],
   "source": [
    "costs=np.array(pd.to_numeric(pd.Series(parameters[4].values)))\n",
    "arrivals=np.array(pd.to_numeric(pd.Series(parameters[2].values)))\n",
    "service=np.array(pd.to_numeric(pd.Series(parameters[3].values)))\n",
    "rho=np.array(pd.to_numeric(pd.Series(parameters[5].values)))"
   ]
  },
  {
   "cell_type": "code",
   "execution_count": 24,
   "metadata": {},
   "outputs": [
    {
     "name": "stdout",
     "output_type": "stream",
     "text": [
      "Atelectasis           10670.0\n",
      "Cardiomegaly           2476.0\n",
      "Consolidation          4271.0\n",
      "Edema                  2150.0\n",
      "Effusion              12410.0\n",
      "Emphysema              2295.0\n",
      "Fibrosis               1407.0\n",
      "Infiltration          18291.0\n",
      "Mass                   5454.0\n",
      "No Finding            54652.0\n",
      "Nodule                 5887.0\n",
      "Pleural_Thickening     3060.0\n",
      "Pneumonia              1296.0\n",
      "Pneumothorax           4862.0\n",
      "dtype: float64\n",
      "priority1     4862.0\n",
      "priority2     3070.0\n",
      "priority3    39448.0\n",
      "priority4    54652.0\n",
      "dtype: float64\n"
     ]
    }
   ],
   "source": [
    "print(all_xray_df[all_labels].sum())\n",
    "print(all_xray_df[all_priorities].sum())"
   ]
  },
  {
   "cell_type": "code",
   "execution_count": null,
   "metadata": {},
   "outputs": [],
   "source": [
    "all_xray_df1 = all_xray_df[all_xray_df['Priority Label'] == \"priority1\"].sample(frac=5,replace=True)\n"
   ]
  },
  {
   "cell_type": "code",
   "execution_count": null,
   "metadata": {},
   "outputs": [],
   "source": [
    "all_xray_df2 = all_xray_df[all_xray_df['Priority Label'] == \"priority2\"].sample(frac=10,replace=True)"
   ]
  },
  {
   "cell_type": "code",
   "execution_count": null,
   "metadata": {},
   "outputs": [],
   "source": [
    "all_xray_df3 = all_xray_df[all_xray_df['Priority Label'] == \"priority3\"]"
   ]
  },
  {
   "cell_type": "code",
   "execution_count": null,
   "metadata": {},
   "outputs": [],
   "source": [
    "all_xray_df_bal = pd.concat([all_xray_df,all_xray_df1,all_xray_df2,all_xray_df3],ignore_index=True)"
   ]
  },
  {
   "cell_type": "code",
   "execution_count": null,
   "metadata": {},
   "outputs": [],
   "source": [
    "all_xray_df_bal=all_xray_df_bal.sample(frac=0.5)"
   ]
  },
  {
   "cell_type": "code",
   "execution_count": null,
   "metadata": {},
   "outputs": [
    {
     "name": "stdout",
     "output_type": "stream",
     "text": [
      "priority1    14598.0\n",
      "priority2    16972.0\n",
      "priority3    39436.0\n",
      "priority4    27239.0\n",
      "dtype: float64\n"
     ]
    }
   ],
   "source": [
    "print(all_xray_df_bal[all_priorities].sum())"
   ]
  },
  {
   "cell_type": "code",
   "execution_count": null,
   "metadata": {
    "scrolled": true
   },
   "outputs": [
    {
     "data": {
      "image/png": "[encoded data removed]",
      "text/plain": [
       "<Figure size 864x576 with 1 Axes>"
      ]
     },
     "metadata": {
      "needs_background": "light"
     },
     "output_type": "display_data"
    }
   ],
   "source": [
    "label_counts = all_xray_df_bal[all_priorities].sum()\n",
    "fig, ax1 = plt.subplots(1,1,figsize = (12, 8))\n",
    "ax1.bar(np.arange(len(label_counts))+0.5, label_counts)\n",
    "ax1.set_xticks(np.arange(len(label_counts))+0.5)\n",
    "_ = ax1.set_xticklabels(label_counts.index, rotation = 90)"
   ]
  },
  {
   "cell_type": "code",
   "execution_count": null,
   "metadata": {
    "_cell_guid": "277caf38-f13d-4939-9eef-55efaf73020e",
    "_uuid": "cb9f18a64740580e1c541b8631d45720be5f36fe"
   },
   "outputs": [
    {
     "data": {
      "image/png": "[encoded data removed]",
      "text/plain": [
       "<Figure size 864x576 with 1 Axes>"
      ]
     },
     "metadata": {
      "needs_background": "light"
     },
     "output_type": "display_data"
    }
   ],
   "source": [
    "label_counts = 100*np.mean(all_xray_df_bal[all_labels].values,0)\n",
    "fig, ax1 = plt.subplots(1,1,figsize = (12, 8))\n",
    "ax1.bar(np.arange(len(label_counts))+0.5, label_counts)\n",
    "ax1.set_xticks(np.arange(len(label_counts))+0.5)\n",
    "ax1.set_xticklabels(all_labels, rotation = 90)\n",
    "ax1.set_title('Adjusted Frequency of Diseases in Patient Group')\n",
    "_ = ax1.set_ylabel('Frequency (%)')"
   ]
  },
  {
   "cell_type": "markdown",
   "metadata": {
    "_cell_guid": "a1367d63-4c7b-4e47-b19f-9a26d1f89476",
    "_uuid": "6ed6489bbd618fb419ceca2bbd8c300694f1d4ed",
    "scrolled": true
   },
   "source": [
    "# Prepare Training Data\n",
    "Here we split the data into training and validation sets and create a single vector (disease_vec) with the 0/1 outputs for the disease status (what the model will try and predict)"
   ]
  },
  {
   "cell_type": "code",
   "execution_count": null,
   "metadata": {},
   "outputs": [],
   "source": [
    "all_xray_df['disease_vec'] = all_xray_df.apply(lambda x: [x[all_labels].values], 1).map(lambda x: x[0])\n",
    "all_xray_df['priority_vec'] = all_xray_df.apply(lambda x: [x[all_priorities].values], 1).map(lambda x: x[0])"
   ]
  },
  {
   "cell_type": "code",
   "execution_count": null,
   "metadata": {},
   "outputs": [
    {
     "name": "stdout",
     "output_type": "stream",
     "text": [
      "47168    [0.0, 0.0, 0.0, 0.0, 0.0, 0.0, 0.0, 0.0, 0.0, ...\n",
      "66131    [1.0, 0.0, 0.0, 0.0, 0.0, 0.0, 0.0, 0.0, 0.0, ...\n",
      "28315    [0.0, 0.0, 0.0, 0.0, 0.0, 0.0, 0.0, 0.0, 0.0, ...\n",
      "Name: disease_vec, dtype: object\n",
      "83413    [0.0, 0.0, 0.0, 1.0]\n",
      "58028    [1.0, 0.0, 0.0, 0.0]\n",
      "13981    [0.0, 0.0, 1.0, 0.0]\n",
      "Name: priority_vec, dtype: object\n"
     ]
    }
   ],
   "source": [
    "print(all_xray_df['disease_vec'].sample(3))\n",
    "print(all_xray_df['priority_vec'].sample(3))"
   ]
  },
  {
   "cell_type": "code",
   "execution_count": null,
   "metadata": {},
   "outputs": [],
   "source": [
    "all_xray_df_bal['disease_vec'] = all_xray_df_bal.apply(lambda x: [x[all_labels].values], 1).map(lambda x: x[0])\n",
    "all_xray_df_bal['priority_vec'] = all_xray_df_bal.apply(lambda x: [x[all_priorities].values], 1).map(lambda x: x[0])"
   ]
  },
  {
   "cell_type": "code",
   "execution_count": null,
   "metadata": {},
   "outputs": [
    {
     "name": "stdout",
     "output_type": "stream",
     "text": [
      "42980    [0.0, 0.0, 0.0, 1.0, 0.0, 0.0, 0.0, 1.0, 0.0, ...\n",
      "52288    [0.0, 0.0, 0.0, 0.0, 0.0, 0.0, 0.0, 0.0, 0.0, ...\n",
      "33462    [0.0, 0.0, 0.0, 0.0, 0.0, 0.0, 0.0, 0.0, 0.0, ...\n",
      "Name: disease_vec, dtype: object\n",
      "44630    [0.0, 0.0, 1.0, 0.0]\n",
      "74823    [0.0, 0.0, 1.0, 0.0]\n",
      "33964    [0.0, 0.0, 1.0, 0.0]\n",
      "Name: priority_vec, dtype: object\n"
     ]
    }
   ],
   "source": [
    "print(all_xray_df_bal['disease_vec'].sample(3))\n",
    "print(all_xray_df_bal['priority_vec'].sample(3))"
   ]
  },
  {
   "cell_type": "code",
   "execution_count": null,
   "metadata": {},
   "outputs": [],
   "source": [
    "import random\n",
    "random.seed(100)\n",
    "optimal_cut_off=[0.18122388,\n",
    " 0.035741962,\n",
    " 0.06785967,\n",
    " 0.020848934,\n",
    " 0.22941357,\n",
    " 0.024166264,\n",
    " 0.019189345,\n",
    " 0.25657886,\n",
    " 0.092459075,\n",
    " 0.21176982,\n",
    " 0.09132234,\n",
    " 0.041559752,\n",
    " 0.013046792,\n",
    " 0.06757383]\n",
    "thresholds_accuracy=optimal_cut_off"
   ]
  },
  {
   "cell_type": "code",
   "execution_count": null,
   "metadata": {
    "_cell_guid": "5feddc96-7958-4d34-81f1-10eba94ab1b6",
    "_uuid": "8c7dc722de08243cc763d23928708f9c040bbdc6"
   },
   "outputs": [
    {
     "name": "stderr",
     "output_type": "stream",
     "text": [
      "/home/ubuntu/anaconda3/lib/python3.7/site-packages/sklearn/model_selection/_split.py:1462: DeprecationWarning: `np.int` is a deprecated alias for the builtin `int`. To silence this warning, use `int` by itself. Doing this will not modify any behavior and is safe. When replacing `np.int`, you may wish to use e.g. `np.int64` or `np.int32` to specify the precision. If you wish to review your current use, check the release note link for additional information.\n",
      "Deprecated in NumPy 1.20; for more details and guidance: https://numpy.org/devdocs/release/1.20.0-notes.html#deprecations\n",
      "  return floored.astype(np.int)\n",
      "/home/ubuntu/anaconda3/lib/python3.7/site-packages/sklearn/model_selection/_split.py:1462: DeprecationWarning: `np.int` is a deprecated alias for the builtin `int`. To silence this warning, use `int` by itself. Doing this will not modify any behavior and is safe. When replacing `np.int`, you may wish to use e.g. `np.int64` or `np.int32` to specify the precision. If you wish to review your current use, check the release note link for additional information.\n",
      "Deprecated in NumPy 1.20; for more details and guidance: https://numpy.org/devdocs/release/1.20.0-notes.html#deprecations\n",
      "  return floored.astype(np.int)\n"
     ]
    }
   ],
   "source": [
    "df=all_xray_df.sample(40000)\n",
    "from sklearn.model_selection import train_test_split\n",
    "valid_df, test_df = train_test_split(df, \n",
    "                                   test_size = 0.5, \n",
    "                                   random_state = 2018,\n",
    "                                   stratify = df['Priority Label'])"
   ]
  },
  {
   "cell_type": "code",
   "execution_count": null,
   "metadata": {},
   "outputs": [],
   "source": [
    "train_df = all_xray_df_bal"
   ]
  },
  {
   "cell_type": "code",
   "execution_count": null,
   "metadata": {},
   "outputs": [
    {
     "name": "stdout",
     "output_type": "stream",
     "text": [
      "train (98245, 35) validation (20000, 35) test (20000, 35)\n"
     ]
    }
   ],
   "source": [
    "print('train', train_df.shape, 'validation', valid_df.shape,'test', test_df.shape)"
   ]
  },
  {
   "cell_type": "code",
   "execution_count": null,
   "metadata": {},
   "outputs": [
    {
     "name": "stdout",
     "output_type": "stream",
     "text": [
      "             Image Index                            Finding Labels  \\\n",
      "108765  00003072_016.png  Effusion|Pleural_Thickening|Pneumothorax   \n",
      "77393   00021610_009.png                         Infiltration|Mass   \n",
      "195256  00029572_004.png                     Cardiomegaly|Effusion   \n",
      "\n",
      "        Follow-up #  Patient ID  Patient Age Patient Gender View Position  \\\n",
      "108765           16        3072           51              M            PA   \n",
      "77393             9       21610           45              M            AP   \n",
      "195256            4       29572           35              F            PA   \n",
      "\n",
      "        OriginalImage[Width  Height]  OriginalImagePixelSpacing[x  ...  \\\n",
      "108765                 2500     2048                     0.168000  ...   \n",
      "77393                  3056     2544                     0.139000  ...   \n",
      "195256                 2021     2021                     0.194311  ...   \n",
      "\n",
      "        Pneumonia  Pneumothorax priority1 priority2  priority3  priority4  \\\n",
      "108765        0.0           1.0       1.0       0.0        0.0        0.0   \n",
      "77393         0.0           0.0       0.0       0.0        1.0        0.0   \n",
      "195256        0.0           0.0       0.0       0.0        1.0        0.0   \n",
      "\n",
      "                                              disease_vec  \\\n",
      "108765  [0.0, 0.0, 0.0, 0.0, 1.0, 0.0, 0.0, 0.0, 0.0, ...   \n",
      "77393   [0.0, 0.0, 0.0, 0.0, 0.0, 0.0, 0.0, 1.0, 1.0, ...   \n",
      "195256  [0.0, 1.0, 0.0, 0.0, 1.0, 0.0, 0.0, 0.0, 0.0, ...   \n",
      "\n",
      "                priority_vec                                      newLabel  \\\n",
      "108765  [1.0, 0.0, 0.0, 0.0]  [Effusion, Pleural_Thickening, Pneumothorax]   \n",
      "77393   [0.0, 0.0, 1.0, 0.0]                          [Infiltration, Mass]   \n",
      "195256  [0.0, 0.0, 1.0, 0.0]                      [Cardiomegaly, Effusion]   \n",
      "\n",
      "        newLabelP  \n",
      "108765  priority1  \n",
      "77393   priority3  \n",
      "195256  priority3  \n",
      "\n",
      "[3 rows x 37 columns]\n"
     ]
    }
   ],
   "source": [
    "train_df['newLabel'] = train_df.apply(lambda x: x['Finding Labels'].split('|'), axis=1)\n",
    "train_df['newLabelP'] = train_df['Priority Label']\n",
    "print(train_df.sample(3))"
   ]
  },
  {
   "cell_type": "code",
   "execution_count": null,
   "metadata": {},
   "outputs": [
    {
     "name": "stdout",
     "output_type": "stream",
     "text": [
      "            Image Index Finding Labels  Follow-up #  Patient ID  Patient Age  \\\n",
      "33970  00008890_000.png     No Finding            0        8890           38   \n",
      "80820  00019863_000.png    Atelectasis            0       19863           34   \n",
      "37154  00009802_000.png     No Finding            0        9802           42   \n",
      "\n",
      "      Patient Gender View Position  OriginalImage[Width  Height]  \\\n",
      "33970              M            PA                 2500     2048   \n",
      "80820              F            AP                 3056     2544   \n",
      "37154              M            PA                 2834     2991   \n",
      "\n",
      "       OriginalImagePixelSpacing[x  ...  Pneumonia  Pneumothorax priority1  \\\n",
      "33970                        0.168  ...        0.0           0.0       0.0   \n",
      "80820                        0.139  ...        0.0           0.0       0.0   \n",
      "37154                        0.143  ...        0.0           0.0       0.0   \n",
      "\n",
      "      priority2  priority3  priority4  \\\n",
      "33970       0.0        0.0        1.0   \n",
      "80820       0.0        1.0        0.0   \n",
      "37154       0.0        0.0        1.0   \n",
      "\n",
      "                                             disease_vec  \\\n",
      "33970  [0.0, 0.0, 0.0, 0.0, 0.0, 0.0, 0.0, 0.0, 0.0, ...   \n",
      "80820  [1.0, 0.0, 0.0, 0.0, 0.0, 0.0, 0.0, 0.0, 0.0, ...   \n",
      "37154  [0.0, 0.0, 0.0, 0.0, 0.0, 0.0, 0.0, 0.0, 0.0, ...   \n",
      "\n",
      "               priority_vec       newLabel  newLabelP  \n",
      "33970  [0.0, 0.0, 0.0, 1.0]   [No Finding]  priority4  \n",
      "80820  [0.0, 0.0, 1.0, 0.0]  [Atelectasis]  priority3  \n",
      "37154  [0.0, 0.0, 0.0, 1.0]   [No Finding]  priority4  \n",
      "\n",
      "[3 rows x 37 columns]\n"
     ]
    },
    {
     "name": "stderr",
     "output_type": "stream",
     "text": [
      "/home/ubuntu/anaconda3/lib/python3.7/site-packages/ipykernel_launcher.py:1: SettingWithCopyWarning: \n",
      "A value is trying to be set on a copy of a slice from a DataFrame.\n",
      "Try using .loc[row_indexer,col_indexer] = value instead\n",
      "\n",
      "See the caveats in the documentation: http://pandas.pydata.org/pandas-docs/stable/indexing.html#indexing-view-versus-copy\n",
      "  \"\"\"Entry point for launching an IPython kernel.\n",
      "/home/ubuntu/anaconda3/lib/python3.7/site-packages/ipykernel_launcher.py:2: SettingWithCopyWarning: \n",
      "A value is trying to be set on a copy of a slice from a DataFrame.\n",
      "Try using .loc[row_indexer,col_indexer] = value instead\n",
      "\n",
      "See the caveats in the documentation: http://pandas.pydata.org/pandas-docs/stable/indexing.html#indexing-view-versus-copy\n",
      "  \n"
     ]
    }
   ],
   "source": [
    "valid_df['newLabel'] = valid_df.apply(lambda x: x['Finding Labels'].split('|'), axis=1)\n",
    "valid_df['newLabelP'] = valid_df['Priority Label']\n",
    "print(valid_df.sample(3))"
   ]
  },
  {
   "cell_type": "code",
   "execution_count": null,
   "metadata": {},
   "outputs": [
    {
     "name": "stdout",
     "output_type": "stream",
     "text": [
      "            Image Index Finding Labels  Follow-up #  Patient ID  Patient Age  \\\n",
      "98292  00025958_002.png     No Finding            2       25958            5   \n",
      "69939  00017236_021.png          Edema           21       17236           46   \n",
      "57393  00014238_000.png     No Finding            0       14238           55   \n",
      "\n",
      "      Patient Gender View Position  OriginalImage[Width  Height]  \\\n",
      "98292              F            AP                 3056     2544   \n",
      "69939              M            AP                 2500     2048   \n",
      "57393              F            PA                 2618     2991   \n",
      "\n",
      "       OriginalImagePixelSpacing[x  ...  Pneumonia  Pneumothorax priority1  \\\n",
      "98292                        0.139  ...        0.0           0.0       0.0   \n",
      "69939                        0.168  ...        0.0           0.0       0.0   \n",
      "57393                        0.143  ...        0.0           0.0       0.0   \n",
      "\n",
      "      priority2  priority3  priority4  \\\n",
      "98292       0.0        0.0        1.0   \n",
      "69939       1.0        0.0        0.0   \n",
      "57393       0.0        0.0        1.0   \n",
      "\n",
      "                                             disease_vec  \\\n",
      "98292  [0.0, 0.0, 0.0, 0.0, 0.0, 0.0, 0.0, 0.0, 0.0, ...   \n",
      "69939  [0.0, 0.0, 0.0, 1.0, 0.0, 0.0, 0.0, 0.0, 0.0, ...   \n",
      "57393  [0.0, 0.0, 0.0, 0.0, 0.0, 0.0, 0.0, 0.0, 0.0, ...   \n",
      "\n",
      "               priority_vec      newLabel  newLabelP  \n",
      "98292  [0.0, 0.0, 0.0, 1.0]  [No Finding]  priority4  \n",
      "69939  [0.0, 1.0, 0.0, 0.0]       [Edema]  priority2  \n",
      "57393  [0.0, 0.0, 0.0, 1.0]  [No Finding]  priority4  \n",
      "\n",
      "[3 rows x 37 columns]\n"
     ]
    },
    {
     "name": "stderr",
     "output_type": "stream",
     "text": [
      "/home/ubuntu/anaconda3/lib/python3.7/site-packages/ipykernel_launcher.py:1: SettingWithCopyWarning: \n",
      "A value is trying to be set on a copy of a slice from a DataFrame.\n",
      "Try using .loc[row_indexer,col_indexer] = value instead\n",
      "\n",
      "See the caveats in the documentation: http://pandas.pydata.org/pandas-docs/stable/indexing.html#indexing-view-versus-copy\n",
      "  \"\"\"Entry point for launching an IPython kernel.\n",
      "/home/ubuntu/anaconda3/lib/python3.7/site-packages/ipykernel_launcher.py:2: SettingWithCopyWarning: \n",
      "A value is trying to be set on a copy of a slice from a DataFrame.\n",
      "Try using .loc[row_indexer,col_indexer] = value instead\n",
      "\n",
      "See the caveats in the documentation: http://pandas.pydata.org/pandas-docs/stable/indexing.html#indexing-view-versus-copy\n",
      "  \n"
     ]
    }
   ],
   "source": [
    "test_df['newLabel'] = test_df.apply(lambda x: x['Finding Labels'].split('|'), axis=1)\n",
    "test_df['newLabelP'] = test_df['Priority Label']\n",
    "print(test_df.sample(3))"
   ]
  },
  {
   "cell_type": "code",
   "execution_count": null,
   "metadata": {},
   "outputs": [],
   "source": [
    "import tensorflow as tf\n",
    "def queue_wait_cost(pmat,costs,arrivals,service):\n",
    "    clambda = costs*arrivals\n",
    "    rho = arrivals/service\n",
    "    clambda_pmat = np.matmul(clambda,pmat)\n",
    "    rho_pmat = np.matmul(rho,pmat)\n",
    "    vec1=1-np.cumsum(rho_pmat)\n",
    "    vec2=np.roll(1-np.cumsum(rho_pmat),1)\n",
    "    vec2[0]=1\n",
    "    denom = (1/vec1)*(1/vec2)\n",
    "    return sum(clambda_pmat*denom)\n",
    "def queue_wait_cost_priority(pmat,priority_costs,priority_arrivals,priority_service):\n",
    "    clambda = priority_costs*priority_arrivals\n",
    "    rho = priority_arrivals/priority_service\n",
    "    clambda_pmat = np.matmul(clambda,pmat)\n",
    "    rho_pmat = np.matmul(rho,pmat)\n",
    "    vec1=1-np.cumsum(rho_pmat)\n",
    "    vec2=np.roll(1-np.cumsum(rho_pmat),1)\n",
    "    vec2[0]=1\n",
    "    denom = (1/vec1)*(1/vec2)\n",
    "    return sum(clambda_pmat*denom)\n",
    "def queue_loss(y_true,y_pred):\n",
    "    y_pred = y_pred/y_pred.sum(axis=1,keepdims=True)\n",
    "    pmat = np.matmul(np.transpose(y_true),y_pred)\n",
    "    pmat = pmat/pmat.sum(axis=1,keepdims=True)\n",
    "    clambda = costs*arrivals\n",
    "    rho = arrivals/service\n",
    "    clambda_pmat = np.matmul(clambda,pmat)\n",
    "    rho_pmat = np.matmul(rho,pmat)\n",
    "    vec1=1-np.cumsum(rho_pmat)\n",
    "    vec2=np.roll(1-np.cumsum(rho_pmat),1)\n",
    "    vec2[0]=1\n",
    "    denom = (1/vec1)*(1/vec2)\n",
    "    return sum(clambda_pmat*denom)\n",
    "\n",
    "def queue_loss_tensor(y_true,y_pred):\n",
    "    y_true = tf.cast(y_true, tf.float32)\n",
    "    y_pred = tf.cast(y_pred, tf.float32)\n",
    "    #y_pred = tf.divide(y_pred,tf.reduce_sum(y_pred,axis=1,keepdims=True)+0.000000000001)\n",
    "    pmat = tf.matmul(tf.transpose(y_true),y_pred)\n",
    "    pmat = tf.divide(pmat,tf.reduce_sum(pmat,axis=1,keepdims=True)+0.000000000001)\n",
    "    clambda = tf.reshape(tf.cast(tf.Variable(costs*arrivals),tf.float32),[1,14])\n",
    "    rho = tf.reshape(tf.cast(tf.Variable(arrivals/service),tf.float32),[1,14])\n",
    "    #print(rho.shape)\n",
    "    clambda_pmat = tf.matmul(clambda,pmat)\n",
    "    rho_pmat = tf.matmul(rho,pmat)\n",
    "    vec1=1-tf.cumsum(rho_pmat,axis=1)\n",
    "    #print(vec1)\n",
    "    vec2=tf.roll(1-tf.cumsum(rho_pmat,axis=1),shift=1,axis=1)\n",
    "    #print(vec2)\n",
    "    vec2=tf.tensor_scatter_nd_update(vec2,indices=[[0,0]],updates=[1])\n",
    "    #print(vec2)\n",
    "    #print (tf.math.reciprocal(vec2))\n",
    "    denom = tf.multiply(tf.math.reciprocal(vec1+0.00000000000001),tf.math.reciprocal(vec2+0.00000000000001))\n",
    "    return tf.reshape(tf.reduce_sum(tf.multiply(clambda_pmat,denom)),[])\n",
    "def queue_loss_tensor_priority(y_true,y_pred):\n",
    "    y_true = tf.cast(y_true, tf.float32)\n",
    "    y_pred = tf.cast(y_pred, tf.float32)\n",
    "    #y_pred = tf.divide(y_pred,tf.reduce_sum(y_pred,axis=1,keepdims=True)+0.000000000001)\n",
    "    pmat = tf.matmul(tf.transpose(y_true),y_pred)\n",
    "    pmat = tf.divide(pmat,tf.reduce_sum(pmat,axis=1,keepdims=True)+0.000000000001)\n",
    "    clambda = tf.reshape(tf.cast(tf.Variable(priority_costs*priority_arrivals),tf.float32),[1,n_priorities])\n",
    "    rho = tf.reshape(tf.cast(tf.Variable(priority_arrivals/priority_service),tf.float32),[1,n_priorities])\n",
    "    #print(rho.shape)\n",
    "    clambda_pmat = tf.matmul(clambda,pmat)\n",
    "    rho_pmat = tf.matmul(rho,pmat)\n",
    "    vec1=1-tf.cumsum(rho_pmat,axis=1)\n",
    "    #print(vec1)\n",
    "    vec2=tf.roll(1-tf.cumsum(rho_pmat,axis=1),shift=1,axis=1)\n",
    "    #print(vec2)\n",
    "    vec2=tf.tensor_scatter_nd_update(vec2,indices=[[0,0]],updates=[1])\n",
    "    #print(vec2)\n",
    "    #print (tf.math.reciprocal(vec2))\n",
    "    denom = tf.multiply(tf.math.reciprocal(vec1+0.00000000000001),tf.math.reciprocal(vec2+0.00000000000001))\n",
    "    return tf.reshape(tf.reduce_sum(tf.multiply(clambda_pmat,denom)),[])\n",
    "    "
   ]
  },
  {
   "cell_type": "markdown",
   "metadata": {},
   "source": [
    "# Training the Model"
   ]
  },
  {
   "cell_type": "code",
   "execution_count": null,
   "metadata": {},
   "outputs": [
    {
     "name": "stderr",
     "output_type": "stream",
     "text": [
      "Using TensorFlow backend.\n"
     ]
    }
   ],
   "source": [
    "from tensorflow.keras.applications.mobilenet import MobileNet\n",
    "from tensorflow.keras.layers import GlobalAveragePooling2D, Dense, Dropout, Flatten\n",
    "from tensorflow.keras.models import Sequential\n",
    "from keras import optimizers, callbacks, regularizers"
   ]
  },
  {
   "cell_type": "code",
   "execution_count": null,
   "metadata": {},
   "outputs": [],
   "source": [
    "def MakeModel1(IMG_SIZE, bs, channels=1):\n",
    "    model = Sequential()\n",
    "    base_mobilenet_model = MobileNet(input_shape =  (*IMG_SIZE, channels), #Need to define the shape here from IMG_SIZE\n",
    "                                 include_top = False, weights = None)\n",
    "    model.add(base_mobilenet_model)\n",
    "    model.add(GlobalAveragePooling2D())\n",
    "    model.add(Dropout(0.5))\n",
    "    model.add(Dense(512))\n",
    "    model.add(Dropout(0.5))\n",
    "    model.add(Dense(len(all_labels), activation = 'sigmoid'))\n",
    "    return model\n",
    "def MakeModel2(n_priorities,IMG_SIZE, bs, channels=1):\n",
    "    model = Sequential()\n",
    "    base_mobilenet_model = MobileNet(input_shape =  (*IMG_SIZE, channels), #Need to define the shape here from IMG_SIZE\n",
    "                                 include_top = False, weights = None)\n",
    "    model.add(base_mobilenet_model)\n",
    "    model.add(GlobalAveragePooling2D())\n",
    "    model.add(Dropout(0.5))\n",
    "    model.add(Dense(512))\n",
    "    model.add(Dropout(0.5))\n",
    "    model.add(Dense(len(all_labels),activation = 'sigmoid'))\n",
    "    model.add(Dense(n_priorities, activation = 'softmax'))\n",
    "    return model\n",
    "def MakeModel3(n_priorities,IMG_SIZE, bs, channels=1):\n",
    "    model = Sequential()\n",
    "    base_mobilenet_model = MobileNet(input_shape =  (*IMG_SIZE, channels), #Need to define the shape here from IMG_SIZE\n",
    "                                 include_top = False, weights = None)\n",
    "    model.add(base_mobilenet_model)\n",
    "    model.add(GlobalAveragePooling2D())\n",
    "    model.add(Dropout(0.5))\n",
    "    model.add(Dense(512))\n",
    "    model.add(Dropout(0.5))\n",
    "    model.add(Dense(n_priorities, activation = 'softmax'))\n",
    "    return model"
   ]
  },
  {
   "cell_type": "code",
   "execution_count": null,
   "metadata": {},
   "outputs": [],
   "source": [
    "from keras.preprocessing.image import ImageDataGenerator\n",
    "core_idg = ImageDataGenerator(samplewise_center=True, \n",
    "                              samplewise_std_normalization=True, \n",
    "                              horizontal_flip = True, \n",
    "                              vertical_flip = False, \n",
    "                              height_shift_range= 0.05, \n",
    "                              width_shift_range=0.1, \n",
    "                              rotation_range=5, \n",
    "                              shear_range = 0.1,\n",
    "                              fill_mode = 'reflect',\n",
    "                              zoom_range=0.15)"
   ]
  },
  {
   "cell_type": "code",
   "execution_count": null,
   "metadata": {},
   "outputs": [],
   "source": [
    "n_priorities=4"
   ]
  },
  {
   "cell_type": "code",
   "execution_count": null,
   "metadata": {},
   "outputs": [
    {
     "name": "stdout",
     "output_type": "stream",
     "text": [
      "Found 98245 validated image filenames belonging to 4 classes.\n",
      "Found 20000 validated image filenames belonging to 4 classes.\n"
     ]
    }
   ],
   "source": [
    "lr = 0.0005\n",
    "syntheticBatch = 256\n",
    "imageSize = (512, 512)\n",
    "colorMode = 'rgb'\n",
    "channels = 3\n",
    "batchSize = 32\n",
    "batch = int(256 / batchSize)\n",
    "STEPS_PER_EPOCH = 1000\n",
    "EPOCHS = 20\n",
    "from tensorflow.keras.callbacks import ModelCheckpoint, LearningRateScheduler, EarlyStopping, ReduceLROnPlateau\n",
    "weight_path=\"{}_weights.best.queue_r_2_rho_0.95.june9.hdf5\".format('xray_class')\n",
    "checkpoint = ModelCheckpoint(weight_path, monitor='val_loss', verbose=1, \n",
    "                             save_best_only=True, mode='min', save_weights_only = True)\n",
    "\n",
    "early = EarlyStopping(monitor=\"val_loss\", \n",
    "                      mode=\"min\", \n",
    "                      patience=5)\n",
    "callbacks_list = [checkpoint, early]\n",
    "\n",
    "\n",
    "train_gen = core_idg.flow_from_dataframe(dataframe=train_df, \n",
    "                         directory=None,\n",
    "                         x_col = 'path',\n",
    "                        y_col = 'newLabelP', \n",
    "                         class_mode = 'categorical',\n",
    "                        target_size = imageSize,\n",
    "                         color_mode = colorMode,\n",
    "                        batch_size = batchSize)\n",
    "\n",
    "valid_gen = core_idg.flow_from_dataframe(dataframe=valid_df, \n",
    "                         directory=None,\n",
    "                         x_col = 'path',\n",
    "                        y_col = 'newLabelP', \n",
    "                        class_mode = 'categorical',\n",
    "                        target_size = imageSize,\n",
    "                         color_mode = colorMode,\n",
    "                        batch_size = batchSize) # we can use much larger batches for evaluation\n",
    "\n",
    "\n",
    "opt = tensorflow.keras.optimizers.Adam(\n",
    "    learning_rate=lr,\n",
    "    beta_1=0.9,\n",
    "    beta_2=0.999,\n",
    "    epsilon=1e-07,\n",
    "    amsgrad=False,\n",
    "    name=\"Adam\"\n",
    ")"
   ]
  },
  {
   "cell_type": "code",
   "execution_count": null,
   "metadata": {},
   "outputs": [],
   "source": [
    "multi_disease_model_p = MakeModel3(n_priorities,imageSize, batchSize, channels)"
   ]
  },
  {
   "cell_type": "code",
   "execution_count": null,
   "metadata": {},
   "outputs": [],
   "source": [
    "multi_disease_model_p.load_weights('xray_class_weights.best.queue_r_10.june1.hdf5')"
   ]
  },
  {
   "cell_type": "code",
   "execution_count": null,
   "metadata": {},
   "outputs": [
    {
     "name": "stderr",
     "output_type": "stream",
     "text": [
      "/home/ubuntu/anaconda3/lib/python3.7/site-packages/tensorflow/python/keras/engine/training.py:1844: UserWarning: `Model.fit_generator` is deprecated and will be removed in a future version. Please use `Model.fit`, which supports generators.\n",
      "  warnings.warn('`Model.fit_generator` is deprecated and '\n"
     ]
    },
    {
     "name": "stdout",
     "output_type": "stream",
     "text": [
      "Epoch 1/30\n",
      "  59/1000 [>.............................] - ETA: 39:46 - loss: 28.3768 - accuracy: 0.3841"
     ]
    }
   ],
   "source": [
    "multi_disease_model_p.compile(optimizer = opt, loss = queue_loss_tensor_priority,\n",
    "       run_eagerly=True,metrics = ['accuracy'])\n",
    "history_p = multi_disease_model_p.fit_generator(train_gen,                           \n",
    "              validation_data = valid_gen, \n",
    "              steps_per_epoch=1000,                                  \n",
    "              epochs = 30, \n",
    "              callbacks = callbacks_list)"
   ]
  },
  {
   "cell_type": "code",
   "execution_count": 53,
   "metadata": {},
   "outputs": [
    {
     "data": {
      "text/plain": [
       "{'loss': [28.17603302001953,\n",
       "  34.36729431152344,\n",
       "  35.99800491333008,\n",
       "  35.41164016723633,\n",
       "  36.13084411621094,\n",
       "  36.094932556152344],\n",
       " 'accuracy': [0.335875004529953,\n",
       "  0.17806249856948853,\n",
       "  0.14687392115592957,\n",
       "  0.1641875058412552,\n",
       "  0.15006250143051147,\n",
       "  0.14787499606609344],\n",
       " 'val_loss': [20.669105529785156,\n",
       "  27.09619140625,\n",
       "  26.5914306640625,\n",
       "  26.97545623779297,\n",
       "  26.93218994140625,\n",
       "  26.79911231994629],\n",
       " 'val_accuracy': [0.23999999463558197,\n",
       "  0.048250000923871994,\n",
       "  0.048250000923871994,\n",
       "  0.048250000923871994,\n",
       "  0.048250000923871994,\n",
       "  0.048250000923871994]}"
      ]
     },
     "execution_count": 53,
     "metadata": {},
     "output_type": "execute_result"
    }
   ],
   "source": [
    "history_p.history"
   ]
  },
  {
   "cell_type": "code",
   "execution_count": null,
   "metadata": {},
   "outputs": [],
   "source": []
  }
 ],
 "metadata": {
  "kernelspec": {
   "display_name": "Python 3",
   "language": "python",
   "name": "python3"
  },
  "language_info": {
   "codemirror_mode": {
    "name": "ipython",
    "version": 3
   },
   "file_extension": ".py",
   "mimetype": "text/x-python",
   "name": "python",
   "nbconvert_exporter": "python",
   "pygments_lexer": "ipython3",
   "version": "3.7.10"
  }
 },
 "nbformat": 4,
 "nbformat_minor": 1
}
